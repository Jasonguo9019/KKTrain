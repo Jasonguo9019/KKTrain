{
 "cells": [
  {
   "cell_type": "code",
   "execution_count": 1,
   "id": "b38d21f4-92fb-41ac-9bb2-f435c0cd80fe",
   "metadata": {
    "tags": []
   },
   "outputs": [
    {
     "name": "stderr",
     "output_type": "stream",
     "text": [
      "2023-10-19 21:19:01.310381: I tensorflow/core/platform/cpu_feature_guard.cc:182] This TensorFlow binary is optimized to use available CPU instructions in performance-critical operations.\n",
      "To enable the following instructions: SSE4.1 SSE4.2 AVX AVX2 FMA, in other operations, rebuild TensorFlow with the appropriate compiler flags.\n",
      "ERROR in cling::CIFactory::createCI(): cannot extract standard library include paths!\n",
      "Invoking:\n",
      "  LC_ALL=C x86_64-conda-linux-gnu-c++   -DNDEBUG -xc++ -E -v /dev/null 2>&1 | sed -n -e '/^.include/,${' -e '/^ \\/.*++/p' -e '}'\n",
      "Results was:\n",
      "With exit code 0\n"
     ]
    },
    {
     "name": "stdout",
     "output_type": "stream",
     "text": [
      "Welcome to JupyROOT 6.24/00\n"
     ]
    }
   ],
   "source": [
    "import glob, os\n",
    "import onnx\n",
    "import tf2onnx\n",
    "from tensorflow import keras\n",
    "import ROOT\n"
   ]
  },
  {
   "cell_type": "code",
   "execution_count": 2,
   "id": "0347a7c1-106d-45d7-b91e-48de80879a8f",
   "metadata": {
    "tags": []
   },
   "outputs": [
    {
     "name": "stdout",
     "output_type": "stream",
     "text": [
      "models/TrainBkgTTcpr.h5\n",
      "models/TrainBkgTTtpr.h5\n",
      "models/TrainBkgFinal.h5\n",
      "models/TrainBkgSeed.h5\n",
      "models/TrainBkgTrigger.h5\n",
      "model/TrainBkgDiag.h5\n",
      "WARNING:tensorflow:No training configuration found in the save file, so the model was *not* compiled. Compile it manually.\n"
     ]
    },
    {
     "name": "stderr",
     "output_type": "stream",
     "text": [
      "2023-10-19 21:19:06.115963: I tensorflow/core/common_runtime/process_util.cc:146] Creating new thread pool with default inter op setting: 128. Tune using inter_op_parallelism_threads for best performance.\n",
      "2023-10-19 21:19:06.276487: I tensorflow/core/grappler/devices.cc:75] Number of eligible GPUs (core count >= 8, compute capability >= 0.0): 0 (Note: TensorFlow was not compiled with CUDA or ROCm support)\n",
      "2023-10-19 21:19:06.276649: I tensorflow/core/grappler/clusters/single_machine.cc:358] Starting new session\n",
      "2023-10-19 21:19:06.357357: I tensorflow/core/common_runtime/process_util.cc:146] Creating new thread pool with default inter op setting: 128. Tune using inter_op_parallelism_threads for best performance.\n",
      "2023-10-19 21:19:06.365780: I tensorflow/core/grappler/devices.cc:75] Number of eligible GPUs (core count >= 8, compute capability >= 0.0): 0 (Note: TensorFlow was not compiled with CUDA or ROCm support)\n",
      "2023-10-19 21:19:06.365921: I tensorflow/core/grappler/clusters/single_machine.cc:358] Starting new session\n",
      "2023-10-19 21:19:06.604550: I tensorflow/core/grappler/devices.cc:75] Number of eligible GPUs (core count >= 8, compute capability >= 0.0): 0 (Note: TensorFlow was not compiled with CUDA or ROCm support)\n",
      "2023-10-19 21:19:06.604697: I tensorflow/core/grappler/clusters/single_machine.cc:358] Starting new session\n",
      "2023-10-19 21:19:06.663641: I tensorflow/core/grappler/devices.cc:75] Number of eligible GPUs (core count >= 8, compute capability >= 0.0): 0 (Note: TensorFlow was not compiled with CUDA or ROCm support)\n",
      "2023-10-19 21:19:06.663773: I tensorflow/core/grappler/clusters/single_machine.cc:358] Starting new session\n",
      "2023-10-19 21:19:06.810685: I tensorflow/core/grappler/devices.cc:75] Number of eligible GPUs (core count >= 8, compute capability >= 0.0): 0 (Note: TensorFlow was not compiled with CUDA or ROCm support)\n",
      "2023-10-19 21:19:06.810809: I tensorflow/core/grappler/clusters/single_machine.cc:358] Starting new session\n",
      "2023-10-19 21:19:06.864858: I tensorflow/core/grappler/devices.cc:75] Number of eligible GPUs (core count >= 8, compute capability >= 0.0): 0 (Note: TensorFlow was not compiled with CUDA or ROCm support)\n",
      "2023-10-19 21:19:06.864973: I tensorflow/core/grappler/clusters/single_machine.cc:358] Starting new session\n",
      "2023-10-19 21:19:07.010904: I tensorflow/core/grappler/devices.cc:75] Number of eligible GPUs (core count >= 8, compute capability >= 0.0): 0 (Note: TensorFlow was not compiled with CUDA or ROCm support)\n",
      "2023-10-19 21:19:07.011023: I tensorflow/core/grappler/clusters/single_machine.cc:358] Starting new session\n",
      "2023-10-19 21:19:07.064616: I tensorflow/core/grappler/devices.cc:75] Number of eligible GPUs (core count >= 8, compute capability >= 0.0): 0 (Note: TensorFlow was not compiled with CUDA or ROCm support)\n",
      "2023-10-19 21:19:07.064722: I tensorflow/core/grappler/clusters/single_machine.cc:358] Starting new session\n",
      "2023-10-19 21:19:07.202142: I tensorflow/core/grappler/devices.cc:75] Number of eligible GPUs (core count >= 8, compute capability >= 0.0): 0 (Note: TensorFlow was not compiled with CUDA or ROCm support)\n",
      "2023-10-19 21:19:07.202259: I tensorflow/core/grappler/clusters/single_machine.cc:358] Starting new session\n",
      "2023-10-19 21:19:07.256976: I tensorflow/core/grappler/devices.cc:75] Number of eligible GPUs (core count >= 8, compute capability >= 0.0): 0 (Note: TensorFlow was not compiled with CUDA or ROCm support)\n",
      "2023-10-19 21:19:07.257086: I tensorflow/core/grappler/clusters/single_machine.cc:358] Starting new session\n",
      "2023-10-19 21:19:07.394690: I tensorflow/core/grappler/devices.cc:75] Number of eligible GPUs (core count >= 8, compute capability >= 0.0): 0 (Note: TensorFlow was not compiled with CUDA or ROCm support)\n",
      "2023-10-19 21:19:07.394823: I tensorflow/core/grappler/clusters/single_machine.cc:358] Starting new session\n",
      "2023-10-19 21:19:07.453045: I tensorflow/core/grappler/devices.cc:75] Number of eligible GPUs (core count >= 8, compute capability >= 0.0): 0 (Note: TensorFlow was not compiled with CUDA or ROCm support)\n",
      "2023-10-19 21:19:07.453148: I tensorflow/core/grappler/clusters/single_machine.cc:358] Starting new session\n"
     ]
    }
   ],
   "source": [
    "for file in glob.glob(\"**/*.h5\", recursive= True):\n",
    "    print(file)\n",
    "    model = keras.models.load_model(file)\n",
    "    onnx_model_name = file[:-2] + \"onnx\"\n",
    "    onnx_model, _ = tf2onnx.convert.from_keras(model)\n",
    "    #print(\"The graph in model:\\n{}\".format(onnx_model.graph))\n",
    "    onnx.save_model(onnx_model, onnx_model_name)"
   ]
  },
  {
   "cell_type": "code",
   "execution_count": 4,
   "id": "50d65fc9-95e8-4bf4-b20b-4548e97423eb",
   "metadata": {},
   "outputs": [
    {
     "name": "stdout",
     "output_type": "stream",
     "text": [
      "models/TrainBkgTTcpr.onnx\n"
     ]
    },
    {
     "ename": "AttributeError",
     "evalue": "<namespace cppyy.gbl.TMVA.Experimental at 0xb8a0250> has no attribute 'SOFIE'. Full details:\n  type object 'Experimental' has no attribute 'SOFIE'\n  'TMVA::Experimental::SOFIE' is not a known C++ class\n  'SOFIE' is not a known C++ template\n  'SOFIE' is not a known C++ enum",
     "output_type": "error",
     "traceback": [
      "\u001b[0;31m---------------------------------------------------------------------------\u001b[0m",
      "\u001b[0;31mAttributeError\u001b[0m                            Traceback (most recent call last)",
      "Cell \u001b[0;32mIn[4], line 5\u001b[0m\n\u001b[1;32m      3\u001b[0m head, tail \u001b[38;5;241m=\u001b[39m os\u001b[38;5;241m.\u001b[39mpath\u001b[38;5;241m.\u001b[39msplit(\u001b[38;5;124m\"\u001b[39m\u001b[38;5;124mfile\u001b[39m\u001b[38;5;124m\"\u001b[39m)\n\u001b[1;32m      4\u001b[0m codename \u001b[38;5;241m=\u001b[39m head \u001b[38;5;241m+\u001b[39m tail[:\u001b[38;5;241m-\u001b[39m\u001b[38;5;241m4\u001b[39m] \u001b[38;5;241m+\u001b[39m \u001b[38;5;124m\"\u001b[39m\u001b[38;5;124mhxx\u001b[39m\u001b[38;5;124m\"\u001b[39m\n\u001b[0;32m----> 5\u001b[0m output_model \u001b[38;5;241m=\u001b[39m \u001b[43mROOT\u001b[49m\u001b[38;5;241;43m.\u001b[39;49m\u001b[43mTMVA\u001b[49m\u001b[38;5;241;43m.\u001b[39;49m\u001b[43mExperimental\u001b[49m\u001b[38;5;241;43m.\u001b[39;49m\u001b[43mSOFIE\u001b[49m\u001b[38;5;241m.\u001b[39mRModelParser_ONNX\u001b[38;5;241m.\u001b[39mParse(modelFile)\n\u001b[1;32m      7\u001b[0m output_model \u001b[38;5;241m=\u001b[39m ROOT\u001b[38;5;241m.\u001b[39mTMVA\u001b[38;5;241m.\u001b[39mExperimental\u001b[38;5;241m.\u001b[39mSOFIE\u001b[38;5;241m.\u001b[39mRModelParser_ONNX\u001b[38;5;241m.\u001b[39mParse(modelFile)\n\u001b[1;32m      8\u001b[0m output_model\u001b[38;5;241m.\u001b[39mGenerate()\n",
      "\u001b[0;31mAttributeError\u001b[0m: <namespace cppyy.gbl.TMVA.Experimental at 0xb8a0250> has no attribute 'SOFIE'. Full details:\n  type object 'Experimental' has no attribute 'SOFIE'\n  'TMVA::Experimental::SOFIE' is not a known C++ class\n  'SOFIE' is not a known C++ template\n  'SOFIE' is not a known C++ enum"
     ]
    }
   ],
   "source": [
    "for file in glob.glob(\"**/*.onnx\", recursive= True):\n",
    "    print(file)\n",
    "    head, tail = os.path.split(\"file\")\n",
    "    codename = head + tail[:-4] + \"hxx\"\n",
    "    output_model = ROOT.TMVA.Experimental.SOFIE.RModelParser_ONNX.Parse(modelFile)\n",
    "    output_model.Generate()\n",
    "    output_model.OutputGenerated(codename)\n",
    "#should work if SOFIE is included in root build"
   ]
  },
  {
   "cell_type": "code",
   "execution_count": null,
   "id": "0dbd534b-70cc-4930-aa20-621973031025",
   "metadata": {},
   "outputs": [],
   "source": []
  }
 ],
 "metadata": {
  "kernelspec": {
   "display_name": "MyEnvironment",
   "language": "python",
   "name": "env"
  },
  "language_info": {
   "codemirror_mode": {
    "name": "ipython",
    "version": 3
   },
   "file_extension": ".py",
   "mimetype": "text/x-python",
   "name": "python",
   "nbconvert_exporter": "python",
   "pygments_lexer": "ipython3",
   "version": "3.9.18"
  }
 },
 "nbformat": 4,
 "nbformat_minor": 5
}
