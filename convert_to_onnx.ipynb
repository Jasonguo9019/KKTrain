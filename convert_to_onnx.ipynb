{
 "cells": [
  {
   "cell_type": "code",
   "execution_count": 18,
   "id": "b38d21f4-92fb-41ac-9bb2-f435c0cd80fe",
   "metadata": {
    "tags": []
   },
   "outputs": [],
   "source": [
    "import glob, os\n",
    "import onnx\n",
    "import tf2onnx\n",
    "from tensorflow import keras\n"
   ]
  },
  {
   "cell_type": "code",
   "execution_count": 22,
   "id": "0347a7c1-106d-45d7-b91e-48de80879a8f",
   "metadata": {
    "tags": []
   },
   "outputs": [
    {
     "name": "stderr",
     "output_type": "stream",
     "text": [
      "2023-10-07 22:10:12.614299: I tensorflow/core/grappler/devices.cc:75] Number of eligible GPUs (core count >= 8, compute capability >= 0.0): 0 (Note: TensorFlow was not compiled with CUDA or ROCm support)\n",
      "2023-10-07 22:10:12.614531: I tensorflow/core/grappler/clusters/single_machine.cc:358] Starting new session\n",
      "2023-10-07 22:10:12.671244: I tensorflow/core/grappler/devices.cc:75] Number of eligible GPUs (core count >= 8, compute capability >= 0.0): 0 (Note: TensorFlow was not compiled with CUDA or ROCm support)\n",
      "2023-10-07 22:10:12.671372: I tensorflow/core/grappler/clusters/single_machine.cc:358] Starting new session\n",
      "2023-10-07 22:10:12.811987: I tensorflow/core/grappler/devices.cc:75] Number of eligible GPUs (core count >= 8, compute capability >= 0.0): 0 (Note: TensorFlow was not compiled with CUDA or ROCm support)\n",
      "2023-10-07 22:10:12.812110: I tensorflow/core/grappler/clusters/single_machine.cc:358] Starting new session\n",
      "2023-10-07 22:10:12.866723: I tensorflow/core/grappler/devices.cc:75] Number of eligible GPUs (core count >= 8, compute capability >= 0.0): 0 (Note: TensorFlow was not compiled with CUDA or ROCm support)\n",
      "2023-10-07 22:10:12.866843: I tensorflow/core/grappler/clusters/single_machine.cc:358] Starting new session\n",
      "2023-10-07 22:10:13.009959: I tensorflow/core/grappler/devices.cc:75] Number of eligible GPUs (core count >= 8, compute capability >= 0.0): 0 (Note: TensorFlow was not compiled with CUDA or ROCm support)\n",
      "2023-10-07 22:10:13.010076: I tensorflow/core/grappler/clusters/single_machine.cc:358] Starting new session\n",
      "2023-10-07 22:10:13.070215: I tensorflow/core/grappler/devices.cc:75] Number of eligible GPUs (core count >= 8, compute capability >= 0.0): 0 (Note: TensorFlow was not compiled with CUDA or ROCm support)\n",
      "2023-10-07 22:10:13.070341: I tensorflow/core/grappler/clusters/single_machine.cc:358] Starting new session\n",
      "2023-10-07 22:10:13.211650: I tensorflow/core/grappler/devices.cc:75] Number of eligible GPUs (core count >= 8, compute capability >= 0.0): 0 (Note: TensorFlow was not compiled with CUDA or ROCm support)\n",
      "2023-10-07 22:10:13.211759: I tensorflow/core/grappler/clusters/single_machine.cc:358] Starting new session\n",
      "2023-10-07 22:10:13.267692: I tensorflow/core/grappler/devices.cc:75] Number of eligible GPUs (core count >= 8, compute capability >= 0.0): 0 (Note: TensorFlow was not compiled with CUDA or ROCm support)\n",
      "2023-10-07 22:10:13.267811: I tensorflow/core/grappler/clusters/single_machine.cc:358] Starting new session\n"
     ]
    },
    {
     "name": "stdout",
     "output_type": "stream",
     "text": [
      "WARNING:tensorflow:No training configuration found in the save file, so the model was *not* compiled. Compile it manually.\n"
     ]
    },
    {
     "name": "stderr",
     "output_type": "stream",
     "text": [
      "2023-10-07 22:10:13.413482: I tensorflow/core/grappler/devices.cc:75] Number of eligible GPUs (core count >= 8, compute capability >= 0.0): 0 (Note: TensorFlow was not compiled with CUDA or ROCm support)\n",
      "2023-10-07 22:10:13.413603: I tensorflow/core/grappler/clusters/single_machine.cc:358] Starting new session\n",
      "2023-10-07 22:10:13.470269: I tensorflow/core/grappler/devices.cc:75] Number of eligible GPUs (core count >= 8, compute capability >= 0.0): 0 (Note: TensorFlow was not compiled with CUDA or ROCm support)\n",
      "2023-10-07 22:10:13.470384: I tensorflow/core/grappler/clusters/single_machine.cc:358] Starting new session\n",
      "2023-10-07 22:10:13.606476: I tensorflow/core/grappler/devices.cc:75] Number of eligible GPUs (core count >= 8, compute capability >= 0.0): 0 (Note: TensorFlow was not compiled with CUDA or ROCm support)\n",
      "2023-10-07 22:10:13.606592: I tensorflow/core/grappler/clusters/single_machine.cc:358] Starting new session\n",
      "2023-10-07 22:10:13.662864: I tensorflow/core/grappler/devices.cc:75] Number of eligible GPUs (core count >= 8, compute capability >= 0.0): 0 (Note: TensorFlow was not compiled with CUDA or ROCm support)\n",
      "2023-10-07 22:10:13.662995: I tensorflow/core/grappler/clusters/single_machine.cc:358] Starting new session\n"
     ]
    }
   ],
   "source": [
    "for file in glob.glob(\"**/*.h5\", recursive= True):\n",
    "     \n",
    "    model = keras.models.load_model(file)\n",
    "    onnx_model_name = file[:-2] + \"onnx\"\n",
    "    onnx_model, _ = tf2onnx.convert.from_keras(model)\n",
    "    onnx.save_model(onnx_model, onnx_model_name)"
   ]
  },
  {
   "cell_type": "code",
   "execution_count": null,
   "id": "2f1cb78b-7386-4e8b-bd83-9aac4233c51d",
   "metadata": {},
   "outputs": [],
   "source": []
  }
 ],
 "metadata": {
  "kernelspec": {
   "display_name": "MyEnvironment",
   "language": "python",
   "name": "env"
  },
  "language_info": {
   "codemirror_mode": {
    "name": "ipython",
    "version": 3
   },
   "file_extension": ".py",
   "mimetype": "text/x-python",
   "name": "python",
   "nbconvert_exporter": "python",
   "pygments_lexer": "ipython3",
   "version": "3.9.18"
  }
 },
 "nbformat": 4,
 "nbformat_minor": 5
}
