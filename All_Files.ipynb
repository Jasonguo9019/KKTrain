{
 "cells": [
  {
   "cell_type": "markdown",
   "id": "bb74a62f-a4a9-4e61-9415-58c8a06f5f75",
   "metadata": {},
   "source": [
    "# Hit classification"
   ]
  },
  {
   "cell_type": "markdown",
   "id": "8d61cb5d-7c43-4a94-9e3c-eb2889e69b88",
   "metadata": {},
   "source": [
    "In this notebook we will try to use Keras and XGBoost in order to distinguish between _true_ conversion electron hits and _fake_ conversion electron hits."
   ]
  },
  {
   "cell_type": "code",
   "execution_count": 67,
   "id": "52ce5426-86e5-4f6e-a7d5-a847d6e2ce97",
   "metadata": {},
   "outputs": [],
   "source": [
    "import uproot \n",
    "import awkward as ak\n",
    "import numpy as np\n",
    "import matplotlib.pyplot as plt\n",
    "import xgboost\n",
    "\n",
    "from tensorflow.keras.callbacks import EarlyStopping\n",
    "from tensorflow.keras.models import Sequential, Model\n",
    "from tensorflow.keras.layers import Dense, Dropout\n",
    "from tensorflow.keras.optimizers import Adam\n",
    "from sklearn.model_selection import train_test_split\n",
    "from sklearn.metrics import roc_curve, roc_auc_score\n",
    "from xgboost import XGBClassifier"
   ]
  },
  {
   "cell_type": "markdown",
   "id": "13b18db5-7d46-40ed-9a1b-528d48256097",
   "metadata": {},
   "source": [
    "First of all we use [uproot](https://uproot.readthedocs.io/en/latest/), a library to reading ROOT files in pure Python and NumPy, to open the `trkana` tree in the `TAKK` folder of the `KKSM01.root` file. We only need certain branches, so we apply a filter to read only `de`, `detsh`, `detshmc`, and `demc`. We then apply a mask to our tree to select only good fits. "
   ]
  },
  {
   "cell_type": "code",
   "execution_count": 68,
   "id": "4dc69ef3",
   "metadata": {},
   "outputs": [],
   "source": [
    "# with uproot.open(\"39501509/nts.brownd.KKSeed.KKSM.001210_00000024.root\") as file:\n",
    "#     trkana = file[\"TAKK\"][\"trkana\"].arrays(filter_name=\"/de|detsh|detshmc|demc/i\")\n",
    "#     trkana = trkana[(trkana['de.goodfit']==1)&(trkana['de.status']>0)&(trkana['demc.proc']==167)]\n",
    "    \n",
    "# with uproot.open(\"39501509/nts.brownd.KKSeed.KKSM.001210_00000008.root\") as file:\n",
    "#     trkana2 = file[\"TAKK\"][\"trkana\"].arrays(filter_name=\"/de|detsh|detshmc|demc/i\")\n",
    "#     trkana2 = trkana2[(trkana2['de.goodfit']==1)&(trkana2['de.status']>0)&(trkana2['demc.proc']==167)]"
   ]
  },
  {
   "cell_type": "markdown",
   "id": "81afa96c-4517-4bca-95c5-53ef01a36dc8",
   "metadata": {},
   "source": [
    "Then, we select the first 10000 events in the tree and concatenate the lists of the hit variables in a single, large array. These 5 arrays are then stacked in a single bi-dimensional array with `np.vstack`, which will be our input dataset used for the training of the machine learning algorithms."
   ]
  },
  {
   "cell_type": "code",
   "execution_count": 82,
   "id": "83ff4566-18f2-419a-af8b-679ffe222187",
   "metadata": {},
   "outputs": [
    {
     "name": "stdout",
     "output_type": "stream",
     "text": [
      "Processing: nts.brownd.KKSeed.KKSM.001210_00000024.root\n",
      "Processing: nts.brownd.KKSeed.KKSM.001210_00000005.root\n",
      "Processing: nts.brownd.KKSeed.KKSM.001210_00000120.root\n",
      "Processing: nts.brownd.KKSeed.KKSM.001210_00000026.root\n",
      "Processing: nts.brownd.KKSeed.KKSM.001210_00000050.root\n",
      "Processing: nts.brownd.KKSeed.KKSM.001210_00000031.root\n",
      "Processing: nts.brownd.KKSeed.KKSM.001210_00000202.root\n",
      "Processing: nts.brownd.KKSeed.KKSM.001210_00000173.root\n",
      "Processing: nts.brownd.KKSeed.KKSM.001210_00000128.root\n",
      "Processing: nts.brownd.KKSeed.KKSM.001210_00000012.root\n",
      "Processing: nts.brownd.KKSeed.KKSM.001210_00000061.root\n",
      "Processing: nts.brownd.KKSeed.KKSM.001210_00000110.root\n",
      "Processing: nts.brownd.KKSeed.KKSM.001210_00000008.root\n",
      "Processing: nts.brownd.KKSeed.KKSM.001210_00000390.root\n",
      "Processing: nts.brownd.KKSeed.KKSM.001210_00000018.root\n",
      "Processing: nts.brownd.KKSeed.KKSM.001210_00000170.root\n",
      "Processing: nts.brownd.KKSeed.KKSM.001210_00000103.root\n",
      "Processing: nts.brownd.KKSeed.KKSM.001210_00000032.root\n",
      "Processing: nts.brownd.KKSeed.KKSM.001210_00000135.root\n",
      "Processing: nts.brownd.KKSeed.KKSM.001210_00000059.root\n",
      "Processing: nts.brownd.KKSeed.KKSM.001210_00000023.root\n",
      "Processing: nts.brownd.KKSeed.KKSM.001210_00000256.root\n",
      "Processing: nts.brownd.KKSeed.KKSM.001210_00000104.root\n",
      "Processing: nts.brownd.KKSeed.KKSM.001210_00000034.root\n",
      "Processing: nts.brownd.KKSeed.KKSM.001210_00000126.root\n",
      "Processing: nts.brownd.KKSeed.KKSM.001210_00000011.root\n",
      "Processing: nts.brownd.KKSeed.KKSM.001210_00000062.root\n",
      "Processing: nts.brownd.KKSeed.KKSM.001210_00000073.root\n"
     ]
    }
   ],
   "source": [
    "import os\n",
    "input_dataset = np.empty\n",
    "temp = np.empty\n",
    "mcrel = []\n",
    "n_events = 100000\n",
    "\n",
    "for filename in os.listdir(\"39501509\"):\n",
    "    with uproot.open(\"39501509/\" + filename) as file:\n",
    "        trkana = file[\"TAKK\"][\"trkana\"].arrays(filter_name=\"/de|detsh|detshmc|demc/i\")\n",
    "        trkana = trkana[(trkana['de.goodfit']==1)&(trkana['de.status']>0)&(trkana['demc.proc']==167)]\n",
    "        \n",
    "    print(\"Processing: \" + filename)    \n",
    "    udt = np.add(ak.concatenate(trkana['detsh.udt'][:n_events]).to_numpy(), ak.concatenate(trkana['detsh.udt'][:n_events]).to_numpy())  \n",
    "    udoca = ak.concatenate(trkana['detsh.udoca'][:n_events]).to_numpy()\n",
    "    tottdrift = ak.concatenate(trkana['detsh.tottdrift'][:n_events]).to_numpy()\n",
    "    rdrift = ak.concatenate(trkana['detsh.rdrift'][:n_events]).to_numpy()\n",
    "    edep = ak.concatenate(trkana['detsh.edep'][:n_events]).to_numpy()\n",
    "    udocavar = ak.concatenate(trkana['detsh.udocavar'][:n_events]).to_numpy()\n",
    "    \n",
    "    # nonlocal input_dataset\n",
    "    temp = np.vstack((udt,udoca,tottdrift,rdrift,edep, udocavar)).T\n",
    "    if input_dataset is np.empty:\n",
    "        input_dataset = temp\n",
    "    else:\n",
    "        input_dataset = np.concatenate((input_dataset, temp))\n",
    "        \n",
    "    for i, this_dt in enumerate(trkana['detsh.udt'][:n_events]):\n",
    "        mcrel.extend(trkana['detshmc.rel._rel'][i][:len(this_dt)])"
   ]
  },
  {
   "cell_type": "code",
   "execution_count": 79,
   "id": "33b84b76-ff6a-44f2-88d6-39cbeb3def87",
   "metadata": {},
   "outputs": [],
   "source": [
    "# n_events = 100000\n",
    "    \n",
    "# udt = np.add(ak.concatenate(trkana['detsh.udt'][:n_events]).to_numpy(), ak.concatenate(trkana2['detsh.udt'][:n_events]).to_numpy())  \n",
    "# udoca = ak.concatenate(trkana['detsh.udoca'][:n_events]).to_numpy()\n",
    "# #wdoca = ak.concatenate(trkana['detsh.wdoca'][:n_events]).to_numpy()\n",
    "# tottdrift = ak.concatenate(trkana['detsh.tottdrift'][:n_events]).to_numpy()\n",
    "# rdrift = ak.concatenate(trkana['detsh.rdrift'][:n_events]).to_numpy()\n",
    "# edep = ak.concatenate(trkana['detsh.edep'][:n_events]).to_numpy()\n",
    "# udocavar = ak.concatenate(trkana['detsh.udocavar'][:n_events]).to_numpy()\n",
    "\n",
    "# input_dataset = np.vstack((udt,udoca,tottdrift,rdrift,edep, udocavar)).T\n",
    "# input_dataset.shape\n",
    "\n",
    "# udt = np.add(ak.concatenate(trkana2['detsh.udt'][:n_events]).to_numpy(), ak.concatenate(trkana2['detsh.udt'][:n_events]).to_numpy())  \n",
    "# udoca = ak.concatenate(trkana2['detsh.udoca'][:n_events]).to_numpy()\n",
    "# #wdoca = ak.concatenate(trkana['detsh.wdoca'][:n_events]).to_numpy()\n",
    "# tottdrift = ak.concatenate(trkana2['detsh.tottdrift'][:n_events]).to_numpy()\n",
    "# rdrift = ak.concatenate(trkana2['detsh.rdrift'][:n_events]).to_numpy()\n",
    "# edep = ak.concatenate(trkana2['detsh.edep'][:n_events]).to_numpy()\n",
    "# udocavar = ak.concatenate(trkana2['detsh.udocavar'][:n_events]).to_numpy()\n",
    "\n",
    "# input_dataset2 = np.vstack((udt,udoca,tottdrift,rdrift,edep, udocavar)).T\n",
    "# input_dataset2.shape"
   ]
  },
  {
   "cell_type": "code",
   "execution_count": 83,
   "id": "8089c603-34e9-45d2-9a70-d6f8f42c4e62",
   "metadata": {},
   "outputs": [
    {
     "data": {
      "text/plain": [
       "95062494"
      ]
     },
     "execution_count": 83,
     "metadata": {},
     "output_type": "execute_result"
    }
   ],
   "source": [
    "input_dataset.size"
   ]
  },
  {
   "cell_type": "code",
   "execution_count": 84,
   "id": "775e77e1-f522-436f-9a62-453f9faf7711",
   "metadata": {},
   "outputs": [
    {
     "data": {
      "text/plain": [
       "array([[ 5.7648129e+01,  4.7656989e+00,  2.5940001e+01,  1.7913989e+00,\n",
       "         1.1046684e-03,  1.4147425e+00],\n",
       "       [ 7.2247749e+01, -2.2574532e+00,  2.9799999e+01,  2.1788702e+00,\n",
       "         6.6243688e-04,  1.2921348e+00],\n",
       "       [ 1.6421026e+01,  4.7311935e-01,  9.1999998e+00,  5.6230474e-01,\n",
       "         2.1019636e-03,  1.0057594e+00],\n",
       "       [ 6.1896812e+01,  2.2926288e+00,  2.9799999e+01,  1.9389633e+00,\n",
       "         7.5161137e-04,  1.1045115e+00],\n",
       "       [ 3.9000038e+01, -1.2348986e+00,  9.1999998e+00,  1.2560899e+00,\n",
       "         2.7352830e-03,  6.4636987e-01],\n",
       "       [ 1.0763529e+01,  6.9148540e-01,  1.1880000e+01,  3.6844128e-01,\n",
       "         1.0191340e-03,  6.3366038e-01],\n",
       "       [ 4.6457218e+01, -1.2422106e+00,  1.7330000e+01,  1.4890779e+00,\n",
       "         1.1956624e-03,  7.1780831e-01],\n",
       "       [ 7.9403366e+01, -2.3876197e+00,  2.9799999e+01,  2.3981481e+00,\n",
       "         6.3877844e-04,  7.5119191e-01],\n",
       "       [ 2.6237534e+01, -1.4498879e+00,  2.5940001e+01,  8.7908059e-01,\n",
       "         1.1155878e-03,  3.4117237e-01],\n",
       "       [ 5.8749321e+01, -2.6565604e+00,  2.5940001e+01,  1.8199092e+00,\n",
       "         1.3539921e-03,  3.3456406e-01]], dtype=float32)"
      ]
     },
     "execution_count": 84,
     "metadata": {},
     "output_type": "execute_result"
    }
   ],
   "source": [
    "input_dataset[:10]"
   ]
  },
  {
   "cell_type": "markdown",
   "id": "0167fc47-dd84-4a31-98d0-a0270f04bfd5",
   "metadata": {},
   "source": [
    "Here we then assign a label to each hit as _signal_ or _background_, depending on the Monte Carlo truth information. Since the dimension of  `detshmc.rel._rel` is not guaranteed to be the same as the dimension of `detsh` we need to loop over all the entries."
   ]
  },
  {
   "cell_type": "code",
   "execution_count": 85,
   "id": "e546d312-4d8b-4757-9b0e-7293d9eae321",
   "metadata": {},
   "outputs": [],
   "source": [
    "# mcrel = []\n",
    "\n",
    "# for i, this_dt in enumerate(trkana['detsh.udt'][:n_events]):\n",
    "#     mcrel.extend(trkana['detshmc.rel._rel'][i][:len(this_dt)]) ## NEED TO PUT THIS INTO THE FOR EACH LOOP\n",
    "    \n",
    "mcrel = np.array(mcrel)\n",
    "true_ce = mcrel==0\n",
    "    \n",
    "signal = true_ce\n",
    "bkg = mcrel ==-1"
   ]
  },
  {
   "cell_type": "markdown",
   "id": "0c2e8445-92ff-416f-a9a8-2d071b1f0bb9",
   "metadata": {},
   "source": [
    "In our problem we have a different number of signal and background entries in our input dataset. There are several techniques avaialable for _unbalanced_ datasets. Here we are using the most naive one, which is just using $\\min(N_{sig}, N_{bkg})$ events. Then, we divide our input into the _training_, _validation_, and _test_ datasets."
   ]
  },
  {
   "cell_type": "code",
   "execution_count": 95,
   "id": "2ed7b23e-d3ab-4645-a905-c3d4090eb7ab",
   "metadata": {},
   "outputs": [],
   "source": [
    "min_len = min(len(input_dataset[signal]), len(input_dataset[bkg]))\n",
    "signal_dataset = input_dataset[signal][:min_len]\n",
    "bkg_dataset = input_dataset[bkg][:min_len]\n",
    "\n",
    "balanced_input = np.concatenate((signal_dataset, bkg_dataset))\n",
    "y_balanced_input = np.concatenate((np.ones(signal_dataset.shape[0]), np.zeros(bkg_dataset.shape[0])))\n",
    "\n",
    "n_variables = balanced_input.shape[1]\n",
    "\n",
    "x_ce_train, x_ce_test, y_ce_train, y_ce_test = train_test_split(balanced_input, y_balanced_input, test_size=0.5, random_state=42)\n",
    "x_ce_test, x_ce_valid, y_ce_test, y_ce_valid = train_test_split(x_ce_test, y_ce_test, test_size=0.5, random_state=42)"
   ]
  },
  {
   "cell_type": "code",
   "execution_count": 96,
   "id": "10812fe1",
   "metadata": {},
   "outputs": [
    {
     "data": {
      "text/plain": [
       "<matplotlib.legend.Legend at 0x154f7e78e130>"
      ]
     },
     "execution_count": 96,
     "metadata": {},
     "output_type": "execute_result"
    },
    {
     "data": {
      "image/png": "[encoded data removed]",
      "text/plain": [
       "<Figure size 432x288 with 1 Axes>"
      ]
     },
     "metadata": {
      "needs_background": "light"
     },
     "output_type": "display_data"
    }
   ],
   "source": [
    "udt_sig = signal_dataset[0]\n",
    "udoca_sig = signal_dataset[1]\n",
    "tottdrift_sig = signal_dataset[2]\n",
    "rdrift_sig = signal_dataset[3]\n",
    "edep_sig = signal_dataset[4]\n",
    "udocavar_sig = signal_dataset[5]\n",
    "\n",
    "udt_back = bkg_dataset[0]\n",
    "udoca_back = bkg_dataset[1]\n",
    "tottdrift_back = bkg_dataset[2]\n",
    "rdrift_back = bkg_dataset[3]\n",
    "edep_back = bkg_dataset[4]\n",
    "udocavar_back = bkg_dataset[5]\n",
    "\n",
    "plt.plot(udt_sig,label=\"Unbiased Dt Signal\")\n",
    "plt.plot(udt_back,label=\"Unbiased Dt Background\")\n",
    "plt.legend()\n",
    "\n",
    "plt.plot(udoca_sig,label=\"Unbiased DOCA Signal\")\n",
    "plt.plot(udoca_back,label=\"Unbiased DOCA Background\")\n",
    "plt.legend()\n",
    "\n",
    "plt.plot(tottdrift_sig,label=\"Time-Over-Threshold Drift Time Signal\")\n",
    "plt.plot(tottdrift_back,label=\"Time-Over-Threshold Drift Time Background\")\n",
    "plt.legend()\n",
    "\n",
    "plt.plot(rdrift_sig,label=\"Radius Drift Signal\")\n",
    "plt.plot(rdrift_back,label=\"Radius Drift Background\")\n",
    "plt.legend()\n",
    "\n",
    "plt.plot(edep_sig,label=\"Energy Deposition Signal\")\n",
    "plt.plot(edep_back,label=\"Energy Deposition Background\")\n",
    "plt.legend()\n",
    "\n",
    "plt.plot(udocavar_sig,label=\"Unbiased DOCA Variance Signal\")\n",
    "plt.plot(udocavar_back,label=\"Unbiased DOCA Variance Background\")\n",
    "plt.legend()"
   ]
  },
  {
   "cell_type": "markdown",
   "id": "414715a1-8fe6-47d2-b856-76e7f09a30c5",
   "metadata": {},
   "source": [
    "## Create and train a multi-layer perceptron"
   ]
  },
  {
   "cell_type": "markdown",
   "id": "5d3968ba-51a2-45c8-9882-c989a3f7d691",
   "metadata": {},
   "source": [
    "Here we create a _multi-layer perceptron_ (MLP) model which consists of 3 fully-connected (or _dense_) layers, each one followed by a _dropout_ layer, which helps to avoid overfitting. The model is trained using the [Adam](https://arxiv.org/abs/1412.6980) optimizer and trained for 50 epochs or until the validation loss doesn't improve for 5 epochs (`early_stop`). "
   ]
  },
  {
   "cell_type": "code",
   "execution_count": 97,
   "id": "523e7eed",
   "metadata": {},
   "outputs": [],
   "source": [
    "# set up tensorboard\n"
   ]
  },
  {
   "cell_type": "code",
   "execution_count": 98,
   "id": "6be3a800-39dd-41ff-bd78-c5156fd4919c",
   "metadata": {},
   "outputs": [
    {
     "name": "stdout",
     "output_type": "stream",
     "text": [
      "Epoch 1/50\n",
      "5085/5085 [==============================] - 13s 2ms/step - loss: 0.4436 - accuracy: 0.8787 - val_loss: 0.2377 - val_accuracy: 0.9220\n",
      "Epoch 2/50\n",
      "5085/5085 [==============================] - 12s 2ms/step - loss: 0.3710 - accuracy: 0.9178 - val_loss: 0.2292 - val_accuracy: 0.9213\n",
      "Epoch 3/50\n",
      "5085/5085 [==============================] - 12s 2ms/step - loss: 0.2673 - accuracy: 0.9197 - val_loss: 0.2468 - val_accuracy: 0.9244\n",
      "Epoch 4/50\n",
      "5085/5085 [==============================] - 12s 2ms/step - loss: 0.2377 - accuracy: 0.9212 - val_loss: 0.2154 - val_accuracy: 0.9238\n",
      "Epoch 5/50\n",
      "5085/5085 [==============================] - 12s 2ms/step - loss: 0.2396 - accuracy: 0.9218 - val_loss: 0.2350 - val_accuracy: 0.9247\n",
      "Epoch 6/50\n",
      "5085/5085 [==============================] - 12s 2ms/step - loss: 0.2643 - accuracy: 0.9224 - val_loss: 0.2075 - val_accuracy: 0.9253\n",
      "Epoch 7/50\n",
      "5085/5085 [==============================] - 12s 2ms/step - loss: 0.2307 - accuracy: 0.9227 - val_loss: 0.2098 - val_accuracy: 0.9251\n",
      "Epoch 8/50\n",
      "5085/5085 [==============================] - 12s 2ms/step - loss: 0.2301 - accuracy: 0.9232 - val_loss: 0.2139 - val_accuracy: 0.9244\n",
      "Epoch 9/50\n",
      "5085/5085 [==============================] - 12s 2ms/step - loss: 0.2213 - accuracy: 0.9233 - val_loss: 0.2142 - val_accuracy: 0.9218\n",
      "Epoch 10/50\n",
      "5085/5085 [==============================] - 12s 2ms/step - loss: 0.2188 - accuracy: 0.9233 - val_loss: 0.2045 - val_accuracy: 0.9263\n",
      "Epoch 11/50\n",
      "5085/5085 [==============================] - 12s 2ms/step - loss: 0.2191 - accuracy: 0.9243 - val_loss: 0.2079 - val_accuracy: 0.9260\n",
      "Epoch 12/50\n",
      "5085/5085 [==============================] - 12s 2ms/step - loss: 0.2253 - accuracy: 0.9239 - val_loss: 0.2061 - val_accuracy: 0.9265\n",
      "Epoch 13/50\n",
      "5085/5085 [==============================] - 12s 2ms/step - loss: 0.2178 - accuracy: 0.9239 - val_loss: 0.2045 - val_accuracy: 0.9258\n",
      "Epoch 14/50\n",
      "5085/5085 [==============================] - 12s 2ms/step - loss: 0.2202 - accuracy: 0.9235 - val_loss: 0.2089 - val_accuracy: 0.9249\n",
      "Epoch 15/50\n",
      "5085/5085 [==============================] - 12s 2ms/step - loss: 0.2187 - accuracy: 0.9240 - val_loss: 0.2026 - val_accuracy: 0.9272\n",
      "Epoch 16/50\n",
      "5085/5085 [==============================] - 12s 2ms/step - loss: 0.2200 - accuracy: 0.9247 - val_loss: 0.2135 - val_accuracy: 0.9216\n",
      "Epoch 17/50\n",
      "5085/5085 [==============================] - 12s 2ms/step - loss: 0.2218 - accuracy: 0.9245 - val_loss: 0.2098 - val_accuracy: 0.9248\n",
      "Epoch 18/50\n",
      "5085/5085 [==============================] - 12s 2ms/step - loss: 0.2157 - accuracy: 0.9250 - val_loss: 0.2040 - val_accuracy: 0.9267\n",
      "Epoch 19/50\n",
      "5085/5085 [==============================] - 12s 2ms/step - loss: 0.2239 - accuracy: 0.9251 - val_loss: 0.2062 - val_accuracy: 0.9253\n",
      "Epoch 20/50\n",
      "5085/5085 [==============================] - 12s 2ms/step - loss: 0.2157 - accuracy: 0.9249 - val_loss: 0.2047 - val_accuracy: 0.9259\n"
     ]
    }
   ],
   "source": [
    "opt = Adam(learning_rate=1e-3)\n",
    "\n",
    "model_ce = Sequential()\n",
    "model_ce.add(Dense(n_variables*8, activation='relu', input_shape=(n_variables,)))\n",
    "model_ce.add(Dropout(0.2))\n",
    "model_ce.add(Dense(n_variables*8, activation='relu'))\n",
    "model_ce.add(Dropout(0.2))\n",
    "model_ce.add(Dense(n_variables*8, activation='relu'))\n",
    "model_ce.add(Dropout(0.2))\n",
    "model_ce.add(Dense(1, activation='sigmoid'))\n",
    "model_ce.compile(loss='binary_crossentropy',\n",
    "                 metrics='accuracy',\n",
    "                 optimizer=opt)\n",
    "\n",
    "early_stop = EarlyStopping(monitor='val_loss', patience=5)\n",
    "history_ce = model_ce.fit(x_ce_train, y_ce_train,\n",
    "                          epochs=50,\n",
    "                          verbose=1,\n",
    "                          validation_data=(x_ce_valid, y_ce_valid),\n",
    "                          callbacks=[early_stop])\n",
    "\n",
    "# need to add tensorboard in callbacks\n"
   ]
  },
  {
   "cell_type": "code",
   "execution_count": 99,
   "id": "c223201c",
   "metadata": {},
   "outputs": [
    {
     "name": "stdout",
     "output_type": "stream",
     "text": [
      "The tensorboard extension is already loaded. To reload it, use:\n",
      "  %reload_ext tensorboard\n"
     ]
    },
    {
     "data": {
      "text/plain": [
       "Reusing TensorBoard on port 6006 (pid 11072), started 1:21:06 ago. (Use '!kill 11072' to kill it.)"
      ]
     },
     "metadata": {},
     "output_type": "display_data"
    },
    {
     "data": {
      "text/html": [
       "\n",
       "      <iframe id=\"tensorboard-frame-e4b5e288a470149a\" width=\"100%\" height=\"800\" frameborder=\"0\">\n",
       "      </iframe>\n",
       "      <script>\n",
       "        (function() {\n",
       "          const frame = document.getElementById(\"tensorboard-frame-e4b5e288a470149a\");\n",
       "          const url = new URL(\"/\", window.location);\n",
       "          const port = 6006;\n",
       "          if (port) {\n",
       "            url.port = port;\n",
       "          }\n",
       "          frame.src = url;\n",
       "        })();\n",
       "      </script>\n",
       "    "
      ],
      "text/plain": [
       "<IPython.core.display.HTML object>"
      ]
     },
     "metadata": {},
     "output_type": "display_data"
    },
    {
     "data": {
      "image/png": "[encoded data removed]",
      "text/plain": [
       "<Figure size 432x288 with 1 Axes>"
      ]
     },
     "metadata": {
      "needs_background": "light"
     },
     "output_type": "display_data"
    }
   ],
   "source": [
    "plt.plot(history_ce.history['val_loss'],label=\"val loss\")\n",
    "plt.plot(history_ce.history['loss'],label=\"loss\")\n",
    "plt.legend()\n",
    "\n",
    "%load_ext tensorboard\n",
    "#rm -rf ./logs/\n",
    "%tensorboard --logdir logs/fit\n"
   ]
  },
  {
   "cell_type": "markdown",
   "id": "e78fb06e-22e5-4ecb-b2c5-48b591268733",
   "metadata": {},
   "source": [
    "## Create and train a Boosted Decision Tree\n",
    "Here, instead of using a MLP, we use a [_Gradient Boosted Decision Tree_](https://xgboost.readthedocs.io/en/stable/) (BDT) to distinguish between signal (true CE hits) and background (fake CE hits). We use the defualt hyperparameters."
   ]
  },
  {
   "cell_type": "code",
   "execution_count": 100,
   "id": "698e5894-b4e3-405c-a99b-c76b2f12403b",
   "metadata": {},
   "outputs": [
    {
     "data": {
      "text/plain": [
       "XGBClassifier(base_score=0.5, booster='gbtree', callbacks=None,\n",
       "              colsample_bylevel=1, colsample_bynode=1, colsample_bytree=1,\n",
       "              early_stopping_rounds=None, enable_categorical=False,\n",
       "              eval_metric=None, feature_types=None, gamma=0, gpu_id=-1,\n",
       "              grow_policy='depthwise', importance_type=None,\n",
       "              interaction_constraints='', learning_rate=0.300000012,\n",
       "              max_bin=256, max_cat_threshold=64, max_cat_to_onehot=4,\n",
       "              max_delta_step=0, max_depth=6, max_leaves=0, min_child_weight=1,\n",
       "              missing=nan, monotone_constraints='()', n_estimators=100,\n",
       "              n_jobs=0, num_parallel_tree=1, predictor='auto', random_state=0, ...)"
      ]
     },
     "execution_count": 100,
     "metadata": {},
     "output_type": "execute_result"
    }
   ],
   "source": [
    "model_xgboost = XGBClassifier()\n",
    "model_xgboost.fit(x_ce_train, y_ce_train)"
   ]
  },
  {
   "cell_type": "markdown",
   "id": "d7aa6212-21f7-46c8-b7af-dab07ced4269",
   "metadata": {},
   "source": [
    "Here we can finally apply our two models (the MLP and the BDT) to our test datasets and create the corresponding ROC curves."
   ]
  },
  {
   "cell_type": "code",
   "execution_count": 101,
   "id": "3dcbef70-e875-40dd-8a8f-5a66fc32fb1d",
   "metadata": {},
   "outputs": [
    {
     "name": "stdout",
     "output_type": "stream",
     "text": [
      "2543/2543 [==============================] - 3s 1ms/step\n"
     ]
    }
   ],
   "source": [
    "prediction_ce = model_ce.predict(x_ce_test).ravel()\n",
    "fpr_ce, tpr_ce, th_ce = roc_curve(y_ce_test,  prediction_ce)\n",
    "auc_ce = roc_auc_score(y_ce_test, prediction_ce)"
   ]
  },
  {
   "cell_type": "code",
   "execution_count": 102,
   "id": "cce6a838-1a4c-41e3-a2bb-46a270ad6d86",
   "metadata": {},
   "outputs": [],
   "source": [
    "prediction_xgboost = model_xgboost.predict_proba(x_ce_test)[:,1]\n",
    "fpr_xgboost, tpr_xgboost, th_xgboost = roc_curve(y_ce_test,  prediction_xgboost)\n",
    "auc_xgboost = roc_auc_score(y_ce_test, prediction_xgboost)"
   ]
  },
  {
   "cell_type": "markdown",
   "id": "a7f392a2-223f-4a47-81de-45dc56b8e42d",
   "metadata": {},
   "source": [
    "The plot of the ROC curves clearly shows that the BDT outperforms the MLP. In principle, however, it should be possible to improve the MLP performances by optimizing the hyperparameters (learning rate, hidden layers, activation functions, etc.)."
   ]
  },
  {
   "cell_type": "code",
   "execution_count": 103,
   "id": "def9b80f-d130-4ac0-bc19-ea03de7032f7",
   "metadata": {},
   "outputs": [
    {
     "data": {
      "image/png": "[encoded data removed]",
      "text/plain": [
       "<Figure size 432x288 with 1 Axes>"
      ]
     },
     "metadata": {
      "needs_background": "light"
     },
     "output_type": "display_data"
    }
   ],
   "source": [
    "fig, ax = plt.subplots(1,1)\n",
    "ax.plot(tpr_ce,1-fpr_ce,label=f'MLP AUC: {auc_ce:.2f}')\n",
    "ax.plot(tpr_xgboost,1-fpr_xgboost,label=f'BDT AUC: {auc_xgboost:.2f}')\n",
    "\n",
    "ax.legend()\n",
    "ax.set_aspect(\"equal\")\n",
    "ax.set_xlabel(\"Signal efficiency\")\n",
    "ax.set_ylabel(\"Background rejection\")\n",
    "ax.set_xlim(0,1.05)\n",
    "ax.set_ylim(0,1.05)\n",
    "fig.savefig(\"truece.pdf\")"
   ]
  },
  {
   "cell_type": "code",
   "execution_count": null,
   "id": "5ba6c423-d401-48e8-a462-20a95088e4cb",
   "metadata": {},
   "outputs": [],
   "source": []
  }
 ],
 "metadata": {
  "kernelspec": {
   "display_name": "NERSC Python",
   "language": "python",
   "name": "python3"
  },
  "language_info": {
   "codemirror_mode": {
    "name": "ipython",
    "version": 3
   },
   "file_extension": ".py",
   "mimetype": "text/x-python",
   "name": "python",
   "nbconvert_exporter": "python",
   "pygments_lexer": "ipython3",
   "version": "3.9.7"
  }
 },
 "nbformat": 4,
 "nbformat_minor": 5
}
