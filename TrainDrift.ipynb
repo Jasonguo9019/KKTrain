{
 "cells": [
  {
   "cell_type": "markdown",
   "id": "bb74a62f-a4a9-4e61-9415-58c8a06f5f75",
   "metadata": {},
   "source": [
    "# Hit classification"
   ]
  },
  {
   "cell_type": "markdown",
   "id": "8d61cb5d-7c43-4a94-9e3c-eb2889e69b88",
   "metadata": {},
   "source": [
    "In this notebook we will try to use Keras and XGBoost in order to distinguish between _true_ conversion electron hits and _fake_ conversion electron hits."
   ]
  },
  {
   "cell_type": "code",
   "execution_count": 1,
   "id": "52ce5426-86e5-4f6e-a7d5-a847d6e2ce97",
   "metadata": {
    "tags": []
   },
   "outputs": [
    {
     "name": "stderr",
     "output_type": "stream",
     "text": [
      "2022-12-23 15:18:19.104482: I tensorflow/core/platform/cpu_feature_guard.cc:193] This TensorFlow binary is optimized with oneAPI Deep Neural Network Library (oneDNN) to use the following CPU instructions in performance-critical operations:  SSE4.1 SSE4.2 AVX AVX2 FMA\n",
      "To enable them in other operations, rebuild TensorFlow with the appropriate compiler flags.\n"
     ]
    }
   ],
   "source": [
    "import uproot \n",
    "import awkward as ak\n",
    "import numpy as np\n",
    "import matplotlib.pyplot as plt\n",
    "import os\n",
    "import datetime\n",
    "import tensorflow as tf\n",
    "from tensorflow.keras.callbacks import EarlyStopping\n",
    "from tensorflow.keras.models import Sequential, Model\n",
    "from tensorflow.keras.layers import Input, Dense, Dropout, Activation, ReLU\n",
    "from tensorflow.keras.optimizers import SGD\n",
    "import tensorflow.keras.layers\n",
    "from tensorflow.keras.optimizers import Adam\n",
    "from sklearn.model_selection import train_test_split\n",
    "from sklearn.metrics import roc_curve, roc_auc_score\n",
    "from xgboost import XGBClassifier"
   ]
  },
  {
   "cell_type": "markdown",
   "id": "13b18db5-7d46-40ed-9a1b-528d48256097",
   "metadata": {},
   "source": [
    "First of all we use [uproot](https://uproot.readthedocs.io/en/latest/), a library to reading ROOT files in pure Python and NumPy, to open the `trkana` tree in the `TAKK` folder of the `KKSM01.root` file. We only need certain branches, so we apply a filter to read only `de`, `detsh`, `detshmc`, and `demc`. We then apply a mask to our tree to select only good fits. "
   ]
  },
  {
   "cell_type": "code",
   "execution_count": 2,
   "id": "90450e58-8bce-4fae-be27-97d62d89be18",
   "metadata": {},
   "outputs": [
    {
     "name": "stdout",
     "output_type": "stream",
     "text": [
      "Using files in /Users/brownd/data/42082053/files.txt\n",
      "Processing: /Users/brownd/data/42082053/nts.brownd.KKSeed.KKSNB.001210_00000005.root\n",
      "\n",
      "Processed file /Users/brownd/data/42082053/nts.brownd.KKSeed.KKSNB.001210_00000005.root\n",
      " with 580548 hits\n",
      "Processing: /Users/brownd/data/42082053/nts.brownd.KKSeed.KKSNB.001210_00000008.root\n",
      "\n",
      "Processed file /Users/brownd/data/42082053/nts.brownd.KKSeed.KKSNB.001210_00000008.root\n",
      " with 571683 hits\n",
      "Processing: /Users/brownd/data/42082053/nts.brownd.KKSeed.KKSNB.001210_00000024.root\n",
      "\n",
      "Processed file /Users/brownd/data/42082053/nts.brownd.KKSeed.KKSNB.001210_00000024.root\n",
      " with 575947 hits\n",
      "Total dataset 1728178 hits\n"
     ]
    }
   ],
   "source": [
    "input_dataset = np.empty\n",
    "temp = np.empty\n",
    "signal = np.empty\n",
    "backgnd = np.empty\n",
    "filelist = os.environ['KKTrainData']\n",
    "print(\"Using files in \" + filelist)\n",
    "files = open(filelist, 'r')\n",
    "for filename in files:\n",
    "    print(\"Processing: \" + filename)    \n",
    "    with uproot.open(filename) as file:\n",
    "        trkana = file[\"TAKK\"][\"trkana\"].arrays(filter_name=\"/de|detsh|detshmc|demc/i\")\n",
    "        trkana = trkana[(trkana['de.goodfit']==1)&(trkana['de.status']>0)&(trkana['demc.proc']==167)]\n",
    "    udt = ak.concatenate(trkana['detsh.udt']).to_numpy()\n",
    "    udoca = ak.concatenate(trkana['detsh.udoca']).to_numpy()\n",
    "    rdrift = ak.concatenate(trkana['detsh.rdrift']).to_numpy()\n",
    "    tottdrift = ak.concatenate(trkana['detsh.tottdrift']).to_numpy()\n",
    "#    edep = ak.concatenate(trkana['detsh.edep']).to_numpy()\n",
    "    udocavar = ak.concatenate(trkana['detsh.udocavar']).to_numpy()\n",
    "    hstate = ak.concatenate(trkana['detsh.state']).to_numpy()\n",
    "    print(\"Processed file \" + filename + \" with %s hits\"%udt.shape[0])\n",
    "    temp = np.vstack((udt,udoca,tottdrift,rdrift,udocavar)).T\n",
    "    if input_dataset is np.empty:\n",
    "        input_dataset = temp\n",
    "    else:\n",
    "        input_dataset = np.concatenate((input_dataset, temp))\n",
    "    mcrel = []\n",
    "    mcambig = []\n",
    "    mcdist = []\n",
    "    for i, this_dt in enumerate(trkana['detsh.udt']):\n",
    "        mcrel.extend(trkana['detshmc.rel._rel'][i][:len(this_dt)])\n",
    "        mcambig.extend(trkana['detshmc.ambig'][i][:len(this_dt)])\n",
    "        mcdist.extend(trkana['detshmc.dist'][i][:len(this_dt)])\n",
    "    mcrel = np.array(mcrel)\n",
    "    mcambig = np.array(mcambig)\n",
    "    mcdist = np.array(mcdist)\n",
    "\n",
    "    sig = (hstate>-2) & (mcrel==0) & (mcambig*udoca>0) & (rdrift-mcdist<0.4)\n",
    "    bkg = (hstate>-2) & (mcrel==0) & ((mcambig*udoca<0) | (rdrift-mcdist>0.4))\n",
    "    if signal is np.empty:\n",
    "        signal = sig\n",
    "        backgnd = bkg\n",
    "    else:\n",
    "        signal = np.concatenate((signal,sig))\n",
    "        backgnd = np.concatenate((backgnd,bkg))    \n",
    "nhits=len(input_dataset)\n",
    "print(\"Total dataset %s hits\"%nhits)"
   ]
  },
  {
   "cell_type": "markdown",
   "id": "0167fc47-dd84-4a31-98d0-a0270f04bfd5",
   "metadata": {},
   "source": [
    "Here we then assign a label to each hit as _signal_ or _background_, depending on the Monte Carlo truth information. Since the dimension of  `detshmc.rel._rel` is not guaranteed to be the same as the dimension of `detsh` we need to loop over all the entries."
   ]
  },
  {
   "cell_type": "markdown",
   "id": "0c2e8445-92ff-416f-a9a8-2d071b1f0bb9",
   "metadata": {},
   "source": [
    "In our problem we have a different number of signal and background entries in our input dataset. There are several techniques avaialable for _unbalanced_ datasets. Here we are using the most naive one, which is just using $\\min(N_{sig}, N_{bkg})$ events. Then, we divide our input into the _training_, _validation_, and _test_ datasets."
   ]
  },
  {
   "cell_type": "code",
   "execution_count": 3,
   "id": "2ed7b23e-d3ab-4645-a905-c3d4090eb7ab",
   "metadata": {},
   "outputs": [
    {
     "name": "stdout",
     "output_type": "stream",
     "text": [
      "Training on 240192 matched hits\n"
     ]
    }
   ],
   "source": [
    "min_len = min(len(input_dataset[signal]), len(input_dataset[backgnd]))\n",
    "bsize=32\n",
    "# I need to double the batch_size when truncating as we divide the sample in half later for training\n",
    "tsize=2*bsize\n",
    "min_len = min_len - min_len%tsize\n",
    "print(\"Training on %s matched hits\"%min_len)\n",
    "signal_dataset = input_dataset[signal][:min_len]\n",
    "bkg_dataset = input_dataset[backgnd][:min_len]\n",
    "\n",
    "balanced_input = np.concatenate((signal_dataset, bkg_dataset))\n",
    "y_balanced_input = np.concatenate((np.ones(signal_dataset.shape[0]), np.zeros(bkg_dataset.shape[0])))\n",
    "\n",
    "n_variables = balanced_input.shape[1]\n",
    "\n",
    "x_ce_train, x_ce_test, y_ce_train, y_ce_test = train_test_split(balanced_input, y_balanced_input, test_size=0.5, random_state=42)\n",
    "x_ce_test, x_ce_valid, y_ce_test, y_ce_valid = train_test_split(x_ce_test, y_ce_test, test_size=0.5, random_state=42)"
   ]
  },
  {
   "cell_type": "markdown",
   "id": "414715a1-8fe6-47d2-b856-76e7f09a30c5",
   "metadata": {},
   "source": [
    "## Create and train a multi-layer perceptron"
   ]
  },
  {
   "cell_type": "markdown",
   "id": "5d3968ba-51a2-45c8-9882-c989a3f7d691",
   "metadata": {},
   "source": [
    "Here we create a _multi-layer perceptron_ (MLP) model which consists of 3 fully-connected (or _dense_) layers, each one followed by a _dropout_ layer, which helps to avoid overfitting. The model is trained using the [Adam](https://arxiv.org/abs/1412.6980) optimizer and trained for 50 epochs or until the validation loss doesn't improve for 5 epochs (`early_stop`). "
   ]
  },
  {
   "cell_type": "code",
   "execution_count": 4,
   "id": "6be3a800-39dd-41ff-bd78-c5156fd4919c",
   "metadata": {},
   "outputs": [
    {
     "name": "stdout",
     "output_type": "stream",
     "text": [
      "Epoch 1/200\n"
     ]
    },
    {
     "name": "stderr",
     "output_type": "stream",
     "text": [
      "2022-12-23 15:19:50.808688: I tensorflow/core/platform/cpu_feature_guard.cc:193] This TensorFlow binary is optimized with oneAPI Deep Neural Network Library (oneDNN) to use the following CPU instructions in performance-critical operations:  SSE4.1 SSE4.2 AVX AVX2 FMA\n",
      "To enable them in other operations, rebuild TensorFlow with the appropriate compiler flags.\n"
     ]
    },
    {
     "name": "stdout",
     "output_type": "stream",
     "text": [
      "7506/7506 [==============================] - 9s 1ms/step - loss: 0.5971 - accuracy: 0.6861 - val_loss: 0.5897 - val_accuracy: 0.6903\n",
      "Epoch 2/200\n",
      "7506/7506 [==============================] - 8s 1ms/step - loss: 0.5886 - accuracy: 0.6913 - val_loss: 0.5876 - val_accuracy: 0.6903\n",
      "Epoch 3/200\n",
      "7506/7506 [==============================] - 8s 1ms/step - loss: 0.5843 - accuracy: 0.6953 - val_loss: 0.5717 - val_accuracy: 0.7096\n",
      "Epoch 4/200\n",
      "7506/7506 [==============================] - 8s 1ms/step - loss: 0.5232 - accuracy: 0.7515 - val_loss: 0.5009 - val_accuracy: 0.7665\n",
      "Epoch 5/200\n",
      "7506/7506 [==============================] - 8s 1ms/step - loss: 0.4964 - accuracy: 0.7703 - val_loss: 0.4940 - val_accuracy: 0.7708\n",
      "Epoch 6/200\n",
      "7506/7506 [==============================] - 8s 1ms/step - loss: 0.4939 - accuracy: 0.7718 - val_loss: 0.4984 - val_accuracy: 0.7697\n",
      "Epoch 7/200\n",
      "7506/7506 [==============================] - 8s 1ms/step - loss: 0.4923 - accuracy: 0.7731 - val_loss: 0.4958 - val_accuracy: 0.7701\n",
      "Epoch 8/200\n",
      "7506/7506 [==============================] - 8s 1ms/step - loss: 0.4903 - accuracy: 0.7738 - val_loss: 0.4964 - val_accuracy: 0.7710\n",
      "Epoch 9/200\n",
      "7506/7506 [==============================] - 8s 1ms/step - loss: 0.4886 - accuracy: 0.7744 - val_loss: 0.4903 - val_accuracy: 0.7741\n",
      "Epoch 10/200\n",
      "7506/7506 [==============================] - 9s 1ms/step - loss: 0.4880 - accuracy: 0.7753 - val_loss: 0.4885 - val_accuracy: 0.7743\n",
      "Epoch 11/200\n",
      "7506/7506 [==============================] - 8s 1ms/step - loss: 0.4867 - accuracy: 0.7764 - val_loss: 0.4874 - val_accuracy: 0.7752\n",
      "Epoch 12/200\n",
      "7506/7506 [==============================] - 8s 1ms/step - loss: 0.4857 - accuracy: 0.7762 - val_loss: 0.4878 - val_accuracy: 0.7748\n",
      "Epoch 13/200\n",
      "7506/7506 [==============================] - 8s 1ms/step - loss: 0.4852 - accuracy: 0.7766 - val_loss: 0.4900 - val_accuracy: 0.7755\n",
      "Epoch 14/200\n",
      "7506/7506 [==============================] - 8s 1ms/step - loss: 0.4841 - accuracy: 0.7775 - val_loss: 0.4910 - val_accuracy: 0.7719\n",
      "Epoch 15/200\n",
      "7506/7506 [==============================] - 8s 1ms/step - loss: 0.4845 - accuracy: 0.7772 - val_loss: 0.4892 - val_accuracy: 0.7758\n",
      "Epoch 16/200\n",
      "7506/7506 [==============================] - 8s 1ms/step - loss: 0.4850 - accuracy: 0.7771 - val_loss: 0.4875 - val_accuracy: 0.7768\n",
      "Epoch 17/200\n",
      "7506/7506 [==============================] - 9s 1ms/step - loss: 0.4829 - accuracy: 0.7775 - val_loss: 0.4900 - val_accuracy: 0.7755\n",
      "Epoch 18/200\n",
      "7506/7506 [==============================] - 8s 1ms/step - loss: 0.4839 - accuracy: 0.7782 - val_loss: 0.4846 - val_accuracy: 0.7774\n",
      "Epoch 19/200\n",
      "7506/7506 [==============================] - 8s 1ms/step - loss: 0.4826 - accuracy: 0.7781 - val_loss: 0.4849 - val_accuracy: 0.7764\n",
      "Epoch 20/200\n",
      "7506/7506 [==============================] - 8s 1ms/step - loss: 0.4831 - accuracy: 0.7777 - val_loss: 0.4862 - val_accuracy: 0.7762\n",
      "Epoch 21/200\n",
      "7506/7506 [==============================] - 8s 1ms/step - loss: 0.4816 - accuracy: 0.7784 - val_loss: 0.4851 - val_accuracy: 0.7775\n",
      "Epoch 22/200\n",
      "7506/7506 [==============================] - 8s 1ms/step - loss: 0.4813 - accuracy: 0.7785 - val_loss: 0.4848 - val_accuracy: 0.7768\n",
      "Epoch 23/200\n",
      "7506/7506 [==============================] - 8s 1ms/step - loss: 0.4826 - accuracy: 0.7786 - val_loss: 0.4848 - val_accuracy: 0.7770\n",
      "Epoch 24/200\n",
      "7506/7506 [==============================] - 8s 1ms/step - loss: 0.4821 - accuracy: 0.7786 - val_loss: 0.4853 - val_accuracy: 0.7779\n",
      "Epoch 25/200\n",
      "7506/7506 [==============================] - 8s 1ms/step - loss: 0.4818 - accuracy: 0.7786 - val_loss: 0.4835 - val_accuracy: 0.7772\n",
      "Epoch 26/200\n",
      "7506/7506 [==============================] - 8s 1ms/step - loss: 0.4811 - accuracy: 0.7790 - val_loss: 0.4835 - val_accuracy: 0.7776\n",
      "Epoch 27/200\n",
      "7506/7506 [==============================] - 8s 1ms/step - loss: 0.4816 - accuracy: 0.7787 - val_loss: 0.4864 - val_accuracy: 0.7754\n",
      "Epoch 28/200\n",
      "7506/7506 [==============================] - 8s 1ms/step - loss: 0.4847 - accuracy: 0.7793 - val_loss: 0.4838 - val_accuracy: 0.7775\n",
      "Epoch 29/200\n",
      "7506/7506 [==============================] - 9s 1ms/step - loss: 0.4810 - accuracy: 0.7790 - val_loss: 0.4872 - val_accuracy: 0.7774\n",
      "Epoch 30/200\n",
      "7506/7506 [==============================] - 8s 1ms/step - loss: 0.4837 - accuracy: 0.7791 - val_loss: 0.4862 - val_accuracy: 0.7769\n",
      "Epoch 31/200\n",
      "7506/7506 [==============================] - 8s 1ms/step - loss: 0.4819 - accuracy: 0.7790 - val_loss: 0.4828 - val_accuracy: 0.7779\n",
      "Epoch 32/200\n",
      "7506/7506 [==============================] - 8s 1ms/step - loss: 0.4809 - accuracy: 0.7790 - val_loss: 0.4850 - val_accuracy: 0.7757\n",
      "Epoch 33/200\n",
      "7506/7506 [==============================] - 8s 1ms/step - loss: 0.4806 - accuracy: 0.7795 - val_loss: 0.4962 - val_accuracy: 0.7764\n",
      "Epoch 34/200\n",
      "7506/7506 [==============================] - 8s 1ms/step - loss: 0.4808 - accuracy: 0.7793 - val_loss: 0.4838 - val_accuracy: 0.7773\n",
      "Epoch 35/200\n",
      "7506/7506 [==============================] - 9s 1ms/step - loss: 0.4798 - accuracy: 0.7794 - val_loss: 0.4845 - val_accuracy: 0.7777\n",
      "Epoch 36/200\n",
      "7506/7506 [==============================] - 8s 1ms/step - loss: 0.4800 - accuracy: 0.7792 - val_loss: 0.4832 - val_accuracy: 0.7782\n",
      "Epoch 37/200\n",
      "7506/7506 [==============================] - 8s 1ms/step - loss: 0.4796 - accuracy: 0.7795 - val_loss: 0.4896 - val_accuracy: 0.7759\n",
      "Epoch 38/200\n",
      "7506/7506 [==============================] - 8s 1ms/step - loss: 0.4794 - accuracy: 0.7799 - val_loss: 0.4821 - val_accuracy: 0.7774\n",
      "Epoch 39/200\n",
      "7506/7506 [==============================] - 8s 1ms/step - loss: 0.4804 - accuracy: 0.7795 - val_loss: 0.4837 - val_accuracy: 0.7782\n",
      "Epoch 40/200\n",
      "7506/7506 [==============================] - 8s 1ms/step - loss: 0.4792 - accuracy: 0.7793 - val_loss: 0.4835 - val_accuracy: 0.7775\n",
      "Epoch 41/200\n",
      "7506/7506 [==============================] - 8s 1ms/step - loss: 0.4808 - accuracy: 0.7802 - val_loss: 0.4826 - val_accuracy: 0.7777\n",
      "Epoch 42/200\n",
      "7506/7506 [==============================] - 8s 1ms/step - loss: 0.4789 - accuracy: 0.7801 - val_loss: 0.4841 - val_accuracy: 0.7770\n",
      "Epoch 43/200\n",
      "7506/7506 [==============================] - 8s 1ms/step - loss: 0.4790 - accuracy: 0.7804 - val_loss: 0.4843 - val_accuracy: 0.7767\n",
      "Epoch 44/200\n",
      "7506/7506 [==============================] - 8s 1ms/step - loss: 0.4785 - accuracy: 0.7802 - val_loss: 0.4847 - val_accuracy: 0.7772\n",
      "Epoch 45/200\n",
      "7506/7506 [==============================] - 8s 1ms/step - loss: 0.4785 - accuracy: 0.7804 - val_loss: 0.4813 - val_accuracy: 0.7785\n",
      "Epoch 46/200\n",
      "7506/7506 [==============================] - 9s 1ms/step - loss: 0.4783 - accuracy: 0.7804 - val_loss: 0.4827 - val_accuracy: 0.7776\n",
      "Epoch 47/200\n",
      "7506/7506 [==============================] - 8s 1ms/step - loss: 0.4785 - accuracy: 0.7802 - val_loss: 0.4837 - val_accuracy: 0.7789\n",
      "Epoch 48/200\n",
      "7506/7506 [==============================] - 8s 1ms/step - loss: 0.4778 - accuracy: 0.7802 - val_loss: 0.4824 - val_accuracy: 0.7789\n",
      "Epoch 49/200\n",
      "7506/7506 [==============================] - 8s 1ms/step - loss: 0.4783 - accuracy: 0.7802 - val_loss: 0.4868 - val_accuracy: 0.7784\n",
      "Epoch 50/200\n",
      "7506/7506 [==============================] - 8s 1ms/step - loss: 0.4774 - accuracy: 0.7807 - val_loss: 0.4822 - val_accuracy: 0.7785\n",
      "Epoch 51/200\n",
      "7506/7506 [==============================] - 8s 1ms/step - loss: 0.4772 - accuracy: 0.7811 - val_loss: 0.4848 - val_accuracy: 0.7777\n",
      "Epoch 52/200\n",
      "7506/7506 [==============================] - 8s 1ms/step - loss: 0.4771 - accuracy: 0.7808 - val_loss: 0.4797 - val_accuracy: 0.7792\n",
      "Epoch 53/200\n",
      "7506/7506 [==============================] - 8s 1ms/step - loss: 0.4769 - accuracy: 0.7805 - val_loss: 0.4820 - val_accuracy: 0.7783\n",
      "Epoch 54/200\n",
      "7506/7506 [==============================] - 8s 1ms/step - loss: 0.4765 - accuracy: 0.7808 - val_loss: 0.4829 - val_accuracy: 0.7789\n",
      "Epoch 55/200\n",
      "7506/7506 [==============================] - 8s 1ms/step - loss: 0.4766 - accuracy: 0.7809 - val_loss: 0.4818 - val_accuracy: 0.7775\n",
      "Epoch 56/200\n",
      "7506/7506 [==============================] - 8s 1ms/step - loss: 0.4767 - accuracy: 0.7806 - val_loss: 0.4802 - val_accuracy: 0.7797\n",
      "Epoch 57/200\n",
      "7506/7506 [==============================] - 8s 1ms/step - loss: 0.4760 - accuracy: 0.7814 - val_loss: 0.4837 - val_accuracy: 0.7776\n",
      "Epoch 58/200\n",
      "7506/7506 [==============================] - 8s 1ms/step - loss: 0.4762 - accuracy: 0.7810 - val_loss: 0.4849 - val_accuracy: 0.7770\n",
      "Epoch 59/200\n",
      "7506/7506 [==============================] - 8s 1ms/step - loss: 0.4763 - accuracy: 0.7806 - val_loss: 0.4818 - val_accuracy: 0.7786\n",
      "Epoch 60/200\n",
      "7506/7506 [==============================] - 8s 1ms/step - loss: 0.4764 - accuracy: 0.7813 - val_loss: 0.4822 - val_accuracy: 0.7786\n",
      "Epoch 61/200\n",
      "7506/7506 [==============================] - 8s 1ms/step - loss: 0.4759 - accuracy: 0.7814 - val_loss: 0.4791 - val_accuracy: 0.7786\n",
      "Epoch 62/200\n",
      "7506/7506 [==============================] - 8s 1ms/step - loss: 0.4762 - accuracy: 0.7810 - val_loss: 0.4827 - val_accuracy: 0.7783\n",
      "Epoch 63/200\n",
      "7506/7506 [==============================] - 8s 1ms/step - loss: 0.4767 - accuracy: 0.7815 - val_loss: 0.4808 - val_accuracy: 0.7784\n",
      "Epoch 64/200\n",
      "7506/7506 [==============================] - 8s 1ms/step - loss: 0.4760 - accuracy: 0.7812 - val_loss: 0.4815 - val_accuracy: 0.7783\n",
      "Epoch 65/200\n",
      "7506/7506 [==============================] - 8s 1ms/step - loss: 0.4760 - accuracy: 0.7812 - val_loss: 0.4813 - val_accuracy: 0.7795\n",
      "Epoch 66/200\n",
      "7506/7506 [==============================] - 8s 1ms/step - loss: 0.4765 - accuracy: 0.7812 - val_loss: 0.4802 - val_accuracy: 0.7791\n",
      "Epoch 67/200\n",
      "7506/7506 [==============================] - 8s 1ms/step - loss: 0.4757 - accuracy: 0.7814 - val_loss: 0.4796 - val_accuracy: 0.7792\n",
      "Epoch 68/200\n",
      "7506/7506 [==============================] - 9s 1ms/step - loss: 0.4772 - accuracy: 0.7815 - val_loss: 0.4868 - val_accuracy: 0.7773\n",
      "Epoch 69/200\n",
      "7506/7506 [==============================] - 8s 1ms/step - loss: 0.4758 - accuracy: 0.7809 - val_loss: 0.4807 - val_accuracy: 0.7791\n",
      "Epoch 70/200\n",
      "7506/7506 [==============================] - 8s 1ms/step - loss: 0.4759 - accuracy: 0.7814 - val_loss: 0.4834 - val_accuracy: 0.7795\n",
      "Epoch 71/200\n",
      "7506/7506 [==============================] - 8s 1ms/step - loss: 0.4759 - accuracy: 0.7818 - val_loss: 0.4806 - val_accuracy: 0.7796\n"
     ]
    }
   ],
   "source": [
    "lay0=Input(shape=(n_variables,),batch_size=1)\n",
    "lay1=Dense(2*n_variables, activation='relu')(lay0)\n",
    "lay2=Dense(2*n_variables, activation='relu')(lay1)\n",
    "lay3=Dense(2*n_variables, activation='relu')(lay2)\n",
    "lay4=Dense(1,activation='sigmoid')(lay3)\n",
    "output_model=Model(inputs=lay0,outputs=lay4)\n",
    "\n",
    "opt = Adam(learning_rate=1e-3)\n",
    "input=Input(shape=(n_variables,),batch_size=bsize)\n",
    "x=Dense(2*n_variables, activation='relu')(input)\n",
    "x=Dense(2*n_variables, activation='relu')(x)\n",
    "x=Dense(2*n_variables, activation='relu')(x)\n",
    "output=Dense(1,activation='sigmoid')(x)\n",
    "model_ce=Model(inputs=input,outputs=output)\n",
    "model_ce.compile(loss='binary_crossentropy',metrics='accuracy',optimizer=opt)\n",
    "early_stop = EarlyStopping(monitor='val_loss', patience=10, min_delta=1e-5, restore_best_weights=True)\n",
    "history_ce = model_ce.fit(x_ce_train, y_ce_train,\n",
    "                          batch_size=bsize,\n",
    "                          epochs=200,\n",
    "                          verbose=1,\n",
    "                          validation_data=(x_ce_valid, y_ce_valid),\n",
    "                          callbacks=[early_stop]\n",
    "                         )"
   ]
  },
  {
   "cell_type": "markdown",
   "id": "e78fb06e-22e5-4ecb-b2c5-48b591268733",
   "metadata": {},
   "source": [
    "## Create and train a Boosted Decision Tree\n",
    "Here, instead of using a MLP, we use a [_Gradient Boosted Decision Tree_](https://xgboost.readthedocs.io/en/stable/) (BDT) to distinguish between signal (true CE hits) and background (fake CE hits). We use the defualt hyperparameters."
   ]
  },
  {
   "cell_type": "code",
   "execution_count": 5,
   "id": "698e5894-b4e3-405c-a99b-c76b2f12403b",
   "metadata": {},
   "outputs": [
    {
     "name": "stdout",
     "output_type": "stream",
     "text": [
      "[15:29:25] WARNING: /var/folders/sy/f16zz6x50xz3113nwtb9bvq00000gp/T/abs_44tbtwf8c1/croots/recipe/xgboost-split_1659548960882/work/src/learner.cc:1115: Starting in XGBoost 1.3.0, the default evaluation metric used with the objective 'binary:logistic' was changed from 'error' to 'logloss'. Explicitly set eval_metric if you'd like to restore the old behavior.\n"
     ]
    },
    {
     "name": "stderr",
     "output_type": "stream",
     "text": [
      "/Users/brownd/mambaforge/envs/KKTrain/lib/python3.10/site-packages/xgboost/sklearn.py:1224: UserWarning: The use of label encoder in XGBClassifier is deprecated and will be removed in a future release. To remove this warning, do the following: 1) Pass option use_label_encoder=False when constructing XGBClassifier object; and 2) Encode your labels (y) as integers starting with 0, i.e. 0, 1, 2, ..., [num_class - 1].\n",
      "  warnings.warn(label_encoder_deprecation_msg, UserWarning)\n"
     ]
    },
    {
     "data": {
      "text/html": [
       "<style>#sk-container-id-1 {color: black;background-color: white;}#sk-container-id-1 pre{padding: 0;}#sk-container-id-1 div.sk-toggleable {background-color: white;}#sk-container-id-1 label.sk-toggleable__label {cursor: pointer;display: block;width: 100%;margin-bottom: 0;padding: 0.3em;box-sizing: border-box;text-align: center;}#sk-container-id-1 label.sk-toggleable__label-arrow:before {content: \"▸\";float: left;margin-right: 0.25em;color: #696969;}#sk-container-id-1 label.sk-toggleable__label-arrow:hover:before {color: black;}#sk-container-id-1 div.sk-estimator:hover label.sk-toggleable__label-arrow:before {color: black;}#sk-container-id-1 div.sk-toggleable__content {max-height: 0;max-width: 0;overflow: hidden;text-align: left;background-color: #f0f8ff;}#sk-container-id-1 div.sk-toggleable__content pre {margin: 0.2em;color: black;border-radius: 0.25em;background-color: #f0f8ff;}#sk-container-id-1 input.sk-toggleable__control:checked~div.sk-toggleable__content {max-height: 200px;max-width: 100%;overflow: auto;}#sk-container-id-1 input.sk-toggleable__control:checked~label.sk-toggleable__label-arrow:before {content: \"▾\";}#sk-container-id-1 div.sk-estimator input.sk-toggleable__control:checked~label.sk-toggleable__label {background-color: #d4ebff;}#sk-container-id-1 div.sk-label input.sk-toggleable__control:checked~label.sk-toggleable__label {background-color: #d4ebff;}#sk-container-id-1 input.sk-hidden--visually {border: 0;clip: rect(1px 1px 1px 1px);clip: rect(1px, 1px, 1px, 1px);height: 1px;margin: -1px;overflow: hidden;padding: 0;position: absolute;width: 1px;}#sk-container-id-1 div.sk-estimator {font-family: monospace;background-color: #f0f8ff;border: 1px dotted black;border-radius: 0.25em;box-sizing: border-box;margin-bottom: 0.5em;}#sk-container-id-1 div.sk-estimator:hover {background-color: #d4ebff;}#sk-container-id-1 div.sk-parallel-item::after {content: \"\";width: 100%;border-bottom: 1px solid gray;flex-grow: 1;}#sk-container-id-1 div.sk-label:hover label.sk-toggleable__label {background-color: #d4ebff;}#sk-container-id-1 div.sk-serial::before {content: \"\";position: absolute;border-left: 1px solid gray;box-sizing: border-box;top: 0;bottom: 0;left: 50%;z-index: 0;}#sk-container-id-1 div.sk-serial {display: flex;flex-direction: column;align-items: center;background-color: white;padding-right: 0.2em;padding-left: 0.2em;position: relative;}#sk-container-id-1 div.sk-item {position: relative;z-index: 1;}#sk-container-id-1 div.sk-parallel {display: flex;align-items: stretch;justify-content: center;background-color: white;position: relative;}#sk-container-id-1 div.sk-item::before, #sk-container-id-1 div.sk-parallel-item::before {content: \"\";position: absolute;border-left: 1px solid gray;box-sizing: border-box;top: 0;bottom: 0;left: 50%;z-index: -1;}#sk-container-id-1 div.sk-parallel-item {display: flex;flex-direction: column;z-index: 1;position: relative;background-color: white;}#sk-container-id-1 div.sk-parallel-item:first-child::after {align-self: flex-end;width: 50%;}#sk-container-id-1 div.sk-parallel-item:last-child::after {align-self: flex-start;width: 50%;}#sk-container-id-1 div.sk-parallel-item:only-child::after {width: 0;}#sk-container-id-1 div.sk-dashed-wrapped {border: 1px dashed gray;margin: 0 0.4em 0.5em 0.4em;box-sizing: border-box;padding-bottom: 0.4em;background-color: white;}#sk-container-id-1 div.sk-label label {font-family: monospace;font-weight: bold;display: inline-block;line-height: 1.2em;}#sk-container-id-1 div.sk-label-container {text-align: center;}#sk-container-id-1 div.sk-container {/* jupyter's `normalize.less` sets `[hidden] { display: none; }` but bootstrap.min.css set `[hidden] { display: none !important; }` so we also need the `!important` here to be able to override the default hidden behavior on the sphinx rendered scikit-learn.org. See: https://github.com/scikit-learn/scikit-learn/issues/21755 */display: inline-block !important;position: relative;}#sk-container-id-1 div.sk-text-repr-fallback {display: none;}</style><div id=\"sk-container-id-1\" class=\"sk-top-container\"><div class=\"sk-text-repr-fallback\"><pre>XGBClassifier(base_score=0.5, booster=&#x27;gbtree&#x27;, colsample_bylevel=1,\n",
       "              colsample_bynode=1, colsample_bytree=1, enable_categorical=False,\n",
       "              gamma=0, gpu_id=-1, importance_type=None,\n",
       "              interaction_constraints=&#x27;&#x27;, learning_rate=0.300000012,\n",
       "              max_delta_step=0, max_depth=6, min_child_weight=1, missing=nan,\n",
       "              monotone_constraints=&#x27;()&#x27;, n_estimators=100, n_jobs=16,\n",
       "              num_parallel_tree=1, predictor=&#x27;auto&#x27;, random_state=0,\n",
       "              reg_alpha=0, reg_lambda=1, scale_pos_weight=1, subsample=1,\n",
       "              tree_method=&#x27;exact&#x27;, validate_parameters=1, verbosity=None)</pre><b>In a Jupyter environment, please rerun this cell to show the HTML representation or trust the notebook. <br />On GitHub, the HTML representation is unable to render, please try loading this page with nbviewer.org.</b></div><div class=\"sk-container\" hidden><div class=\"sk-item\"><div class=\"sk-estimator sk-toggleable\"><input class=\"sk-toggleable__control sk-hidden--visually\" id=\"sk-estimator-id-1\" type=\"checkbox\" checked><label for=\"sk-estimator-id-1\" class=\"sk-toggleable__label sk-toggleable__label-arrow\">XGBClassifier</label><div class=\"sk-toggleable__content\"><pre>XGBClassifier(base_score=0.5, booster=&#x27;gbtree&#x27;, colsample_bylevel=1,\n",
       "              colsample_bynode=1, colsample_bytree=1, enable_categorical=False,\n",
       "              gamma=0, gpu_id=-1, importance_type=None,\n",
       "              interaction_constraints=&#x27;&#x27;, learning_rate=0.300000012,\n",
       "              max_delta_step=0, max_depth=6, min_child_weight=1, missing=nan,\n",
       "              monotone_constraints=&#x27;()&#x27;, n_estimators=100, n_jobs=16,\n",
       "              num_parallel_tree=1, predictor=&#x27;auto&#x27;, random_state=0,\n",
       "              reg_alpha=0, reg_lambda=1, scale_pos_weight=1, subsample=1,\n",
       "              tree_method=&#x27;exact&#x27;, validate_parameters=1, verbosity=None)</pre></div></div></div></div></div>"
      ],
      "text/plain": [
       "XGBClassifier(base_score=0.5, booster='gbtree', colsample_bylevel=1,\n",
       "              colsample_bynode=1, colsample_bytree=1, enable_categorical=False,\n",
       "              gamma=0, gpu_id=-1, importance_type=None,\n",
       "              interaction_constraints='', learning_rate=0.300000012,\n",
       "              max_delta_step=0, max_depth=6, min_child_weight=1, missing=nan,\n",
       "              monotone_constraints='()', n_estimators=100, n_jobs=16,\n",
       "              num_parallel_tree=1, predictor='auto', random_state=0,\n",
       "              reg_alpha=0, reg_lambda=1, scale_pos_weight=1, subsample=1,\n",
       "              tree_method='exact', validate_parameters=1, verbosity=None)"
      ]
     },
     "execution_count": 5,
     "metadata": {},
     "output_type": "execute_result"
    }
   ],
   "source": [
    "model_xgboost = XGBClassifier()\n",
    "model_xgboost.fit(x_ce_train, y_ce_train)"
   ]
  },
  {
   "cell_type": "markdown",
   "id": "d7aa6212-21f7-46c8-b7af-dab07ced4269",
   "metadata": {},
   "source": [
    "Here we can finally apply our two models (the MLP and the BDT) to our test datasets and create the corresponding ROC curves."
   ]
  },
  {
   "cell_type": "code",
   "execution_count": 6,
   "id": "3dcbef70-e875-40dd-8a8f-5a66fc32fb1d",
   "metadata": {},
   "outputs": [
    {
     "name": "stdout",
     "output_type": "stream",
     "text": [
      "3753/3753 [==============================] - 2s 535us/step\n"
     ]
    }
   ],
   "source": [
    "prediction_ce = model_ce.predict(x_ce_test).ravel()\n",
    "fpr_ce, tpr_ce, th_ce = roc_curve(y_ce_test,  prediction_ce)\n",
    "auc_ce = roc_auc_score(y_ce_test, prediction_ce)"
   ]
  },
  {
   "cell_type": "code",
   "execution_count": 7,
   "id": "cce6a838-1a4c-41e3-a2bb-46a270ad6d86",
   "metadata": {},
   "outputs": [],
   "source": [
    "prediction_xgboost = model_xgboost.predict_proba(x_ce_test)[:,1]\n",
    "fpr_xgboost, tpr_xgboost, th_xgboost = roc_curve(y_ce_test,  prediction_xgboost)\n",
    "auc_xgboost = roc_auc_score(y_ce_test, prediction_xgboost)"
   ]
  },
  {
   "cell_type": "markdown",
   "id": "a7f392a2-223f-4a47-81de-45dc56b8e42d",
   "metadata": {},
   "source": [
    "The plot of the ROC curves clearly shows that the BDT outperforms the MLP. In principle, however, it should be possible to improve the MLP performances by optimizing the hyperparameters (learning rate, hidden layers, activation functions, etc.)."
   ]
  },
  {
   "cell_type": "code",
   "execution_count": 10,
   "id": "def9b80f-d130-4ac0-bc19-ea03de7032f7",
   "metadata": {},
   "outputs": [
    {
     "data": {
      "image/png": "[encoded data removed]",
      "text/plain": [
       "<Figure size 640x480 with 1 Axes>"
      ]
     },
     "metadata": {},
     "output_type": "display_data"
    }
   ],
   "source": [
    "fig, ax = plt.subplots(1,1)\n",
    "ax.plot(tpr_ce,1-fpr_ce,label=f'MLP AUC: {auc_ce:.3f}')\n",
    "ax.plot(tpr_xgboost,1-fpr_xgboost,label=f'BDT AUC: {auc_xgboost:.3f}')\n",
    "\n",
    "ax.legend()\n",
    "ax.set_aspect(\"equal\")\n",
    "ax.set_xlabel(\"Signal efficiency\")\n",
    "ax.set_ylabel(\"Background rejection\")\n",
    "ax.set_xlim(0,1.05)\n",
    "ax.set_ylim(0,1.05)\n",
    "fig.savefig(\"TrainDrift.pdf\")"
   ]
  },
  {
   "cell_type": "code",
   "execution_count": 11,
   "id": "65ebbd1c-7365-43ce-acb3-873ad2f17d30",
   "metadata": {},
   "outputs": [
    {
     "name": "stdout",
     "output_type": "stream",
     "text": [
      "Model: \"model\"\n",
      "_________________________________________________________________\n",
      " Layer (type)                Output Shape              Param #   \n",
      "=================================================================\n",
      " input_1 (InputLayer)        [(1, 5)]                  0         \n",
      "                                                                 \n",
      " dense (Dense)               (1, 10)                   60        \n",
      "                                                                 \n",
      " dense_1 (Dense)             (1, 10)                   110       \n",
      "                                                                 \n",
      " dense_2 (Dense)             (1, 10)                   110       \n",
      "                                                                 \n",
      " dense_3 (Dense)             (1, 1)                    11        \n",
      "                                                                 \n",
      "=================================================================\n",
      "Total params: 291\n",
      "Trainable params: 291\n",
      "Non-trainable params: 0\n",
      "_________________________________________________________________\n",
      "WARNING:tensorflow:Compiled the loaded model, but the compiled metrics have yet to be built. `model.compile_metrics` will be empty until you train or evaluate the model.\n"
     ]
    }
   ],
   "source": [
    "output_model.set_weights(model_ce.get_weights())\n",
    "output_model.summary()\n",
    "output_model.save(\"TrainDrift.h5\")"
   ]
  }
 ],
 "metadata": {
  "kernelspec": {
   "display_name": "KKTrain",
   "language": "python",
   "name": "kktrain"
  },
  "language_info": {
   "codemirror_mode": {
    "name": "ipython",
    "version": 3
   },
   "file_extension": ".py",
   "mimetype": "text/x-python",
   "name": "python",
   "nbconvert_exporter": "python",
   "pygments_lexer": "ipython3",
   "version": "3.10.8"
  }
 },
 "nbformat": 4,
 "nbformat_minor": 5
}
