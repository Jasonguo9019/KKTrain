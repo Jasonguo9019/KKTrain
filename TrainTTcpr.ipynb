{
 "cells": [
  {
   "cell_type": "markdown",
   "id": "3682ec46-ba08-4ab7-9da1-3e771180d18c",
   "metadata": {},
   "source": [
    "# Training File for Trigger Dataset"
   ]
  },
  {
   "cell_type": "markdown",
   "id": "14b4c58e-658f-4bc3-9a06-3e017f723148",
   "metadata": {},
   "source": [
    "This is a training file for the Trigger dataset (cluster number 60358177) located at \"/global/cfs/cdirs/m3712/Mu2e/TrkAna/60358177\". Running the following cells will call and run TrainBkg.ipynb. The AUC curve generated will be saved as \"TrainBkgTTtpr.pdf\" in the \"training_plots\" directory, and the .h5 file training model generated will be saved as \"TrainBkgTTtpr.h5\" in the \"models\" file"
   ]
  },
  {
   "cell_type": "code",
   "execution_count": null,
   "id": "4b017fd0-a783-4836-a2a6-c1dff4f01d1e",
   "metadata": {},
   "outputs": [
    {
     "name": "stdout",
     "output_type": "stream",
     "text": [
      "Using files in /Users/brownd/data/60358177/all_files.txt\n",
      "Loaded TrainBkg\n"
     ]
    },
    {
     "name": "stderr",
     "output_type": "stream",
     "text": [
      "2023-04-18 18:03:29.481455: I tensorflow/core/platform/cpu_feature_guard.cc:193] This TensorFlow binary is optimized with oneAPI Deep Neural Network Library (oneDNN) to use the following CPU instructions in performance-critical operations:  SSE4.1 SSE4.2 AVX AVX2 FMA\n",
      "To enable them in other operations, rebuild TensorFlow with the appropriate compiler flags.\n"
     ]
    },
    {
     "name": "stdout",
     "output_type": "stream",
     "text": [
      "Processing file /Users/brownd/data/60358177/nts.brownd.TTKKSeed.TTTAT.001210_00000005.root\n",
      "\n",
      "Processed file /Users/brownd/data/60358177/nts.brownd.TTKKSeed.TTTAT.001210_00000005.root\n",
      " with 443666 hits\n",
      "Processing file /Users/brownd/data/60358177/nts.brownd.TTKKSeed.TTTAT.001210_00000026.root\n",
      "\n",
      "Processed file /Users/brownd/data/60358177/nts.brownd.TTKKSeed.TTTAT.001210_00000026.root\n",
      " with 439960 hits\n",
      "Processing file /Users/brownd/data/60358177/nts.brownd.TTKKSeed.TTTAT.001210_00000065.root\n",
      "\n",
      "Processed file /Users/brownd/data/60358177/nts.brownd.TTKKSeed.TTTAT.001210_00000065.root\n",
      " with 444866 hits\n",
      "Processing file /Users/brownd/data/60358177/nts.brownd.TTKKSeed.TTTAT.001210_00000104.root\n",
      "\n",
      "Processed file /Users/brownd/data/60358177/nts.brownd.TTKKSeed.TTTAT.001210_00000104.root\n",
      " with 444012 hits\n",
      "Processing file /Users/brownd/data/60358177/nts.brownd.TTKKSeed.TTTAT.001210_00000135.root\n",
      "\n",
      "Processed file /Users/brownd/data/60358177/nts.brownd.TTKKSeed.TTTAT.001210_00000135.root\n",
      " with 442936 hits\n",
      "Processing file /Users/brownd/data/60358177/nts.brownd.TTKKSeed.TTTAT.001210_00000170.root\n",
      "\n",
      "Processed file /Users/brownd/data/60358177/nts.brownd.TTKKSeed.TTTAT.001210_00000170.root\n",
      " with 438058 hits\n",
      "Processing file /Users/brownd/data/60358177/nts.brownd.TTKKSeed.TTTAT.001210_00000202.root\n",
      "\n"
     ]
    }
   ],
   "source": [
    "## This cell runs on the cpr tree\n",
    "\n",
    "suffix = \"TTcpr\"\n",
    "treename = \"TAcpr\"\n",
    "#file_list = \"/global/cfs/cdirs/m3712/Mu2e/TrkAna/60358177/files.txt\"\n",
    "file_list = \"/Users/brownd/data/60358177/all_files.txt\"\n",
    "print(\"Using files in \" + file_list)\n",
    "\n",
    "%run ./TrainBkg.ipynb"
   ]
  }
 ],
 "metadata": {
  "kernelspec": {
   "display_name": "KKTrain",
   "language": "python",
   "name": "kktrain"
  },
  "language_info": {
   "codemirror_mode": {
    "name": "ipython",
    "version": 3
   },
   "file_extension": ".py",
   "mimetype": "text/x-python",
   "name": "python",
   "nbconvert_exporter": "python",
   "pygments_lexer": "ipython3",
   "version": "3.10.9"
  }
 },
 "nbformat": 4,
 "nbformat_minor": 5
}
