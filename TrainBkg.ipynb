{
 "cells": [
  {
   "cell_type": "markdown",
   "id": "bb74a62f-a4a9-4e61-9415-58c8a06f5f75",
   "metadata": {},
   "source": [
    "# Hit classification"
   ]
  },
  {
   "cell_type": "markdown",
   "id": "8d61cb5d-7c43-4a94-9e3c-eb2889e69b88",
   "metadata": {},
   "source": [
    "In this notebook we will try to use Keras and XGBoost in order to distinguish between _true_ conversion electron hits and _fake_ conversion electron hits."
   ]
  },
  {
   "cell_type": "code",
   "execution_count": 1,
   "id": "52ce5426-86e5-4f6e-a7d5-a847d6e2ce97",
   "metadata": {
    "tags": []
   },
   "outputs": [
    {
     "name": "stderr",
     "output_type": "stream",
     "text": [
      "2022-12-23 14:26:39.849764: I tensorflow/core/platform/cpu_feature_guard.cc:193] This TensorFlow binary is optimized with oneAPI Deep Neural Network Library (oneDNN) to use the following CPU instructions in performance-critical operations:  SSE4.1 SSE4.2 AVX AVX2 FMA\n",
      "To enable them in other operations, rebuild TensorFlow with the appropriate compiler flags.\n"
     ]
    }
   ],
   "source": [
    "import uproot \n",
    "import awkward as ak\n",
    "import numpy as np\n",
    "import matplotlib.pyplot as plt\n",
    "import os\n",
    "import datetime\n",
    "import tensorflow as tf\n",
    "from tensorflow.keras.callbacks import EarlyStopping\n",
    "from tensorflow.keras.models import Sequential, Model\n",
    "from tensorflow.keras.layers import Input, Dense, Dropout, Activation, ReLU\n",
    "from tensorflow.keras.optimizers import SGD\n",
    "import tensorflow.keras.layers\n",
    "from tensorflow.keras.optimizers import Adam\n",
    "from sklearn.model_selection import train_test_split\n",
    "from sklearn.metrics import roc_curve, roc_auc_score\n",
    "from xgboost import XGBClassifier"
   ]
  },
  {
   "cell_type": "markdown",
   "id": "13b18db5-7d46-40ed-9a1b-528d48256097",
   "metadata": {},
   "source": [
    "First of all we use [uproot](https://uproot.readthedocs.io/en/latest/), a library to reading ROOT files in pure Python and NumPy, to open the `trkana` tree in the `TAKK` folder of the `KKSM01.root` file. We only need certain branches, so we apply a filter to read only `de`, `detsh`, `detshmc`, and `demc`. We then apply a mask to our tree to select only good fits.\n",
    "\n",
    "In our problem we have a different number of signal and background entries in our input dataset. There are several techniques avaialable for _unbalanced_ datasets. Here we are using the most naive one, which is just using $\\min(N_{sig}, N_{bkg})$ events. Then, we divide our input into the _training_, _validation_, and _test_ datasets.  Note that the datasets must be pruned to the nearest multiple of the batch size, otherwise the gradient calculation fails."
   ]
  },
  {
   "cell_type": "code",
   "execution_count": 2,
   "id": "90450e58-8bce-4fae-be27-97d62d89be18",
   "metadata": {},
   "outputs": [
    {
     "name": "stdout",
     "output_type": "stream",
     "text": [
      "Using files in /Users/brownd/data/42082053/files.txt\n",
      "Processing: /Users/brownd/data/42082053/nts.brownd.KKSeed.KKSNB.001210_00000005.root\n",
      "\n",
      "Processed file /Users/brownd/data/42082053/nts.brownd.KKSeed.KKSNB.001210_00000005.root\n",
      " with 580548 hits\n",
      "[ True  True  True ...  True  True  True]\n",
      "[False False False ... False False False]\n",
      "Processing: /Users/brownd/data/42082053/nts.brownd.KKSeed.KKSNB.001210_00000008.root\n",
      "\n",
      "Processed file /Users/brownd/data/42082053/nts.brownd.KKSeed.KKSNB.001210_00000008.root\n",
      " with 571683 hits\n",
      "[ True  True  True ...  True  True  True]\n",
      "[False False False ... False False False]\n",
      "Processing: /Users/brownd/data/42082053/nts.brownd.KKSeed.KKSNB.001210_00000024.root\n",
      "\n",
      "Processed file /Users/brownd/data/42082053/nts.brownd.KKSeed.KKSNB.001210_00000024.root\n",
      " with 575947 hits\n",
      "[ True  True  True ...  True  True False]\n",
      "[False False False ... False False  True]\n",
      "Processing: /Users/brownd/data/42082053/nts.brownd.KKSeed.KKSNB.001210_00000073.root\n",
      "\n",
      "Processed file /Users/brownd/data/42082053/nts.brownd.KKSeed.KKSNB.001210_00000073.root\n",
      " with 571081 hits\n",
      "[ True  True  True ... False  True  True]\n",
      "[False False False ... False False False]\n",
      "Processing: /Users/brownd/data/42082053/nts.brownd.KKSeed.KKSNB.001210_00000103.root\n",
      "\n",
      "Processed file /Users/brownd/data/42082053/nts.brownd.KKSeed.KKSNB.001210_00000103.root\n",
      " with 572939 hits\n",
      "[ True  True  True ...  True  True  True]\n",
      "[False False False ... False False False]\n",
      "Processing: /Users/brownd/data/42082053/nts.brownd.KKSeed.KKSNB.001210_00000126.root\n",
      "\n",
      "Processed file /Users/brownd/data/42082053/nts.brownd.KKSeed.KKSNB.001210_00000126.root\n",
      " with 578793 hits\n",
      "[ True  True  True ...  True  True  True]\n",
      "[False False False ... False False False]\n",
      "Processing: /Users/brownd/data/42082053/nts.brownd.KKSeed.KKSNB.001210_00000173.root\n",
      "\n",
      "Processed file /Users/brownd/data/42082053/nts.brownd.KKSeed.KKSNB.001210_00000173.root\n",
      " with 568795 hits\n",
      "[ True  True  True ...  True  True False]\n",
      "[False False False ... False False False]\n",
      "Processing: /Users/brownd/data/42082053/nts.brownd.KKSeed.KKSNB.001210_00000390.root\n",
      "\n",
      "Processed file /Users/brownd/data/42082053/nts.brownd.KKSeed.KKSNB.001210_00000390.root\n",
      " with 572541 hits\n",
      "[ True  True  True ...  True False False]\n",
      "[False False False ... False False False]\n",
      "Total dataset 4592327 hits\n",
      "[ True  True  True ...  True False False]\n",
      "[False False False ... False False False]\n"
     ]
    }
   ],
   "source": [
    "input_dataset = np.empty\n",
    "temp = np.empty\n",
    "signal = np.empty\n",
    "backgnd = np.empty\n",
    "filelist = os.environ['KKTrainData']\n",
    "print(\"Using files in \" + filelist)\n",
    "files = open(filelist, 'r')\n",
    "for filename in files:\n",
    "    print(\"Processing: \" + filename)    \n",
    "    with uproot.open(filename) as file:\n",
    "        trkana = file[\"TAKK\"][\"trkana\"].arrays(filter_name=\"/de|detsh|detshmc|demc/i\")\n",
    "        trkana = trkana[(trkana['de.goodfit']==1)&(trkana['de.status']>0)&(trkana['demc.proc']==167)]\n",
    "        udt = ak.concatenate(trkana['detsh.udt']).to_numpy()\n",
    "        hstate = ak.concatenate(trkana['detsh.state']).to_numpy()\n",
    "        udoca = ak.concatenate(trkana['detsh.udoca']).to_numpy()\n",
    "        rdrift = ak.concatenate(trkana['detsh.rdrift']).to_numpy()\n",
    "        tottdrift = ak.concatenate(trkana['detsh.tottdrift']).to_numpy()\n",
    "        edep = ak.concatenate(trkana['detsh.edep']).to_numpy()\n",
    "        udocavar = ak.concatenate(trkana['detsh.udocavar']).to_numpy()\n",
    "        wdist = ak.concatenate(trkana['detsh.wdist']).to_numpy()\n",
    "        uupos = ak.concatenate(trkana['detsh.uupos']).to_numpy()\n",
    "        rho = np.square(ak.concatenate(trkana['detsh.poca.fCoordinates.fX']).to_numpy())\n",
    "        rho = np.add(rho,np.square(ak.concatenate(trkana['detsh.poca.fCoordinates.fY']).to_numpy()))\n",
    "        rho = np.sqrt(rho)\n",
    "        print(\"Processed file \" + filename + \" with %s hits\"%udt.shape[0])\n",
    "        temp = np.vstack((udt,udoca,tottdrift,rdrift,edep, udocavar, wdist, uupos, rho)).T\n",
    "        if input_dataset is np.empty:\n",
    "            input_dataset = temp\n",
    "        else:\n",
    "            input_dataset = np.concatenate((input_dataset, temp))\n",
    "        mcrel = []\n",
    "        for i, this_dt in enumerate(trkana['detsh.udt']):\n",
    "            mcrel.extend(trkana['detshmc.rel._rel'][i][:len(this_dt)])\n",
    "        mcrel = np.array(mcrel)\n",
    "        sig = (hstate>-2) & (mcrel==0)\n",
    "        bkg = (hstate>-2) & (mcrel==-1)\n",
    "        if signal is np.empty:\n",
    "            signal = sig\n",
    "            backgnd = bkg\n",
    "        else:\n",
    "            signal = np.concatenate((signal,sig))\n",
    "            backgnd = np.concatenate((backgnd,bkg))\n",
    "nhits=len(input_dataset)\n",
    "print(\"Total dataset %s hits\"%nhits)\n"
   ]
  },
  {
   "cell_type": "markdown",
   "id": "81afa96c-4517-4bca-95c5-53ef01a36dc8",
   "metadata": {},
   "source": [
    "Then, we concatenate each hit variables into a single, large numpy array. These arrays are then stacked in a single bi-dimensional array with `np.vstack`, which will be our input dataset used for the training of the machine learning algorithms."
   ]
  },
  {
   "cell_type": "markdown",
   "id": "0167fc47-dd84-4a31-98d0-a0270f04bfd5",
   "metadata": {
    "tags": []
   },
   "source": [
    "Here we then assign a label to each hit as _signal_ or _background_, depending on the Monte Carlo truth information. Since the dimension of  `detshmc.rel._rel` is not guaranteed to be the same as the dimension of `detsh` we need to loop over all the entries."
   ]
  },
  {
   "cell_type": "code",
   "execution_count": 3,
   "id": "2ed7b23e-d3ab-4645-a905-c3d4090eb7ab",
   "metadata": {},
   "outputs": [
    {
     "name": "stdout",
     "output_type": "stream",
     "text": [
      "Training on 25024 matched hits\n"
     ]
    }
   ],
   "source": [
    "min_len = min(len(input_dataset[signal]), len(input_dataset[backgnd]))\n",
    "bsize=32\n",
    "# I need to double the batch_size when truncating as we divide the sample in half later for training\n",
    "tsize=2*bsize\n",
    "min_len = min_len - min_len%tsize\n",
    "print(\"Training on %s matched hits\"%min_len)\n",
    "signal_dataset = input_dataset[signal][:min_len]\n",
    "bkg_dataset = input_dataset[backgnd][:min_len]\n",
    "\n",
    "balanced_input = np.concatenate((signal_dataset, bkg_dataset))\n",
    "y_balanced_input = np.concatenate((np.ones(signal_dataset.shape[0]), np.zeros(bkg_dataset.shape[0])))\n",
    "\n",
    "n_variables = balanced_input.shape[1]\n",
    "\n",
    "x_ce_train, x_ce_test, y_ce_train, y_ce_test = train_test_split(balanced_input, y_balanced_input, test_size=0.5, random_state=42)\n",
    "x_ce_test, x_ce_valid, y_ce_test, y_ce_valid = train_test_split(x_ce_test, y_ce_test, test_size=0.5, random_state=42)"
   ]
  },
  {
   "cell_type": "markdown",
   "id": "414715a1-8fe6-47d2-b856-76e7f09a30c5",
   "metadata": {
    "tags": []
   },
   "source": [
    "## Create and train a multi-layer perceptron"
   ]
  },
  {
   "cell_type": "markdown",
   "id": "5d3968ba-51a2-45c8-9882-c989a3f7d691",
   "metadata": {},
   "source": [
    "Here we create a _multi-layer perceptron_ (MLP) model which consists of 3 fully-connected (or _dense_) layers, each one followed by a _dropout_ layer, which helps to avoid overfitting. The model is trained using the [Adam](https://arxiv.org/abs/1412.6980) optimizer and trained for 50 epochs or until the validation loss doesn't improve for 5 epochs (`early_stop`). The model we save must be created first, with an explicit input layer with explicit batch_size, otherwise it can't be parsed by the TMVA::SOFIE parser we use to generate a C++ inference function downstream. "
   ]
  },
  {
   "cell_type": "markdown",
   "id": "a907660a-6c6a-47cd-a59f-1321824bfb4e",
   "metadata": {},
   "source": [
    "The output model must have batch_size=1, otherwise the SOFIE inference function will assume that many input variables at a time.  Training (gradient calculation) however is much more efficient with a larger batch size, so we construct a separate model for that.  After training and before saving, we'll copy the weights (which don't depend on batch_size) from the trained model to the output model.  This should be unnecessary in the next verison of ROOT."
   ]
  },
  {
   "cell_type": "code",
   "execution_count": 4,
   "id": "e8d67f9b-a0f8-4b94-8051-c9a5001eed24",
   "metadata": {},
   "outputs": [
    {
     "name": "stdout",
     "output_type": "stream",
     "text": [
      "Epoch 1/200\n"
     ]
    },
    {
     "name": "stderr",
     "output_type": "stream",
     "text": [
      "2022-12-23 14:30:25.189083: I tensorflow/core/platform/cpu_feature_guard.cc:193] This TensorFlow binary is optimized with oneAPI Deep Neural Network Library (oneDNN) to use the following CPU instructions in performance-critical operations:  SSE4.1 SSE4.2 AVX AVX2 FMA\n",
      "To enable them in other operations, rebuild TensorFlow with the appropriate compiler flags.\n"
     ]
    },
    {
     "name": "stdout",
     "output_type": "stream",
     "text": [
      "782/782 [==============================] - 1s 1ms/step - loss: 3.9986 - accuracy: 0.6841 - val_loss: 0.3860 - val_accuracy: 0.8358\n",
      "Epoch 2/200\n",
      "782/782 [==============================] - 1s 1ms/step - loss: 0.3924 - accuracy: 0.8333 - val_loss: 0.3686 - val_accuracy: 0.8427\n",
      "Epoch 3/200\n",
      "782/782 [==============================] - 1s 1ms/step - loss: 0.3759 - accuracy: 0.8411 - val_loss: 0.3743 - val_accuracy: 0.8367\n",
      "Epoch 4/200\n",
      "782/782 [==============================] - 1s 1ms/step - loss: 0.3752 - accuracy: 0.8406 - val_loss: 0.3526 - val_accuracy: 0.8517\n",
      "Epoch 5/200\n",
      "782/782 [==============================] - 1s 1ms/step - loss: 0.3778 - accuracy: 0.8394 - val_loss: 0.3695 - val_accuracy: 0.8391\n",
      "Epoch 6/200\n",
      "782/782 [==============================] - 1s 1ms/step - loss: 0.3746 - accuracy: 0.8419 - val_loss: 0.3506 - val_accuracy: 0.8523\n",
      "Epoch 7/200\n",
      "782/782 [==============================] - 1s 1ms/step - loss: 0.3741 - accuracy: 0.8416 - val_loss: 0.3564 - val_accuracy: 0.8511\n",
      "Epoch 8/200\n",
      "782/782 [==============================] - 1s 1ms/step - loss: 0.3714 - accuracy: 0.8402 - val_loss: 0.3714 - val_accuracy: 0.8445\n",
      "Epoch 9/200\n",
      "782/782 [==============================] - 1s 1ms/step - loss: 0.3718 - accuracy: 0.8426 - val_loss: 0.3567 - val_accuracy: 0.8496\n",
      "Epoch 10/200\n",
      "782/782 [==============================] - 1s 1ms/step - loss: 0.3653 - accuracy: 0.8440 - val_loss: 0.3987 - val_accuracy: 0.8387\n",
      "Epoch 11/200\n",
      "782/782 [==============================] - 1s 1ms/step - loss: 0.3714 - accuracy: 0.8419 - val_loss: 0.3517 - val_accuracy: 0.8496\n",
      "Epoch 12/200\n",
      "782/782 [==============================] - 1s 1ms/step - loss: 0.3653 - accuracy: 0.8430 - val_loss: 0.3461 - val_accuracy: 0.8545\n",
      "Epoch 13/200\n",
      "782/782 [==============================] - 1s 1ms/step - loss: 0.3640 - accuracy: 0.8452 - val_loss: 0.3491 - val_accuracy: 0.8504\n",
      "Epoch 14/200\n",
      "782/782 [==============================] - 1s 1ms/step - loss: 0.3649 - accuracy: 0.8430 - val_loss: 0.3508 - val_accuracy: 0.8497\n",
      "Epoch 15/200\n",
      "782/782 [==============================] - 1s 1ms/step - loss: 0.3642 - accuracy: 0.8429 - val_loss: 0.3490 - val_accuracy: 0.8516\n",
      "Epoch 16/200\n",
      "782/782 [==============================] - 1s 1ms/step - loss: 0.3656 - accuracy: 0.8453 - val_loss: 0.3546 - val_accuracy: 0.8450\n",
      "Epoch 17/200\n",
      "782/782 [==============================] - 1s 1ms/step - loss: 0.3610 - accuracy: 0.8441 - val_loss: 0.3645 - val_accuracy: 0.8461\n",
      "Epoch 18/200\n",
      "782/782 [==============================] - 1s 1ms/step - loss: 0.3605 - accuracy: 0.8449 - val_loss: 0.3566 - val_accuracy: 0.8495\n",
      "Epoch 19/200\n",
      "782/782 [==============================] - 1s 1ms/step - loss: 0.3576 - accuracy: 0.8489 - val_loss: 0.3474 - val_accuracy: 0.8494\n",
      "Epoch 20/200\n",
      "782/782 [==============================] - 1s 1ms/step - loss: 0.3596 - accuracy: 0.8471 - val_loss: 0.3459 - val_accuracy: 0.8518\n",
      "Epoch 21/200\n",
      "782/782 [==============================] - 1s 1ms/step - loss: 0.3588 - accuracy: 0.8452 - val_loss: 0.3462 - val_accuracy: 0.8511\n",
      "Epoch 22/200\n",
      "782/782 [==============================] - 1s 1ms/step - loss: 0.3562 - accuracy: 0.8465 - val_loss: 0.3555 - val_accuracy: 0.8496\n",
      "Epoch 23/200\n",
      "782/782 [==============================] - 1s 1ms/step - loss: 0.3549 - accuracy: 0.8482 - val_loss: 0.3421 - val_accuracy: 0.8526\n",
      "Epoch 24/200\n",
      "782/782 [==============================] - 1s 1ms/step - loss: 0.3540 - accuracy: 0.8497 - val_loss: 0.3480 - val_accuracy: 0.8489\n",
      "Epoch 25/200\n",
      "782/782 [==============================] - 1s 1ms/step - loss: 0.3540 - accuracy: 0.8489 - val_loss: 0.3447 - val_accuracy: 0.8525\n",
      "Epoch 26/200\n",
      "782/782 [==============================] - 1s 1ms/step - loss: 0.3536 - accuracy: 0.8485 - val_loss: 0.3461 - val_accuracy: 0.8533\n",
      "Epoch 27/200\n",
      "782/782 [==============================] - 1s 1ms/step - loss: 0.3529 - accuracy: 0.8492 - val_loss: 0.3397 - val_accuracy: 0.8549\n",
      "Epoch 28/200\n",
      "782/782 [==============================] - 1s 1ms/step - loss: 0.3515 - accuracy: 0.8485 - val_loss: 0.3396 - val_accuracy: 0.8549\n",
      "Epoch 29/200\n",
      "782/782 [==============================] - 1s 1ms/step - loss: 0.3512 - accuracy: 0.8504 - val_loss: 0.3558 - val_accuracy: 0.8438\n",
      "Epoch 30/200\n",
      "782/782 [==============================] - 1s 1ms/step - loss: 0.3513 - accuracy: 0.8507 - val_loss: 0.3455 - val_accuracy: 0.8521\n",
      "Epoch 31/200\n",
      "782/782 [==============================] - 1s 1ms/step - loss: 0.3523 - accuracy: 0.8500 - val_loss: 0.3419 - val_accuracy: 0.8529\n",
      "Epoch 32/200\n",
      "782/782 [==============================] - 1s 1ms/step - loss: 0.3504 - accuracy: 0.8504 - val_loss: 0.3441 - val_accuracy: 0.8545\n",
      "Epoch 33/200\n",
      "782/782 [==============================] - 1s 1ms/step - loss: 0.3491 - accuracy: 0.8502 - val_loss: 0.3394 - val_accuracy: 0.8555\n",
      "Epoch 34/200\n",
      "782/782 [==============================] - 1s 1ms/step - loss: 0.3513 - accuracy: 0.8497 - val_loss: 0.3472 - val_accuracy: 0.8523\n",
      "Epoch 35/200\n",
      "782/782 [==============================] - 1s 1ms/step - loss: 0.3514 - accuracy: 0.8507 - val_loss: 0.3392 - val_accuracy: 0.8560\n",
      "Epoch 36/200\n",
      "782/782 [==============================] - 1s 1ms/step - loss: 0.3482 - accuracy: 0.8512 - val_loss: 0.3461 - val_accuracy: 0.8541\n",
      "Epoch 37/200\n",
      "782/782 [==============================] - 1s 1ms/step - loss: 0.3468 - accuracy: 0.8518 - val_loss: 0.3410 - val_accuracy: 0.8563\n",
      "Epoch 38/200\n",
      "782/782 [==============================] - 1s 1ms/step - loss: 0.3449 - accuracy: 0.8546 - val_loss: 0.3402 - val_accuracy: 0.8549\n",
      "Epoch 39/200\n",
      "782/782 [==============================] - 1s 1ms/step - loss: 0.3446 - accuracy: 0.8542 - val_loss: 0.3342 - val_accuracy: 0.8585\n",
      "Epoch 40/200\n",
      "782/782 [==============================] - 1s 1ms/step - loss: 0.3396 - accuracy: 0.8579 - val_loss: 0.3301 - val_accuracy: 0.8640\n",
      "Epoch 41/200\n",
      "782/782 [==============================] - 1s 1ms/step - loss: 0.3358 - accuracy: 0.8593 - val_loss: 0.3266 - val_accuracy: 0.8660\n",
      "Epoch 42/200\n",
      "782/782 [==============================] - 1s 1ms/step - loss: 0.3318 - accuracy: 0.8633 - val_loss: 0.3287 - val_accuracy: 0.8625\n",
      "Epoch 43/200\n",
      "782/782 [==============================] - 1s 1ms/step - loss: 0.3279 - accuracy: 0.8665 - val_loss: 0.3193 - val_accuracy: 0.8669\n",
      "Epoch 44/200\n",
      "782/782 [==============================] - 1s 1ms/step - loss: 0.3245 - accuracy: 0.8673 - val_loss: 0.3203 - val_accuracy: 0.8648\n",
      "Epoch 45/200\n",
      "782/782 [==============================] - 1s 1ms/step - loss: 0.3200 - accuracy: 0.8696 - val_loss: 0.3179 - val_accuracy: 0.8688\n",
      "Epoch 46/200\n",
      "782/782 [==============================] - 1s 1ms/step - loss: 0.3186 - accuracy: 0.8703 - val_loss: 0.3078 - val_accuracy: 0.8725\n",
      "Epoch 47/200\n",
      "782/782 [==============================] - 1s 1ms/step - loss: 0.3161 - accuracy: 0.8716 - val_loss: 0.3072 - val_accuracy: 0.8728\n",
      "Epoch 48/200\n",
      "782/782 [==============================] - 1s 1ms/step - loss: 0.3139 - accuracy: 0.8724 - val_loss: 0.3039 - val_accuracy: 0.8755\n",
      "Epoch 49/200\n",
      "782/782 [==============================] - 1s 1ms/step - loss: 0.3121 - accuracy: 0.8731 - val_loss: 0.3026 - val_accuracy: 0.8776\n",
      "Epoch 50/200\n",
      "782/782 [==============================] - 1s 1ms/step - loss: 0.3098 - accuracy: 0.8752 - val_loss: 0.3075 - val_accuracy: 0.8739\n",
      "Epoch 51/200\n",
      "782/782 [==============================] - 1s 1ms/step - loss: 0.3072 - accuracy: 0.8766 - val_loss: 0.3106 - val_accuracy: 0.8724\n",
      "Epoch 52/200\n",
      "782/782 [==============================] - 1s 1ms/step - loss: 0.3056 - accuracy: 0.8751 - val_loss: 0.2950 - val_accuracy: 0.8788\n",
      "Epoch 53/200\n",
      "782/782 [==============================] - 1s 1ms/step - loss: 0.3049 - accuracy: 0.8769 - val_loss: 0.2964 - val_accuracy: 0.8772\n",
      "Epoch 54/200\n",
      "782/782 [==============================] - 1s 1ms/step - loss: 0.3034 - accuracy: 0.8777 - val_loss: 0.2925 - val_accuracy: 0.8816\n",
      "Epoch 55/200\n",
      "782/782 [==============================] - 1s 1ms/step - loss: 0.3002 - accuracy: 0.8797 - val_loss: 0.3009 - val_accuracy: 0.8782\n",
      "Epoch 56/200\n",
      "782/782 [==============================] - 1s 1ms/step - loss: 0.2999 - accuracy: 0.8788 - val_loss: 0.2913 - val_accuracy: 0.8822\n",
      "Epoch 57/200\n",
      "782/782 [==============================] - 1s 1ms/step - loss: 0.2961 - accuracy: 0.8802 - val_loss: 0.2910 - val_accuracy: 0.8812\n",
      "Epoch 58/200\n",
      "782/782 [==============================] - 1s 1ms/step - loss: 0.2953 - accuracy: 0.8811 - val_loss: 0.3102 - val_accuracy: 0.8724\n",
      "Epoch 59/200\n",
      "782/782 [==============================] - 1s 1ms/step - loss: 0.2933 - accuracy: 0.8809 - val_loss: 0.2926 - val_accuracy: 0.8804\n",
      "Epoch 60/200\n",
      "782/782 [==============================] - 1s 1ms/step - loss: 0.2930 - accuracy: 0.8831 - val_loss: 0.2846 - val_accuracy: 0.8845\n",
      "Epoch 61/200\n",
      "782/782 [==============================] - 1s 1ms/step - loss: 0.2923 - accuracy: 0.8803 - val_loss: 0.2895 - val_accuracy: 0.8800\n",
      "Epoch 62/200\n",
      "782/782 [==============================] - 1s 1ms/step - loss: 0.2908 - accuracy: 0.8824 - val_loss: 0.2984 - val_accuracy: 0.8776\n",
      "Epoch 63/200\n",
      "782/782 [==============================] - 1s 1ms/step - loss: 0.2893 - accuracy: 0.8830 - val_loss: 0.2992 - val_accuracy: 0.8784\n",
      "Epoch 64/200\n",
      "782/782 [==============================] - 1s 1ms/step - loss: 0.2885 - accuracy: 0.8846 - val_loss: 0.2835 - val_accuracy: 0.8838\n",
      "Epoch 65/200\n",
      "782/782 [==============================] - 1s 1ms/step - loss: 0.2885 - accuracy: 0.8838 - val_loss: 0.2879 - val_accuracy: 0.8807\n",
      "Epoch 66/200\n",
      "782/782 [==============================] - 1s 1ms/step - loss: 0.2858 - accuracy: 0.8840 - val_loss: 0.2766 - val_accuracy: 0.8853\n",
      "Epoch 67/200\n",
      "782/782 [==============================] - 1s 1ms/step - loss: 0.2847 - accuracy: 0.8857 - val_loss: 0.2940 - val_accuracy: 0.8778\n",
      "Epoch 68/200\n",
      "782/782 [==============================] - 1s 1ms/step - loss: 0.2832 - accuracy: 0.8859 - val_loss: 0.2795 - val_accuracy: 0.8861\n",
      "Epoch 69/200\n",
      "782/782 [==============================] - 1s 1ms/step - loss: 0.2826 - accuracy: 0.8851 - val_loss: 0.2751 - val_accuracy: 0.8875\n",
      "Epoch 70/200\n",
      "782/782 [==============================] - 1s 1ms/step - loss: 0.2819 - accuracy: 0.8859 - val_loss: 0.2744 - val_accuracy: 0.8903\n",
      "Epoch 71/200\n",
      "782/782 [==============================] - 1s 1ms/step - loss: 0.2798 - accuracy: 0.8874 - val_loss: 0.2745 - val_accuracy: 0.8890\n",
      "Epoch 72/200\n",
      "782/782 [==============================] - 1s 1ms/step - loss: 0.2769 - accuracy: 0.8886 - val_loss: 0.2762 - val_accuracy: 0.8872\n",
      "Epoch 73/200\n",
      "782/782 [==============================] - 1s 1ms/step - loss: 0.2739 - accuracy: 0.8892 - val_loss: 0.2730 - val_accuracy: 0.8903\n",
      "Epoch 74/200\n",
      "782/782 [==============================] - 1s 1ms/step - loss: 0.2700 - accuracy: 0.8897 - val_loss: 0.2605 - val_accuracy: 0.8958\n",
      "Epoch 75/200\n",
      "782/782 [==============================] - 1s 1ms/step - loss: 0.2591 - accuracy: 0.8968 - val_loss: 0.2493 - val_accuracy: 0.9032\n",
      "Epoch 76/200\n",
      "782/782 [==============================] - 1s 1ms/step - loss: 0.2506 - accuracy: 0.9021 - val_loss: 0.2369 - val_accuracy: 0.9110\n",
      "Epoch 77/200\n",
      "782/782 [==============================] - 1s 1ms/step - loss: 0.2416 - accuracy: 0.9071 - val_loss: 0.2321 - val_accuracy: 0.9121\n",
      "Epoch 78/200\n",
      "782/782 [==============================] - 1s 1ms/step - loss: 0.2327 - accuracy: 0.9112 - val_loss: 0.2213 - val_accuracy: 0.9170\n",
      "Epoch 79/200\n",
      "782/782 [==============================] - 1s 1ms/step - loss: 0.2283 - accuracy: 0.9136 - val_loss: 0.2244 - val_accuracy: 0.9146\n",
      "Epoch 80/200\n",
      "782/782 [==============================] - 1s 1ms/step - loss: 0.2196 - accuracy: 0.9166 - val_loss: 0.2161 - val_accuracy: 0.9196\n",
      "Epoch 81/200\n",
      "782/782 [==============================] - 1s 1ms/step - loss: 0.2146 - accuracy: 0.9185 - val_loss: 0.2037 - val_accuracy: 0.9245\n",
      "Epoch 82/200\n",
      "782/782 [==============================] - 1s 1ms/step - loss: 0.2087 - accuracy: 0.9218 - val_loss: 0.1985 - val_accuracy: 0.9270\n",
      "Epoch 83/200\n",
      "782/782 [==============================] - 1s 1ms/step - loss: 0.2053 - accuracy: 0.9246 - val_loss: 0.1967 - val_accuracy: 0.9281\n",
      "Epoch 84/200\n",
      "782/782 [==============================] - 1s 1ms/step - loss: 0.2132 - accuracy: 0.9246 - val_loss: 0.2063 - val_accuracy: 0.9221\n",
      "Epoch 85/200\n",
      "782/782 [==============================] - 1s 1ms/step - loss: 0.2001 - accuracy: 0.9253 - val_loss: 0.2020 - val_accuracy: 0.9263\n",
      "Epoch 86/200\n",
      "782/782 [==============================] - 1s 1ms/step - loss: 0.1968 - accuracy: 0.9273 - val_loss: 0.1956 - val_accuracy: 0.9264\n",
      "Epoch 87/200\n",
      "782/782 [==============================] - 1s 1ms/step - loss: 0.1931 - accuracy: 0.9291 - val_loss: 0.1875 - val_accuracy: 0.9295\n",
      "Epoch 88/200\n",
      "782/782 [==============================] - 1s 1ms/step - loss: 0.1930 - accuracy: 0.9292 - val_loss: 0.1943 - val_accuracy: 0.9295\n",
      "Epoch 89/200\n",
      "782/782 [==============================] - 1s 1ms/step - loss: 0.1910 - accuracy: 0.9295 - val_loss: 0.1852 - val_accuracy: 0.9317\n",
      "Epoch 90/200\n",
      "782/782 [==============================] - 1s 1ms/step - loss: 0.1886 - accuracy: 0.9326 - val_loss: 0.1819 - val_accuracy: 0.9337\n",
      "Epoch 91/200\n",
      "782/782 [==============================] - 1s 1ms/step - loss: 0.1883 - accuracy: 0.9317 - val_loss: 0.1881 - val_accuracy: 0.9295\n",
      "Epoch 92/200\n",
      "782/782 [==============================] - 1s 1ms/step - loss: 0.1884 - accuracy: 0.9308 - val_loss: 0.1834 - val_accuracy: 0.9317\n",
      "Epoch 93/200\n",
      "782/782 [==============================] - 1s 1ms/step - loss: 0.1869 - accuracy: 0.9326 - val_loss: 0.1861 - val_accuracy: 0.9322\n",
      "Epoch 94/200\n",
      "782/782 [==============================] - 1s 1ms/step - loss: 0.1875 - accuracy: 0.9330 - val_loss: 0.1833 - val_accuracy: 0.9357\n",
      "Epoch 95/200\n",
      "782/782 [==============================] - 1s 1ms/step - loss: 0.1869 - accuracy: 0.9323 - val_loss: 0.1909 - val_accuracy: 0.9338\n",
      "Epoch 96/200\n",
      "782/782 [==============================] - 1s 1ms/step - loss: 0.1856 - accuracy: 0.9339 - val_loss: 0.1814 - val_accuracy: 0.9330\n",
      "Epoch 97/200\n",
      "782/782 [==============================] - 1s 1ms/step - loss: 0.1833 - accuracy: 0.9335 - val_loss: 0.1814 - val_accuracy: 0.9349\n",
      "Epoch 98/200\n",
      "782/782 [==============================] - 1s 1ms/step - loss: 0.1838 - accuracy: 0.9343 - val_loss: 0.1847 - val_accuracy: 0.9324\n",
      "Epoch 99/200\n",
      "782/782 [==============================] - 1s 1ms/step - loss: 0.1842 - accuracy: 0.9340 - val_loss: 0.1762 - val_accuracy: 0.9362\n",
      "Epoch 100/200\n",
      "782/782 [==============================] - 1s 1ms/step - loss: 0.1843 - accuracy: 0.9339 - val_loss: 0.1744 - val_accuracy: 0.9362\n",
      "Epoch 101/200\n",
      "782/782 [==============================] - 1s 1ms/step - loss: 0.1815 - accuracy: 0.9345 - val_loss: 0.1933 - val_accuracy: 0.9297\n",
      "Epoch 102/200\n",
      "782/782 [==============================] - 1s 1ms/step - loss: 0.1813 - accuracy: 0.9338 - val_loss: 0.1735 - val_accuracy: 0.9369\n",
      "Epoch 103/200\n",
      "782/782 [==============================] - 1s 1ms/step - loss: 0.1834 - accuracy: 0.9348 - val_loss: 0.1750 - val_accuracy: 0.9369\n",
      "Epoch 104/200\n",
      "782/782 [==============================] - 1s 1ms/step - loss: 0.1814 - accuracy: 0.9356 - val_loss: 0.1726 - val_accuracy: 0.9368\n",
      "Epoch 105/200\n",
      "782/782 [==============================] - 1s 1ms/step - loss: 0.1814 - accuracy: 0.9347 - val_loss: 0.1760 - val_accuracy: 0.9350\n",
      "Epoch 106/200\n",
      "782/782 [==============================] - 1s 1ms/step - loss: 0.1797 - accuracy: 0.9349 - val_loss: 0.1749 - val_accuracy: 0.9362\n",
      "Epoch 107/200\n",
      "782/782 [==============================] - 1s 1ms/step - loss: 0.1794 - accuracy: 0.9351 - val_loss: 0.1733 - val_accuracy: 0.9385\n",
      "Epoch 108/200\n",
      "782/782 [==============================] - 1s 2ms/step - loss: 0.1814 - accuracy: 0.9345 - val_loss: 0.1744 - val_accuracy: 0.9384\n",
      "Epoch 109/200\n",
      "782/782 [==============================] - 1s 1ms/step - loss: 0.1803 - accuracy: 0.9357 - val_loss: 0.1745 - val_accuracy: 0.9369\n",
      "Epoch 110/200\n",
      "782/782 [==============================] - 1s 1ms/step - loss: 0.1788 - accuracy: 0.9358 - val_loss: 0.1836 - val_accuracy: 0.9321\n",
      "Epoch 111/200\n",
      "782/782 [==============================] - 1s 1ms/step - loss: 0.1803 - accuracy: 0.9356 - val_loss: 0.1772 - val_accuracy: 0.9341\n",
      "Epoch 112/200\n",
      "782/782 [==============================] - 1s 1ms/step - loss: 0.1784 - accuracy: 0.9371 - val_loss: 0.1776 - val_accuracy: 0.9337\n",
      "Epoch 113/200\n",
      "782/782 [==============================] - 1s 1ms/step - loss: 0.1803 - accuracy: 0.9343 - val_loss: 0.1727 - val_accuracy: 0.9369\n",
      "Epoch 114/200\n",
      "782/782 [==============================] - 1s 1ms/step - loss: 0.1778 - accuracy: 0.9360 - val_loss: 0.1968 - val_accuracy: 0.9298\n"
     ]
    }
   ],
   "source": [
    "lay0=Input(shape=(n_variables,),batch_size=1)\n",
    "lay1=Dense(n_variables+1, activation='relu')(lay0)\n",
    "lay2=Dense(n_variables+1, activation='relu')(lay1)\n",
    "lay3=Dense(n_variables+1, activation='relu')(lay2)\n",
    "lay4=Dense(1,activation='sigmoid')(lay3)\n",
    "output_model=Model(inputs=lay0,outputs=lay4)\n",
    "\n",
    "opt = Adam(learning_rate=1e-3)\n",
    "input=Input(shape=(n_variables,),batch_size=bsize)\n",
    "x=Dense(n_variables+1, activation='relu')(input)\n",
    "x=Dense(n_variables+1, activation='relu')(x)\n",
    "x=Dense(n_variables+1, activation='relu')(x)\n",
    "output=Dense(1,activation='sigmoid')(x)\n",
    "model_ce=Model(inputs=input,outputs=output)\n",
    "model_ce.compile(loss='binary_crossentropy',metrics='accuracy',optimizer=opt)\n",
    "early_stop = EarlyStopping(monitor='val_loss', patience=10, min_delta=1e-5, restore_best_weights=True)\n",
    "history_ce = model_ce.fit(x_ce_train, y_ce_train,\n",
    "                          batch_size=bsize,\n",
    "                          epochs=200,\n",
    "                          verbose=1,\n",
    "                          validation_data=(x_ce_valid, y_ce_valid),\n",
    "                          callbacks=[early_stop]\n",
    "                         )"
   ]
  },
  {
   "cell_type": "markdown",
   "id": "e78fb06e-22e5-4ecb-b2c5-48b591268733",
   "metadata": {},
   "source": [
    "## Create and train a Boosted Decision Tree\n",
    "Here, instead of using a MLP, we use a [_Gradient Boosted Decision Tree_](https://xgboost.readthedocs.io/en/stable/) (BDT) to distinguish between signal (true CE hits) and background (fake CE hits). We use the defualt hyperparameters."
   ]
  },
  {
   "cell_type": "code",
   "execution_count": 5,
   "id": "698e5894-b4e3-405c-a99b-c76b2f12403b",
   "metadata": {},
   "outputs": [
    {
     "name": "stdout",
     "output_type": "stream",
     "text": [
      "[14:32:05] WARNING: /var/folders/sy/f16zz6x50xz3113nwtb9bvq00000gp/T/abs_44tbtwf8c1/croots/recipe/xgboost-split_1659548960882/work/src/learner.cc:1115: Starting in XGBoost 1.3.0, the default evaluation metric used with the objective 'binary:logistic' was changed from 'error' to 'logloss'. Explicitly set eval_metric if you'd like to restore the old behavior.\n"
     ]
    },
    {
     "name": "stderr",
     "output_type": "stream",
     "text": [
      "/Users/brownd/mambaforge/envs/KKTrain/lib/python3.10/site-packages/xgboost/sklearn.py:1224: UserWarning: The use of label encoder in XGBClassifier is deprecated and will be removed in a future release. To remove this warning, do the following: 1) Pass option use_label_encoder=False when constructing XGBClassifier object; and 2) Encode your labels (y) as integers starting with 0, i.e. 0, 1, 2, ..., [num_class - 1].\n",
      "  warnings.warn(label_encoder_deprecation_msg, UserWarning)\n"
     ]
    },
    {
     "data": {
      "text/html": [
       "<style>#sk-container-id-1 {color: black;background-color: white;}#sk-container-id-1 pre{padding: 0;}#sk-container-id-1 div.sk-toggleable {background-color: white;}#sk-container-id-1 label.sk-toggleable__label {cursor: pointer;display: block;width: 100%;margin-bottom: 0;padding: 0.3em;box-sizing: border-box;text-align: center;}#sk-container-id-1 label.sk-toggleable__label-arrow:before {content: \"▸\";float: left;margin-right: 0.25em;color: #696969;}#sk-container-id-1 label.sk-toggleable__label-arrow:hover:before {color: black;}#sk-container-id-1 div.sk-estimator:hover label.sk-toggleable__label-arrow:before {color: black;}#sk-container-id-1 div.sk-toggleable__content {max-height: 0;max-width: 0;overflow: hidden;text-align: left;background-color: #f0f8ff;}#sk-container-id-1 div.sk-toggleable__content pre {margin: 0.2em;color: black;border-radius: 0.25em;background-color: #f0f8ff;}#sk-container-id-1 input.sk-toggleable__control:checked~div.sk-toggleable__content {max-height: 200px;max-width: 100%;overflow: auto;}#sk-container-id-1 input.sk-toggleable__control:checked~label.sk-toggleable__label-arrow:before {content: \"▾\";}#sk-container-id-1 div.sk-estimator input.sk-toggleable__control:checked~label.sk-toggleable__label {background-color: #d4ebff;}#sk-container-id-1 div.sk-label input.sk-toggleable__control:checked~label.sk-toggleable__label {background-color: #d4ebff;}#sk-container-id-1 input.sk-hidden--visually {border: 0;clip: rect(1px 1px 1px 1px);clip: rect(1px, 1px, 1px, 1px);height: 1px;margin: -1px;overflow: hidden;padding: 0;position: absolute;width: 1px;}#sk-container-id-1 div.sk-estimator {font-family: monospace;background-color: #f0f8ff;border: 1px dotted black;border-radius: 0.25em;box-sizing: border-box;margin-bottom: 0.5em;}#sk-container-id-1 div.sk-estimator:hover {background-color: #d4ebff;}#sk-container-id-1 div.sk-parallel-item::after {content: \"\";width: 100%;border-bottom: 1px solid gray;flex-grow: 1;}#sk-container-id-1 div.sk-label:hover label.sk-toggleable__label {background-color: #d4ebff;}#sk-container-id-1 div.sk-serial::before {content: \"\";position: absolute;border-left: 1px solid gray;box-sizing: border-box;top: 0;bottom: 0;left: 50%;z-index: 0;}#sk-container-id-1 div.sk-serial {display: flex;flex-direction: column;align-items: center;background-color: white;padding-right: 0.2em;padding-left: 0.2em;position: relative;}#sk-container-id-1 div.sk-item {position: relative;z-index: 1;}#sk-container-id-1 div.sk-parallel {display: flex;align-items: stretch;justify-content: center;background-color: white;position: relative;}#sk-container-id-1 div.sk-item::before, #sk-container-id-1 div.sk-parallel-item::before {content: \"\";position: absolute;border-left: 1px solid gray;box-sizing: border-box;top: 0;bottom: 0;left: 50%;z-index: -1;}#sk-container-id-1 div.sk-parallel-item {display: flex;flex-direction: column;z-index: 1;position: relative;background-color: white;}#sk-container-id-1 div.sk-parallel-item:first-child::after {align-self: flex-end;width: 50%;}#sk-container-id-1 div.sk-parallel-item:last-child::after {align-self: flex-start;width: 50%;}#sk-container-id-1 div.sk-parallel-item:only-child::after {width: 0;}#sk-container-id-1 div.sk-dashed-wrapped {border: 1px dashed gray;margin: 0 0.4em 0.5em 0.4em;box-sizing: border-box;padding-bottom: 0.4em;background-color: white;}#sk-container-id-1 div.sk-label label {font-family: monospace;font-weight: bold;display: inline-block;line-height: 1.2em;}#sk-container-id-1 div.sk-label-container {text-align: center;}#sk-container-id-1 div.sk-container {/* jupyter's `normalize.less` sets `[hidden] { display: none; }` but bootstrap.min.css set `[hidden] { display: none !important; }` so we also need the `!important` here to be able to override the default hidden behavior on the sphinx rendered scikit-learn.org. See: https://github.com/scikit-learn/scikit-learn/issues/21755 */display: inline-block !important;position: relative;}#sk-container-id-1 div.sk-text-repr-fallback {display: none;}</style><div id=\"sk-container-id-1\" class=\"sk-top-container\"><div class=\"sk-text-repr-fallback\"><pre>XGBClassifier(base_score=0.5, booster=&#x27;gbtree&#x27;, colsample_bylevel=1,\n",
       "              colsample_bynode=1, colsample_bytree=1, enable_categorical=False,\n",
       "              gamma=0, gpu_id=-1, importance_type=None,\n",
       "              interaction_constraints=&#x27;&#x27;, learning_rate=0.300000012,\n",
       "              max_delta_step=0, max_depth=6, min_child_weight=1, missing=nan,\n",
       "              monotone_constraints=&#x27;()&#x27;, n_estimators=100, n_jobs=16,\n",
       "              num_parallel_tree=1, predictor=&#x27;auto&#x27;, random_state=0,\n",
       "              reg_alpha=0, reg_lambda=1, scale_pos_weight=1, subsample=1,\n",
       "              tree_method=&#x27;exact&#x27;, validate_parameters=1, verbosity=None)</pre><b>In a Jupyter environment, please rerun this cell to show the HTML representation or trust the notebook. <br />On GitHub, the HTML representation is unable to render, please try loading this page with nbviewer.org.</b></div><div class=\"sk-container\" hidden><div class=\"sk-item\"><div class=\"sk-estimator sk-toggleable\"><input class=\"sk-toggleable__control sk-hidden--visually\" id=\"sk-estimator-id-1\" type=\"checkbox\" checked><label for=\"sk-estimator-id-1\" class=\"sk-toggleable__label sk-toggleable__label-arrow\">XGBClassifier</label><div class=\"sk-toggleable__content\"><pre>XGBClassifier(base_score=0.5, booster=&#x27;gbtree&#x27;, colsample_bylevel=1,\n",
       "              colsample_bynode=1, colsample_bytree=1, enable_categorical=False,\n",
       "              gamma=0, gpu_id=-1, importance_type=None,\n",
       "              interaction_constraints=&#x27;&#x27;, learning_rate=0.300000012,\n",
       "              max_delta_step=0, max_depth=6, min_child_weight=1, missing=nan,\n",
       "              monotone_constraints=&#x27;()&#x27;, n_estimators=100, n_jobs=16,\n",
       "              num_parallel_tree=1, predictor=&#x27;auto&#x27;, random_state=0,\n",
       "              reg_alpha=0, reg_lambda=1, scale_pos_weight=1, subsample=1,\n",
       "              tree_method=&#x27;exact&#x27;, validate_parameters=1, verbosity=None)</pre></div></div></div></div></div>"
      ],
      "text/plain": [
       "XGBClassifier(base_score=0.5, booster='gbtree', colsample_bylevel=1,\n",
       "              colsample_bynode=1, colsample_bytree=1, enable_categorical=False,\n",
       "              gamma=0, gpu_id=-1, importance_type=None,\n",
       "              interaction_constraints='', learning_rate=0.300000012,\n",
       "              max_delta_step=0, max_depth=6, min_child_weight=1, missing=nan,\n",
       "              monotone_constraints='()', n_estimators=100, n_jobs=16,\n",
       "              num_parallel_tree=1, predictor='auto', random_state=0,\n",
       "              reg_alpha=0, reg_lambda=1, scale_pos_weight=1, subsample=1,\n",
       "              tree_method='exact', validate_parameters=1, verbosity=None)"
      ]
     },
     "execution_count": 5,
     "metadata": {},
     "output_type": "execute_result"
    }
   ],
   "source": [
    "model_xgboost = XGBClassifier()\n",
    "model_xgboost.fit(x_ce_train, y_ce_train)"
   ]
  },
  {
   "cell_type": "markdown",
   "id": "d7aa6212-21f7-46c8-b7af-dab07ced4269",
   "metadata": {},
   "source": [
    "Here we can finally apply our two models (the MLP and the BDT) to our test datasets and create the corresponding ROC curves."
   ]
  },
  {
   "cell_type": "code",
   "execution_count": 6,
   "id": "3dcbef70-e875-40dd-8a8f-5a66fc32fb1d",
   "metadata": {},
   "outputs": [
    {
     "name": "stdout",
     "output_type": "stream",
     "text": [
      "391/391 [==============================] - 0s 574us/step\n"
     ]
    }
   ],
   "source": [
    "#prediction_ce = model_ce.predict(x_ce_test).ravel()\n",
    "prediction_ce = model_ce.predict(x_ce_test)\n",
    "fpr_ce, tpr_ce, th_ce = roc_curve(y_ce_test,  prediction_ce)\n",
    "auc_ce = roc_auc_score(y_ce_test, prediction_ce)"
   ]
  },
  {
   "cell_type": "code",
   "execution_count": 7,
   "id": "cce6a838-1a4c-41e3-a2bb-46a270ad6d86",
   "metadata": {},
   "outputs": [],
   "source": [
    "prediction_xgboost = model_xgboost.predict_proba(x_ce_test)[:,1]\n",
    "fpr_xgboost, tpr_xgboost, th_xgboost = roc_curve(y_ce_test,  prediction_xgboost)\n",
    "auc_xgboost = roc_auc_score(y_ce_test, prediction_xgboost)"
   ]
  },
  {
   "cell_type": "markdown",
   "id": "a7f392a2-223f-4a47-81de-45dc56b8e42d",
   "metadata": {},
   "source": [
    "The plot of the ROC curves clearly shows that the BDT outperforms the MLP. In principle, however, it should be possible to improve the MLP performances by optimizing the hyperparameters (learning rate, hidden layers, activation functions, etc.)."
   ]
  },
  {
   "cell_type": "code",
   "execution_count": 10,
   "id": "def9b80f-d130-4ac0-bc19-ea03de7032f7",
   "metadata": {},
   "outputs": [
    {
     "data": {
      "image/png": "[encoded data removed]",
      "text/plain": [
       "<Figure size 640x480 with 1 Axes>"
      ]
     },
     "metadata": {},
     "output_type": "display_data"
    }
   ],
   "source": [
    "fig, ax = plt.subplots(1,1)\n",
    "ax.plot(tpr_ce,1-fpr_ce,label=f'MLP AUC: {auc_ce:.3f}')\n",
    "ax.plot(tpr_xgboost,1-fpr_xgboost,label=f'BDT AUC: {auc_xgboost:.3f}')\n",
    "\n",
    "ax.legend()\n",
    "ax.set_aspect(\"equal\")\n",
    "ax.set_xlabel(\"Signal efficiency\")\n",
    "ax.set_ylabel(\"Background rejection\")\n",
    "ax.set_xlim(0,1.05)\n",
    "ax.set_ylim(0,1.05)\n",
    "fig.savefig(\"TrainBkg.pdf\")"
   ]
  },
  {
   "cell_type": "markdown",
   "id": "a4db6b41-b065-469d-a42d-70a92329ec12",
   "metadata": {},
   "source": [
    "Now we save our model in HDF5 format.  This can be used as input to the SOFIE parser.  Note that the kernel must be restarted when saving this file, as re-running individual cells increments the layer numbers in the hdf5 file, causing the SOFIE parser to fail."
   ]
  },
  {
   "cell_type": "code",
   "execution_count": 11,
   "id": "18723eb7-258e-4687-a58c-cd0afa2c41e2",
   "metadata": {},
   "outputs": [
    {
     "name": "stdout",
     "output_type": "stream",
     "text": [
      "Model: \"model\"\n",
      "_________________________________________________________________\n",
      " Layer (type)                Output Shape              Param #   \n",
      "=================================================================\n",
      " input_1 (InputLayer)        [(1, 9)]                  0         \n",
      "                                                                 \n",
      " dense (Dense)               (1, 10)                   100       \n",
      "                                                                 \n",
      " dense_1 (Dense)             (1, 10)                   110       \n",
      "                                                                 \n",
      " dense_2 (Dense)             (1, 10)                   110       \n",
      "                                                                 \n",
      " dense_3 (Dense)             (1, 1)                    11        \n",
      "                                                                 \n",
      "=================================================================\n",
      "Total params: 331\n",
      "Trainable params: 331\n",
      "Non-trainable params: 0\n",
      "_________________________________________________________________\n",
      "WARNING:tensorflow:Compiled the loaded model, but the compiled metrics have yet to be built. `model.compile_metrics` will be empty until you train or evaluate the model.\n"
     ]
    }
   ],
   "source": [
    "output_model.set_weights(model_ce.get_weights())\n",
    "output_model.summary()\n",
    "output_model.save(\"TrainBkg.h5\")"
   ]
  }
 ],
 "metadata": {
  "kernelspec": {
   "display_name": "KKTrain",
   "language": "python",
   "name": "kktrain"
  },
  "language_info": {
   "codemirror_mode": {
    "name": "ipython",
    "version": 3
   },
   "file_extension": ".py",
   "mimetype": "text/x-python",
   "name": "python",
   "nbconvert_exporter": "python",
   "pygments_lexer": "ipython3",
   "version": "3.10.8"
  }
 },
 "nbformat": 4,
 "nbformat_minor": 5
}
