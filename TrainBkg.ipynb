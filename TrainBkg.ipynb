{
 "cells": [
  {
   "cell_type": "markdown",
   "id": "bb74a62f-a4a9-4e61-9415-58c8a06f5f75",
   "metadata": {},
   "source": [
    "# Hit classification"
   ]
  },
  {
   "cell_type": "markdown",
   "id": "8d61cb5d-7c43-4a94-9e3c-eb2889e69b88",
   "metadata": {},
   "source": [
    "In this notebook we will try to use Keras and XGBoost in order to distinguish between _true_ conversion electron hits and _fake_ conversion electron hits."
   ]
  },
  {
   "cell_type": "code",
   "execution_count": 39,
   "id": "52ce5426-86e5-4f6e-a7d5-a847d6e2ce97",
   "metadata": {
    "tags": []
   },
   "outputs": [],
   "source": [
    "import uproot \n",
    "import awkward as ak\n",
    "import numpy as np\n",
    "import matplotlib.pyplot as plt\n",
    "from tensorflow.keras.callbacks import EarlyStopping\n",
    "from tensorflow.keras.models import Sequential, Model\n",
    "from tensorflow.keras.layers import Dense, Dropout\n",
    "import tensorflow.keras.layers\n",
    "from tensorflow.keras.optimizers import Adam\n",
    "from sklearn.model_selection import train_test_split\n",
    "from sklearn.metrics import roc_curve, roc_auc_score\n",
    "from xgboost import XGBClassifier"
   ]
  },
  {
   "cell_type": "markdown",
   "id": "13b18db5-7d46-40ed-9a1b-528d48256097",
   "metadata": {},
   "source": [
    "First of all we use [uproot](https://uproot.readthedocs.io/en/latest/), a library to reading ROOT files in pure Python and NumPy, to open the `trkana` tree in the `TAKK` folder of the `KKSM01.root` file. We only need certain branches, so we apply a filter to read only `de`, `detsh`, `detshmc`, and `demc`. We then apply a mask to our tree to select only good fits. "
   ]
  },
  {
   "cell_type": "code",
   "execution_count": 40,
   "id": "90450e58-8bce-4fae-be27-97d62d89be18",
   "metadata": {},
   "outputs": [],
   "source": [
    "with uproot.open(\"/Users/brownd/data/39501509/nts.brownd.KKSeed.KKSM.001210_00000008.root\") as file:\n",
    "    trkana = file[\"TAKK\"][\"trkana\"].arrays(filter_name=\"/de|detsh|detshmc|demc/i\")\n",
    "    trkana = trkana[(trkana['de.goodfit']==1)&(trkana['de.status']>0)&(trkana['demc.proc']==167)]"
   ]
  },
  {
   "cell_type": "markdown",
   "id": "81afa96c-4517-4bca-95c5-53ef01a36dc8",
   "metadata": {},
   "source": [
    "Then, we concatenate each hit variables into a single, large numpy array. These arrays are then stacked in a single bi-dimensional array with `np.vstack`, which will be our input dataset used for the training of the machine learning algorithms."
   ]
  },
  {
   "cell_type": "code",
   "execution_count": 42,
   "id": "33b84b76-ff6a-44f2-88d6-39cbeb3def87",
   "metadata": {},
   "outputs": [
    {
     "name": "stdout",
     "output_type": "stream",
     "text": [
      "570158\n",
      "(570158, 9)\n"
     ]
    }
   ],
   "source": [
    "udt = ak.concatenate(trkana['detsh.udt']).to_numpy()\n",
    "udoca = ak.concatenate(trkana['detsh.udoca']).to_numpy()\n",
    "rdrift = ak.concatenate(trkana['detsh.rdrift']).to_numpy()\n",
    "tottdrift = ak.concatenate(trkana['detsh.tottdrift']).to_numpy()\n",
    "edep = ak.concatenate(trkana['detsh.edep']).to_numpy()\n",
    "udocavar = ak.concatenate(trkana['detsh.udocavar']).to_numpy()\n",
    "wdist = ak.concatenate(trkana['detsh.wdist']).to_numpy()\n",
    "uupos = ak.concatenate(trkana['detsh.uupos']).to_numpy()\n",
    "rho = np.square(ak.concatenate(trkana['detsh.poca.fCoordinates.fX']).to_numpy())\n",
    "rho = np.add(rho,np.square(ak.concatenate(trkana['detsh.poca.fCoordinates.fY']).to_numpy()))\n",
    "rho = np.sqrt(rho)\n",
    "n_events = udt.shape[0]\n",
    "print(n_events)\n",
    "\n",
    "input_dataset = np.vstack((udt,udoca,rdrift,tottdrift,edep,udocavar,wdist,uupos,rho)).T\n",
    "print(np.shape(input_dataset))"
   ]
  },
  {
   "cell_type": "markdown",
   "id": "0167fc47-dd84-4a31-98d0-a0270f04bfd5",
   "metadata": {
    "tags": []
   },
   "source": [
    "Here we then assign a label to each hit as _signal_ or _background_, depending on the Monte Carlo truth information. Since the dimension of  `detshmc.rel._rel` is not guaranteed to be the same as the dimension of `detsh` we need to loop over all the entries."
   ]
  },
  {
   "cell_type": "code",
   "execution_count": 43,
   "id": "e546d312-4d8b-4757-9b0e-7293d9eae321",
   "metadata": {},
   "outputs": [
    {
     "name": "stdout",
     "output_type": "stream",
     "text": [
      "570158\n"
     ]
    }
   ],
   "source": [
    "mcrel = []\n",
    "for i, this_dt in enumerate(trkana['detsh.udt']):\n",
    "    mcrel.extend(trkana['detshmc.rel._rel'][i][:len(this_dt)])\n",
    "n_mcevents = len(mcrel)\n",
    "print(n_mcevents)\n",
    "    \n",
    "mcrel = np.array(mcrel)\n",
    "signal = mcrel==0\n",
    "bkg = mcrel==-1"
   ]
  },
  {
   "cell_type": "markdown",
   "id": "0c2e8445-92ff-416f-a9a8-2d071b1f0bb9",
   "metadata": {},
   "source": [
    "In our problem we have a different number of signal and background entries in our input dataset. There are several techniques avaialable for _unbalanced_ datasets. Here we are using the most naive one, which is just using $\\min(N_{sig}, N_{bkg})$ events. Then, we divide our input into the _training_, _validation_, and _test_ datasets."
   ]
  },
  {
   "cell_type": "code",
   "execution_count": 44,
   "id": "2ed7b23e-d3ab-4645-a905-c3d4090eb7ab",
   "metadata": {},
   "outputs": [
    {
     "name": "stdout",
     "output_type": "stream",
     "text": [
      "5973\n"
     ]
    }
   ],
   "source": [
    "min_len = min(len(input_dataset[signal]), len(input_dataset[bkg]))\n",
    "signal_dataset = input_dataset[signal][:min_len]\n",
    "bkg_dataset = input_dataset[bkg][:min_len]\n",
    "print(min_len)\n",
    "\n",
    "balanced_input = np.concatenate((signal_dataset, bkg_dataset))\n",
    "y_balanced_input = np.concatenate((np.ones(signal_dataset.shape[0]), np.zeros(bkg_dataset.shape[0])))\n",
    "\n",
    "n_variables = balanced_input.shape[1]\n",
    "\n",
    "x_ce_train, x_ce_test, y_ce_train, y_ce_test = train_test_split(balanced_input, y_balanced_input, test_size=0.5, random_state=42)\n",
    "x_ce_test, x_ce_valid, y_ce_test, y_ce_valid = train_test_split(x_ce_test, y_ce_test, test_size=0.5, random_state=42)"
   ]
  },
  {
   "cell_type": "markdown",
   "id": "414715a1-8fe6-47d2-b856-76e7f09a30c5",
   "metadata": {},
   "source": [
    "## Create and train a multi-layer perceptron"
   ]
  },
  {
   "cell_type": "markdown",
   "id": "5d3968ba-51a2-45c8-9882-c989a3f7d691",
   "metadata": {},
   "source": [
    "Here we create a _multi-layer perceptron_ (MLP) model which consists of 3 fully-connected (or _dense_) layers, each one followed by a _dropout_ layer, which helps to avoid overfitting. The model is trained using the [Adam](https://arxiv.org/abs/1412.6980) optimizer and trained for 50 epochs or until the validation loss doesn't improve for 5 epochs (`early_stop`). "
   ]
  },
  {
   "cell_type": "code",
   "execution_count": 54,
   "id": "6be3a800-39dd-41ff-bd78-c5156fd4919c",
   "metadata": {},
   "outputs": [
    {
     "name": "stdout",
     "output_type": "stream",
     "text": [
      "Epoch 1/200\n",
      "187/187 [==============================] - 1s 4ms/step - loss: 6.7308 - accuracy: 0.6154 - val_loss: 1.0008 - val_accuracy: 0.7345\n",
      "Epoch 2/200\n",
      "187/187 [==============================] - 1s 3ms/step - loss: 0.7717 - accuracy: 0.7649 - val_loss: 0.6740 - val_accuracy: 0.7934\n",
      "Epoch 3/200\n",
      "187/187 [==============================] - 1s 3ms/step - loss: 0.5323 - accuracy: 0.8056 - val_loss: 0.5125 - val_accuracy: 0.8226\n",
      "Epoch 4/200\n",
      "187/187 [==============================] - 1s 3ms/step - loss: 0.4589 - accuracy: 0.8138 - val_loss: 0.4709 - val_accuracy: 0.8236\n",
      "Epoch 5/200\n",
      "187/187 [==============================] - 1s 3ms/step - loss: 0.4423 - accuracy: 0.8118 - val_loss: 0.4527 - val_accuracy: 0.8276\n",
      "Epoch 6/200\n",
      "187/187 [==============================] - 1s 3ms/step - loss: 0.4215 - accuracy: 0.8227 - val_loss: 0.4908 - val_accuracy: 0.8182\n",
      "Epoch 7/200\n",
      "187/187 [==============================] - 1s 3ms/step - loss: 0.4204 - accuracy: 0.8255 - val_loss: 0.4148 - val_accuracy: 0.8346\n",
      "Epoch 8/200\n",
      "187/187 [==============================] - 1s 3ms/step - loss: 0.4176 - accuracy: 0.8237 - val_loss: 0.4292 - val_accuracy: 0.8336\n",
      "Epoch 9/200\n",
      "187/187 [==============================] - 1s 3ms/step - loss: 0.4078 - accuracy: 0.8262 - val_loss: 0.4193 - val_accuracy: 0.8283\n",
      "Epoch 10/200\n",
      "187/187 [==============================] - 1s 3ms/step - loss: 0.4062 - accuracy: 0.8255 - val_loss: 0.4079 - val_accuracy: 0.8410\n",
      "Epoch 11/200\n",
      "187/187 [==============================] - 1s 3ms/step - loss: 0.3905 - accuracy: 0.8344 - val_loss: 0.4008 - val_accuracy: 0.8420\n",
      "Epoch 12/200\n",
      "187/187 [==============================] - 1s 3ms/step - loss: 0.4296 - accuracy: 0.8162 - val_loss: 0.3996 - val_accuracy: 0.8413\n",
      "Epoch 13/200\n",
      "187/187 [==============================] - 1s 3ms/step - loss: 0.4221 - accuracy: 0.8234 - val_loss: 0.4351 - val_accuracy: 0.8112\n",
      "Epoch 14/200\n",
      "187/187 [==============================] - 1s 3ms/step - loss: 0.3764 - accuracy: 0.8388 - val_loss: 0.4012 - val_accuracy: 0.8323\n",
      "Epoch 15/200\n",
      "187/187 [==============================] - 1s 3ms/step - loss: 0.3824 - accuracy: 0.8381 - val_loss: 0.4085 - val_accuracy: 0.8416\n",
      "Epoch 16/200\n",
      "187/187 [==============================] - 1s 3ms/step - loss: 0.3797 - accuracy: 0.8388 - val_loss: 0.3816 - val_accuracy: 0.8504\n",
      "Epoch 17/200\n",
      "187/187 [==============================] - 1s 3ms/step - loss: 0.3753 - accuracy: 0.8389 - val_loss: 0.3877 - val_accuracy: 0.8447\n",
      "Epoch 18/200\n",
      "187/187 [==============================] - 1s 3ms/step - loss: 0.3834 - accuracy: 0.8378 - val_loss: 0.3865 - val_accuracy: 0.8510\n",
      "Epoch 19/200\n",
      "187/187 [==============================] - 1s 3ms/step - loss: 0.3716 - accuracy: 0.8456 - val_loss: 0.3945 - val_accuracy: 0.8346\n",
      "Epoch 20/200\n",
      "187/187 [==============================] - 1s 3ms/step - loss: 0.3686 - accuracy: 0.8438 - val_loss: 0.3696 - val_accuracy: 0.8544\n",
      "Epoch 21/200\n",
      "187/187 [==============================] - 1s 4ms/step - loss: 0.3760 - accuracy: 0.8403 - val_loss: 0.4011 - val_accuracy: 0.8333\n",
      "Epoch 22/200\n",
      "187/187 [==============================] - 1s 3ms/step - loss: 0.3649 - accuracy: 0.8466 - val_loss: 0.3637 - val_accuracy: 0.8537\n",
      "Epoch 23/200\n",
      "187/187 [==============================] - 1s 3ms/step - loss: 0.3731 - accuracy: 0.8471 - val_loss: 0.3609 - val_accuracy: 0.8560\n",
      "Epoch 24/200\n",
      "187/187 [==============================] - 1s 3ms/step - loss: 0.3712 - accuracy: 0.8450 - val_loss: 0.3741 - val_accuracy: 0.8430\n",
      "Epoch 25/200\n",
      "187/187 [==============================] - 1s 3ms/step - loss: 0.3596 - accuracy: 0.8493 - val_loss: 0.3878 - val_accuracy: 0.8396\n",
      "Epoch 26/200\n",
      "187/187 [==============================] - 1s 3ms/step - loss: 0.3641 - accuracy: 0.8450 - val_loss: 0.3571 - val_accuracy: 0.8581\n",
      "Epoch 27/200\n",
      "187/187 [==============================] - 1s 3ms/step - loss: 0.3506 - accuracy: 0.8543 - val_loss: 0.3416 - val_accuracy: 0.8661\n",
      "Epoch 28/200\n",
      "187/187 [==============================] - 1s 3ms/step - loss: 0.3687 - accuracy: 0.8425 - val_loss: 0.3576 - val_accuracy: 0.8487\n",
      "Epoch 29/200\n",
      "187/187 [==============================] - 1s 3ms/step - loss: 0.3541 - accuracy: 0.8505 - val_loss: 0.3414 - val_accuracy: 0.8594\n",
      "Epoch 30/200\n",
      "187/187 [==============================] - 1s 3ms/step - loss: 0.3469 - accuracy: 0.8540 - val_loss: 0.3476 - val_accuracy: 0.8607\n",
      "Epoch 31/200\n",
      "187/187 [==============================] - 1s 3ms/step - loss: 0.3455 - accuracy: 0.8537 - val_loss: 0.3323 - val_accuracy: 0.8704\n",
      "Epoch 32/200\n",
      "187/187 [==============================] - 1s 3ms/step - loss: 0.3432 - accuracy: 0.8532 - val_loss: 0.3410 - val_accuracy: 0.8621\n",
      "Epoch 33/200\n",
      "187/187 [==============================] - 1s 3ms/step - loss: 0.3482 - accuracy: 0.8543 - val_loss: 0.3774 - val_accuracy: 0.8420\n",
      "Epoch 34/200\n",
      "187/187 [==============================] - 1s 3ms/step - loss: 0.3347 - accuracy: 0.8615 - val_loss: 0.3246 - val_accuracy: 0.8758\n",
      "Epoch 35/200\n",
      "187/187 [==============================] - 1s 3ms/step - loss: 0.3247 - accuracy: 0.8647 - val_loss: 0.3247 - val_accuracy: 0.8741\n",
      "Epoch 36/200\n",
      "187/187 [==============================] - 1s 3ms/step - loss: 0.3244 - accuracy: 0.8666 - val_loss: 0.3228 - val_accuracy: 0.8738\n",
      "Epoch 37/200\n",
      "187/187 [==============================] - 1s 3ms/step - loss: 0.3508 - accuracy: 0.8584 - val_loss: 0.3712 - val_accuracy: 0.8560\n",
      "Epoch 38/200\n",
      "187/187 [==============================] - 1s 3ms/step - loss: 0.3319 - accuracy: 0.8651 - val_loss: 0.3152 - val_accuracy: 0.8791\n",
      "Epoch 39/200\n",
      "187/187 [==============================] - 1s 3ms/step - loss: 0.3194 - accuracy: 0.8627 - val_loss: 0.3132 - val_accuracy: 0.8768\n",
      "Epoch 40/200\n",
      "187/187 [==============================] - 1s 3ms/step - loss: 0.3136 - accuracy: 0.8676 - val_loss: 0.3182 - val_accuracy: 0.8761\n",
      "Epoch 41/200\n",
      "187/187 [==============================] - 1s 3ms/step - loss: 0.3096 - accuracy: 0.8736 - val_loss: 0.3591 - val_accuracy: 0.8637\n",
      "Epoch 42/200\n",
      "187/187 [==============================] - 1s 3ms/step - loss: 0.3021 - accuracy: 0.8803 - val_loss: 0.3089 - val_accuracy: 0.8838\n",
      "Epoch 43/200\n",
      "187/187 [==============================] - 1s 3ms/step - loss: 0.3245 - accuracy: 0.8669 - val_loss: 0.3882 - val_accuracy: 0.8108\n",
      "Epoch 44/200\n",
      "187/187 [==============================] - 1s 3ms/step - loss: 0.3117 - accuracy: 0.8731 - val_loss: 0.3026 - val_accuracy: 0.8788\n",
      "Epoch 45/200\n",
      "187/187 [==============================] - 1s 3ms/step - loss: 0.2960 - accuracy: 0.8877 - val_loss: 0.3221 - val_accuracy: 0.8604\n",
      "Epoch 46/200\n",
      "187/187 [==============================] - 1s 3ms/step - loss: 0.2901 - accuracy: 0.8815 - val_loss: 0.2839 - val_accuracy: 0.8932\n",
      "Epoch 47/200\n",
      "187/187 [==============================] - 1s 3ms/step - loss: 0.2749 - accuracy: 0.8920 - val_loss: 0.3040 - val_accuracy: 0.8822\n",
      "Epoch 48/200\n",
      "187/187 [==============================] - 1s 3ms/step - loss: 0.2747 - accuracy: 0.8955 - val_loss: 0.2638 - val_accuracy: 0.9086\n",
      "Epoch 49/200\n",
      "187/187 [==============================] - 1s 3ms/step - loss: 0.2458 - accuracy: 0.9074 - val_loss: 0.2571 - val_accuracy: 0.9093\n",
      "Epoch 50/200\n",
      "187/187 [==============================] - 1s 3ms/step - loss: 0.2314 - accuracy: 0.9138 - val_loss: 0.3062 - val_accuracy: 0.8822\n",
      "Epoch 51/200\n",
      "187/187 [==============================] - 1s 3ms/step - loss: 0.2211 - accuracy: 0.9186 - val_loss: 0.2422 - val_accuracy: 0.9123\n",
      "Epoch 52/200\n",
      "187/187 [==============================] - 1s 3ms/step - loss: 0.2111 - accuracy: 0.9195 - val_loss: 0.2315 - val_accuracy: 0.9150\n",
      "Epoch 53/200\n",
      "187/187 [==============================] - 1s 3ms/step - loss: 0.1971 - accuracy: 0.9310 - val_loss: 0.2065 - val_accuracy: 0.9287\n",
      "Epoch 54/200\n",
      "187/187 [==============================] - 1s 3ms/step - loss: 0.2068 - accuracy: 0.9221 - val_loss: 0.2179 - val_accuracy: 0.9203\n",
      "Epoch 55/200\n",
      "187/187 [==============================] - 1s 5ms/step - loss: 0.2008 - accuracy: 0.9275 - val_loss: 0.2008 - val_accuracy: 0.9287\n",
      "Epoch 56/200\n",
      "187/187 [==============================] - 1s 3ms/step - loss: 0.1918 - accuracy: 0.9297 - val_loss: 0.1941 - val_accuracy: 0.9351\n",
      "Epoch 57/200\n",
      "187/187 [==============================] - 1s 3ms/step - loss: 0.1946 - accuracy: 0.9334 - val_loss: 0.1902 - val_accuracy: 0.9351\n",
      "Epoch 58/200\n",
      "187/187 [==============================] - 1s 3ms/step - loss: 0.1901 - accuracy: 0.9320 - val_loss: 0.1825 - val_accuracy: 0.9394\n",
      "Epoch 59/200\n",
      "187/187 [==============================] - 1s 3ms/step - loss: 0.1925 - accuracy: 0.9273 - val_loss: 0.1870 - val_accuracy: 0.9364\n",
      "Epoch 60/200\n",
      "187/187 [==============================] - 1s 3ms/step - loss: 0.1739 - accuracy: 0.9386 - val_loss: 0.1830 - val_accuracy: 0.9377\n",
      "Epoch 61/200\n",
      "187/187 [==============================] - 1s 3ms/step - loss: 0.1733 - accuracy: 0.9387 - val_loss: 0.1806 - val_accuracy: 0.9361\n",
      "Epoch 62/200\n",
      "187/187 [==============================] - 1s 3ms/step - loss: 0.1738 - accuracy: 0.9386 - val_loss: 0.1800 - val_accuracy: 0.9397\n",
      "Epoch 63/200\n",
      "187/187 [==============================] - 1s 3ms/step - loss: 0.1710 - accuracy: 0.9376 - val_loss: 0.1969 - val_accuracy: 0.9357\n",
      "Epoch 64/200\n",
      "187/187 [==============================] - 1s 3ms/step - loss: 0.1698 - accuracy: 0.9392 - val_loss: 0.1826 - val_accuracy: 0.9377\n",
      "Epoch 65/200\n",
      "187/187 [==============================] - 1s 3ms/step - loss: 0.1763 - accuracy: 0.9392 - val_loss: 0.1715 - val_accuracy: 0.9424\n",
      "Epoch 66/200\n",
      "187/187 [==============================] - 1s 3ms/step - loss: 0.1721 - accuracy: 0.9386 - val_loss: 0.1804 - val_accuracy: 0.9407\n",
      "Epoch 67/200\n",
      "187/187 [==============================] - 1s 3ms/step - loss: 0.1710 - accuracy: 0.9411 - val_loss: 0.1859 - val_accuracy: 0.9377\n",
      "Epoch 68/200\n",
      "187/187 [==============================] - 1s 3ms/step - loss: 0.1732 - accuracy: 0.9364 - val_loss: 0.1743 - val_accuracy: 0.9387\n",
      "Epoch 69/200\n",
      "187/187 [==============================] - 1s 3ms/step - loss: 0.1731 - accuracy: 0.9379 - val_loss: 0.1753 - val_accuracy: 0.9404\n",
      "Epoch 70/200\n",
      "187/187 [==============================] - 1s 3ms/step - loss: 0.1735 - accuracy: 0.9419 - val_loss: 0.1708 - val_accuracy: 0.9461\n",
      "Epoch 71/200\n",
      "187/187 [==============================] - 1s 4ms/step - loss: 0.1667 - accuracy: 0.9409 - val_loss: 0.2010 - val_accuracy: 0.9280\n",
      "Epoch 72/200\n",
      "187/187 [==============================] - 1s 3ms/step - loss: 0.1739 - accuracy: 0.9429 - val_loss: 0.1861 - val_accuracy: 0.9377\n",
      "Epoch 73/200\n",
      "187/187 [==============================] - 1s 3ms/step - loss: 0.1668 - accuracy: 0.9411 - val_loss: 0.1848 - val_accuracy: 0.9394\n",
      "Epoch 74/200\n",
      "187/187 [==============================] - 1s 3ms/step - loss: 0.1717 - accuracy: 0.9419 - val_loss: 0.1709 - val_accuracy: 0.9481\n",
      "Epoch 75/200\n",
      "187/187 [==============================] - 1s 3ms/step - loss: 0.1705 - accuracy: 0.9412 - val_loss: 0.1869 - val_accuracy: 0.9320\n"
     ]
    }
   ],
   "source": [
    "opt = Adam(learning_rate=1e-3)\n",
    "model_ce = Sequential(\n",
    "    [\n",
    "        Dense(n_variables+1, activation='relu', input_shape=(n_variables,)),\n",
    "        Dense(n_variables+1, activation='relu'),\n",
    "        Dense(n_variables+1, activation='relu'),\n",
    "        Dense(1, activation='sigmoid')\n",
    "    ]\n",
    ")\n",
    "model_ce.compile(loss='binary_crossentropy',\n",
    "                 metrics='accuracy',\n",
    "                 optimizer=opt)\n",
    "\n",
    "early_stop = EarlyStopping(monitor='val_loss', patience=5)\n",
    "history_ce = model_ce.fit(x_ce_train, y_ce_train,\n",
    "                          batch_size=32,\n",
    "                          epochs=200,\n",
    "                          verbose=1,\n",
    "                          validation_data=(x_ce_valid, y_ce_valid),\n",
    "                          callbacks=[early_stop])"
   ]
  },
  {
   "cell_type": "markdown",
   "id": "e78fb06e-22e5-4ecb-b2c5-48b591268733",
   "metadata": {},
   "source": [
    "## Create and train a Boosted Decision Tree\n",
    "Here, instead of using a MLP, we use a [_Gradient Boosted Decision Tree_](https://xgboost.readthedocs.io/en/stable/) (BDT) to distinguish between signal (true CE hits) and background (fake CE hits). We use the defualt hyperparameters."
   ]
  },
  {
   "cell_type": "code",
   "execution_count": 55,
   "id": "698e5894-b4e3-405c-a99b-c76b2f12403b",
   "metadata": {},
   "outputs": [
    {
     "data": {
      "text/html": [
       "<style>#sk-container-id-6 {color: black;background-color: white;}#sk-container-id-6 pre{padding: 0;}#sk-container-id-6 div.sk-toggleable {background-color: white;}#sk-container-id-6 label.sk-toggleable__label {cursor: pointer;display: block;width: 100%;margin-bottom: 0;padding: 0.3em;box-sizing: border-box;text-align: center;}#sk-container-id-6 label.sk-toggleable__label-arrow:before {content: \"▸\";float: left;margin-right: 0.25em;color: #696969;}#sk-container-id-6 label.sk-toggleable__label-arrow:hover:before {color: black;}#sk-container-id-6 div.sk-estimator:hover label.sk-toggleable__label-arrow:before {color: black;}#sk-container-id-6 div.sk-toggleable__content {max-height: 0;max-width: 0;overflow: hidden;text-align: left;background-color: #f0f8ff;}#sk-container-id-6 div.sk-toggleable__content pre {margin: 0.2em;color: black;border-radius: 0.25em;background-color: #f0f8ff;}#sk-container-id-6 input.sk-toggleable__control:checked~div.sk-toggleable__content {max-height: 200px;max-width: 100%;overflow: auto;}#sk-container-id-6 input.sk-toggleable__control:checked~label.sk-toggleable__label-arrow:before {content: \"▾\";}#sk-container-id-6 div.sk-estimator input.sk-toggleable__control:checked~label.sk-toggleable__label {background-color: #d4ebff;}#sk-container-id-6 div.sk-label input.sk-toggleable__control:checked~label.sk-toggleable__label {background-color: #d4ebff;}#sk-container-id-6 input.sk-hidden--visually {border: 0;clip: rect(1px 1px 1px 1px);clip: rect(1px, 1px, 1px, 1px);height: 1px;margin: -1px;overflow: hidden;padding: 0;position: absolute;width: 1px;}#sk-container-id-6 div.sk-estimator {font-family: monospace;background-color: #f0f8ff;border: 1px dotted black;border-radius: 0.25em;box-sizing: border-box;margin-bottom: 0.5em;}#sk-container-id-6 div.sk-estimator:hover {background-color: #d4ebff;}#sk-container-id-6 div.sk-parallel-item::after {content: \"\";width: 100%;border-bottom: 1px solid gray;flex-grow: 1;}#sk-container-id-6 div.sk-label:hover label.sk-toggleable__label {background-color: #d4ebff;}#sk-container-id-6 div.sk-serial::before {content: \"\";position: absolute;border-left: 1px solid gray;box-sizing: border-box;top: 0;bottom: 0;left: 50%;z-index: 0;}#sk-container-id-6 div.sk-serial {display: flex;flex-direction: column;align-items: center;background-color: white;padding-right: 0.2em;padding-left: 0.2em;position: relative;}#sk-container-id-6 div.sk-item {position: relative;z-index: 1;}#sk-container-id-6 div.sk-parallel {display: flex;align-items: stretch;justify-content: center;background-color: white;position: relative;}#sk-container-id-6 div.sk-item::before, #sk-container-id-6 div.sk-parallel-item::before {content: \"\";position: absolute;border-left: 1px solid gray;box-sizing: border-box;top: 0;bottom: 0;left: 50%;z-index: -1;}#sk-container-id-6 div.sk-parallel-item {display: flex;flex-direction: column;z-index: 1;position: relative;background-color: white;}#sk-container-id-6 div.sk-parallel-item:first-child::after {align-self: flex-end;width: 50%;}#sk-container-id-6 div.sk-parallel-item:last-child::after {align-self: flex-start;width: 50%;}#sk-container-id-6 div.sk-parallel-item:only-child::after {width: 0;}#sk-container-id-6 div.sk-dashed-wrapped {border: 1px dashed gray;margin: 0 0.4em 0.5em 0.4em;box-sizing: border-box;padding-bottom: 0.4em;background-color: white;}#sk-container-id-6 div.sk-label label {font-family: monospace;font-weight: bold;display: inline-block;line-height: 1.2em;}#sk-container-id-6 div.sk-label-container {text-align: center;}#sk-container-id-6 div.sk-container {/* jupyter's `normalize.less` sets `[hidden] { display: none; }` but bootstrap.min.css set `[hidden] { display: none !important; }` so we also need the `!important` here to be able to override the default hidden behavior on the sphinx rendered scikit-learn.org. See: https://github.com/scikit-learn/scikit-learn/issues/21755 */display: inline-block !important;position: relative;}#sk-container-id-6 div.sk-text-repr-fallback {display: none;}</style><div id=\"sk-container-id-6\" class=\"sk-top-container\"><div class=\"sk-text-repr-fallback\"><pre>XGBClassifier(base_score=0.5, booster=&#x27;gbtree&#x27;, callbacks=None,\n",
       "              colsample_bylevel=1, colsample_bynode=1, colsample_bytree=1,\n",
       "              early_stopping_rounds=None, enable_categorical=False,\n",
       "              eval_metric=None, feature_types=None, gamma=0, gpu_id=-1,\n",
       "              grow_policy=&#x27;depthwise&#x27;, importance_type=None,\n",
       "              interaction_constraints=&#x27;&#x27;, learning_rate=0.300000012,\n",
       "              max_bin=256, max_cat_threshold=64, max_cat_to_onehot=4,\n",
       "              max_delta_step=0, max_depth=6, max_leaves=0, min_child_weight=1,\n",
       "              missing=nan, monotone_constraints=&#x27;()&#x27;, n_estimators=100,\n",
       "              n_jobs=0, num_parallel_tree=1, predictor=&#x27;auto&#x27;, random_state=0, ...)</pre><b>In a Jupyter environment, please rerun this cell to show the HTML representation or trust the notebook. <br />On GitHub, the HTML representation is unable to render, please try loading this page with nbviewer.org.</b></div><div class=\"sk-container\" hidden><div class=\"sk-item\"><div class=\"sk-estimator sk-toggleable\"><input class=\"sk-toggleable__control sk-hidden--visually\" id=\"sk-estimator-id-6\" type=\"checkbox\" checked><label for=\"sk-estimator-id-6\" class=\"sk-toggleable__label sk-toggleable__label-arrow\">XGBClassifier</label><div class=\"sk-toggleable__content\"><pre>XGBClassifier(base_score=0.5, booster=&#x27;gbtree&#x27;, callbacks=None,\n",
       "              colsample_bylevel=1, colsample_bynode=1, colsample_bytree=1,\n",
       "              early_stopping_rounds=None, enable_categorical=False,\n",
       "              eval_metric=None, feature_types=None, gamma=0, gpu_id=-1,\n",
       "              grow_policy=&#x27;depthwise&#x27;, importance_type=None,\n",
       "              interaction_constraints=&#x27;&#x27;, learning_rate=0.300000012,\n",
       "              max_bin=256, max_cat_threshold=64, max_cat_to_onehot=4,\n",
       "              max_delta_step=0, max_depth=6, max_leaves=0, min_child_weight=1,\n",
       "              missing=nan, monotone_constraints=&#x27;()&#x27;, n_estimators=100,\n",
       "              n_jobs=0, num_parallel_tree=1, predictor=&#x27;auto&#x27;, random_state=0, ...)</pre></div></div></div></div></div>"
      ],
      "text/plain": [
       "XGBClassifier(base_score=0.5, booster='gbtree', callbacks=None,\n",
       "              colsample_bylevel=1, colsample_bynode=1, colsample_bytree=1,\n",
       "              early_stopping_rounds=None, enable_categorical=False,\n",
       "              eval_metric=None, feature_types=None, gamma=0, gpu_id=-1,\n",
       "              grow_policy='depthwise', importance_type=None,\n",
       "              interaction_constraints='', learning_rate=0.300000012,\n",
       "              max_bin=256, max_cat_threshold=64, max_cat_to_onehot=4,\n",
       "              max_delta_step=0, max_depth=6, max_leaves=0, min_child_weight=1,\n",
       "              missing=nan, monotone_constraints='()', n_estimators=100,\n",
       "              n_jobs=0, num_parallel_tree=1, predictor='auto', random_state=0, ...)"
      ]
     },
     "execution_count": 55,
     "metadata": {},
     "output_type": "execute_result"
    }
   ],
   "source": [
    "model_xgboost = XGBClassifier()\n",
    "model_xgboost.fit(x_ce_train, y_ce_train)"
   ]
  },
  {
   "cell_type": "markdown",
   "id": "d7aa6212-21f7-46c8-b7af-dab07ced4269",
   "metadata": {},
   "source": [
    "Here we can finally apply our two models (the MLP and the BDT) to our test datasets and create the corresponding ROC curves."
   ]
  },
  {
   "cell_type": "code",
   "execution_count": 56,
   "id": "3dcbef70-e875-40dd-8a8f-5a66fc32fb1d",
   "metadata": {},
   "outputs": [
    {
     "name": "stdout",
     "output_type": "stream",
     "text": [
      "94/94 [==============================] - 0s 2ms/step\n"
     ]
    }
   ],
   "source": [
    "prediction_ce = model_ce.predict(x_ce_test).ravel()\n",
    "fpr_ce, tpr_ce, th_ce = roc_curve(y_ce_test,  prediction_ce)\n",
    "auc_ce = roc_auc_score(y_ce_test, prediction_ce)"
   ]
  },
  {
   "cell_type": "code",
   "execution_count": 57,
   "id": "cce6a838-1a4c-41e3-a2bb-46a270ad6d86",
   "metadata": {},
   "outputs": [],
   "source": [
    "prediction_xgboost = model_xgboost.predict_proba(x_ce_test)[:,1]\n",
    "fpr_xgboost, tpr_xgboost, th_xgboost = roc_curve(y_ce_test,  prediction_xgboost)\n",
    "auc_xgboost = roc_auc_score(y_ce_test, prediction_xgboost)"
   ]
  },
  {
   "cell_type": "markdown",
   "id": "a7f392a2-223f-4a47-81de-45dc56b8e42d",
   "metadata": {},
   "source": [
    "The plot of the ROC curves clearly shows that the BDT outperforms the MLP. In principle, however, it should be possible to improve the MLP performances by optimizing the hyperparameters (learning rate, hidden layers, activation functions, etc.)."
   ]
  },
  {
   "cell_type": "code",
   "execution_count": 58,
   "id": "def9b80f-d130-4ac0-bc19-ea03de7032f7",
   "metadata": {},
   "outputs": [
    {
     "data": {
      "image/png": "[encoded data removed]",
      "text/plain": [
       "<Figure size 640x480 with 1 Axes>"
      ]
     },
     "metadata": {},
     "output_type": "display_data"
    }
   ],
   "source": [
    "fig, ax = plt.subplots(1,1)\n",
    "ax.plot(tpr_ce,1-fpr_ce,label=f'MLP AUC: {auc_ce:.2f}')\n",
    "ax.plot(tpr_xgboost,1-fpr_xgboost,label=f'BDT AUC: {auc_xgboost:.2f}')\n",
    "\n",
    "ax.legend()\n",
    "ax.set_aspect(\"equal\")\n",
    "ax.set_xlabel(\"Signal efficiency\")\n",
    "ax.set_ylabel(\"Background rejection\")\n",
    "ax.set_xlim(0,1.05)\n",
    "ax.set_ylim(0,1.05)\n",
    "fig.savefig(\"truece.pdf\")"
   ]
  },
  {
   "cell_type": "code",
   "execution_count": 59,
   "id": "85abcc01-fbda-425c-b144-134519e20345",
   "metadata": {},
   "outputs": [
    {
     "name": "stdout",
     "output_type": "stream",
     "text": [
      "Model: \"sequential_8\"\n",
      "_________________________________________________________________\n",
      " Layer (type)                Output Shape              Param #   \n",
      "=================================================================\n",
      " dense_25 (Dense)            (None, 10)                100       \n",
      "                                                                 \n",
      " dense_26 (Dense)            (None, 10)                110       \n",
      "                                                                 \n",
      " dense_27 (Dense)            (None, 10)                110       \n",
      "                                                                 \n",
      " dense_28 (Dense)            (None, 1)                 11        \n",
      "                                                                 \n",
      "=================================================================\n",
      "Total params: 331\n",
      "Trainable params: 331\n",
      "Non-trainable params: 0\n",
      "_________________________________________________________________\n"
     ]
    }
   ],
   "source": [
    "model_ce.summary()\n",
    "model_ce.save(\"TrainBkg.h5\")"
   ]
  },
  {
   "cell_type": "code",
   "execution_count": null,
   "id": "2bd3a97a-d792-44ba-988a-bd41f9182be3",
   "metadata": {},
   "outputs": [],
   "source": []
  }
 ],
 "metadata": {
  "kernelspec": {
   "display_name": "KKTrain",
   "language": "python",
   "name": "kktrain"
  },
  "language_info": {
   "codemirror_mode": {
    "name": "ipython",
    "version": 3
   },
   "file_extension": ".py",
   "mimetype": "text/x-python",
   "name": "python",
   "nbconvert_exporter": "python",
   "pygments_lexer": "ipython3",
   "version": "3.10.8"
  }
 },
 "nbformat": 4,
 "nbformat_minor": 5
}
