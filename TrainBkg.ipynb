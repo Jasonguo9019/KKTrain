{
 "cells": [
  {
   "cell_type": "markdown",
   "id": "bb74a62f-a4a9-4e61-9415-58c8a06f5f75",
   "metadata": {},
   "source": [
    "# Hit classification"
   ]
  },
  {
   "cell_type": "markdown",
   "id": "8d61cb5d-7c43-4a94-9e3c-eb2889e69b88",
   "metadata": {},
   "source": [
    "In this notebook we will try to use Keras and XGBoost in order to distinguish between _true_ conversion electron hits and _fake_ conversion electron hits."
   ]
  },
  {
   "cell_type": "code",
   "execution_count": 1,
   "id": "52ce5426-86e5-4f6e-a7d5-a847d6e2ce97",
   "metadata": {
    "tags": []
   },
   "outputs": [
    {
     "name": "stderr",
     "output_type": "stream",
     "text": [
      "2022-11-04 13:24:19.235102: I tensorflow/core/platform/cpu_feature_guard.cc:193] This TensorFlow binary is optimized with oneAPI Deep Neural Network Library (oneDNN) to use the following CPU instructions in performance-critical operations:  SSE4.1 SSE4.2 AVX AVX2 FMA\n",
      "To enable them in other operations, rebuild TensorFlow with the appropriate compiler flags.\n"
     ]
    }
   ],
   "source": [
    "import uproot \n",
    "import awkward as ak\n",
    "import numpy as np\n",
    "import matplotlib.pyplot as plt\n",
    "from tensorflow.keras.callbacks import EarlyStopping\n",
    "from tensorflow.keras.models import Sequential, Model\n",
    "from tensorflow.keras.layers import Dense, Dropout\n",
    "from tensorflow.keras.optimizers import Adam\n",
    "from sklearn.model_selection import train_test_split\n",
    "from sklearn.metrics import roc_curve, roc_auc_score\n",
    "from xgboost import XGBClassifier"
   ]
  },
  {
   "cell_type": "markdown",
   "id": "13b18db5-7d46-40ed-9a1b-528d48256097",
   "metadata": {},
   "source": [
    "First of all we use [uproot](https://uproot.readthedocs.io/en/latest/), a library to reading ROOT files in pure Python and NumPy, to open the `trkana` tree in the `TAKK` folder of the `KKSM01.root` file. We only need certain branches, so we apply a filter to read only `de`, `detsh`, `detshmc`, and `demc`. We then apply a mask to our tree to select only good fits. "
   ]
  },
  {
   "cell_type": "code",
   "execution_count": 2,
   "id": "90450e58-8bce-4fae-be27-97d62d89be18",
   "metadata": {},
   "outputs": [],
   "source": [
    "with uproot.open(\"/global/cfs/cdirs/m3712/Mu2e/TrkAna/39501509/nts.brownd.KKSeed.KKSM.001210_00000005.root\") as file:\n",
    "    trkana = file[\"TAKK\"][\"trkana\"].arrays(filter_name=\"/de|detsh|detshmc|demc/i\")\n",
    "    trkana = trkana[(trkana['de.goodfit']==1)&(trkana['de.status']>0)&(trkana['demc.proc']==167)]\n",
    "#    trkana2 = file[\"TAKK\"][\"trkana\"].arrays(filter_name=\"/de|detsh|detshmc|demc/i\")\n",
    "#    trkana = trkana[(trkana['de.goodfit']==1)&(trkana['de.status']>0)&(trkana['demc.proc']==167)&(trkana['detshmc.rel._rel']==0)]\n",
    "#for array in uproot.iterate(\"/global/cfs/cdirs/m3712/Mu2e/TrkAna/39501509/nts.brownd.KKSeed.KKSM.001210_00000005.root:TAKK/trkana\", expressions=[\"detsh.udoca\",\"detsh.rdrift\"]):\n",
    "#        print(array)\n",
    "#        print(detsh)\n"
   ]
  },
  {
   "cell_type": "markdown",
   "id": "81afa96c-4517-4bca-95c5-53ef01a36dc8",
   "metadata": {},
   "source": [
    "Then, we select the first 10000 events in the tree and concatenate the lists of the hit variables in a single, large array. These 5 arrays are then stacked in a single bi-dimensional array with `np.vstack`, which will be our input dataset used for the training of the machine learning algorithms."
   ]
  },
  {
   "cell_type": "code",
   "execution_count": 3,
   "id": "33b84b76-ff6a-44f2-88d6-39cbeb3def87",
   "metadata": {},
   "outputs": [
    {
     "name": "stdout",
     "output_type": "stream",
     "text": [
      "(579521, 9)\n"
     ]
    }
   ],
   "source": [
    "n_events = 1000000\n",
    "    \n",
    "udt = ak.concatenate(trkana['detsh.udt'][:n_events]).to_numpy()\n",
    "udoca = ak.concatenate(trkana['detsh.udoca'][:n_events]).to_numpy()\n",
    "rdrift = ak.concatenate(trkana['detsh.rdrift'][:n_events]).to_numpy()\n",
    "tottdrift = ak.concatenate(trkana['detsh.tottdrift'][:n_events]).to_numpy()\n",
    "edep = ak.concatenate(trkana['detsh.edep'][:n_events]).to_numpy()\n",
    "udocavar = ak.concatenate(trkana['detsh.udocavar'][:n_events]).to_numpy()\n",
    "wdist = ak.concatenate(trkana['detsh.wdist'][:n_events]).to_numpy()\n",
    "uupos = ak.concatenate(trkana['detsh.uupos'][:n_events]).to_numpy()\n",
    "rho = np.square(ak.concatenate(trkana['detsh.poca.fCoordinates.fX'][:n_events]).to_numpy())\n",
    "rho = np.add(rho,np.square(ak.concatenate(trkana['detsh.poca.fCoordinates.fY'][:n_events]).to_numpy()))\n",
    "rho = np.sqrt(rho)\n",
    "#print(rho)\n",
    "input_dataset = np.vstack((udt,udoca,rdrift,tottdrift,edep,udocavar,wdist,uupos,rho)).T\n",
    "print(np.shape(input_dataset))"
   ]
  },
  {
   "cell_type": "markdown",
   "id": "0167fc47-dd84-4a31-98d0-a0270f04bfd5",
   "metadata": {},
   "source": [
    "Here we then assign a label to each hit as _signal_ or _background_, depending on the Monte Carlo truth information. Since the dimension of  `detshmc.rel._rel` is not guaranteed to be the same as the dimension of `detsh` we need to loop over all the entries."
   ]
  },
  {
   "cell_type": "code",
   "execution_count": 4,
   "id": "e546d312-4d8b-4757-9b0e-7293d9eae321",
   "metadata": {},
   "outputs": [],
   "source": [
    "mcrel = []\n",
    "\n",
    "for i, this_dt in enumerate(trkana['detsh.udt'][:n_events]):\n",
    "    mcrel.extend(trkana['detshmc.rel._rel'][i][:len(this_dt)])\n",
    "    \n",
    "mcrel = np.array(mcrel)\n",
    "true_ce = mcrel==0\n",
    "    \n",
    "signal = true_ce\n",
    "bkg = mcrel==-1"
   ]
  },
  {
   "cell_type": "markdown",
   "id": "0c2e8445-92ff-416f-a9a8-2d071b1f0bb9",
   "metadata": {},
   "source": [
    "In our problem we have a different number of signal and background entries in our input dataset. There are several techniques avaialable for _unbalanced_ datasets. Here we are using the most naive one, which is just using $\\min(N_{sig}, N_{bkg})$ events. Then, we divide our input into the _training_, _validation_, and _test_ datasets."
   ]
  },
  {
   "cell_type": "code",
   "execution_count": 5,
   "id": "2ed7b23e-d3ab-4645-a905-c3d4090eb7ab",
   "metadata": {},
   "outputs": [
    {
     "name": "stdout",
     "output_type": "stream",
     "text": [
      "5995\n"
     ]
    }
   ],
   "source": [
    "min_len = min(len(input_dataset[signal]), len(input_dataset[bkg]))\n",
    "signal_dataset = input_dataset[signal][:min_len]\n",
    "bkg_dataset = input_dataset[bkg][:min_len]\n",
    "print(min_len)\n",
    "\n",
    "balanced_input = np.concatenate((signal_dataset, bkg_dataset))\n",
    "y_balanced_input = np.concatenate((np.ones(signal_dataset.shape[0]), np.zeros(bkg_dataset.shape[0])))\n",
    "\n",
    "n_variables = balanced_input.shape[1]\n",
    "\n",
    "x_ce_train, x_ce_test, y_ce_train, y_ce_test = train_test_split(balanced_input, y_balanced_input, test_size=0.5, random_state=42)\n",
    "x_ce_test, x_ce_valid, y_ce_test, y_ce_valid = train_test_split(x_ce_test, y_ce_test, test_size=0.5, random_state=42)"
   ]
  },
  {
   "cell_type": "markdown",
   "id": "414715a1-8fe6-47d2-b856-76e7f09a30c5",
   "metadata": {},
   "source": [
    "## Create and train a multi-layer perceptron"
   ]
  },
  {
   "cell_type": "markdown",
   "id": "5d3968ba-51a2-45c8-9882-c989a3f7d691",
   "metadata": {},
   "source": [
    "Here we create a _multi-layer perceptron_ (MLP) model which consists of 3 fully-connected (or _dense_) layers, each one followed by a _dropout_ layer, which helps to avoid overfitting. The model is trained using the [Adam](https://arxiv.org/abs/1412.6980) optimizer and trained for 50 epochs or until the validation loss doesn't improve for 5 epochs (`early_stop`). "
   ]
  },
  {
   "cell_type": "code",
   "execution_count": 7,
   "id": "6be3a800-39dd-41ff-bd78-c5156fd4919c",
   "metadata": {},
   "outputs": [
    {
     "name": "stdout",
     "output_type": "stream",
     "text": [
      "Epoch 1/100\n",
      "188/188 [==============================] - 2s 6ms/step - loss: 3.9960 - accuracy: 0.6120 - val_loss: 0.4957 - val_accuracy: 0.7985\n",
      "Epoch 2/100\n",
      "188/188 [==============================] - 1s 4ms/step - loss: 1.0013 - accuracy: 0.6814 - val_loss: 0.4493 - val_accuracy: 0.8012\n",
      "Epoch 3/100\n",
      "188/188 [==============================] - 1s 4ms/step - loss: 0.6869 - accuracy: 0.7016 - val_loss: 0.4528 - val_accuracy: 0.8205\n",
      "Epoch 4/100\n",
      "188/188 [==============================] - 1s 5ms/step - loss: 0.5770 - accuracy: 0.7298 - val_loss: 0.4594 - val_accuracy: 0.8162\n",
      "Epoch 5/100\n",
      "188/188 [==============================] - 1s 5ms/step - loss: 0.5285 - accuracy: 0.7456 - val_loss: 0.4557 - val_accuracy: 0.8222\n",
      "Epoch 6/100\n",
      "188/188 [==============================] - 1s 4ms/step - loss: 0.5054 - accuracy: 0.7653 - val_loss: 0.4477 - val_accuracy: 0.8039\n",
      "Epoch 7/100\n",
      "188/188 [==============================] - 1s 5ms/step - loss: 0.4871 - accuracy: 0.7703 - val_loss: 0.4421 - val_accuracy: 0.8139\n",
      "Epoch 8/100\n",
      "188/188 [==============================] - 1s 5ms/step - loss: 0.4893 - accuracy: 0.7788 - val_loss: 0.4266 - val_accuracy: 0.8155\n",
      "Epoch 9/100\n",
      "188/188 [==============================] - 1s 5ms/step - loss: 0.4646 - accuracy: 0.7900 - val_loss: 0.4162 - val_accuracy: 0.8262\n",
      "Epoch 10/100\n",
      "188/188 [==============================] - 1s 4ms/step - loss: 0.4538 - accuracy: 0.7972 - val_loss: 0.3947 - val_accuracy: 0.8372\n",
      "Epoch 11/100\n",
      "188/188 [==============================] - 1s 5ms/step - loss: 0.4329 - accuracy: 0.8098 - val_loss: 0.3768 - val_accuracy: 0.8366\n",
      "Epoch 12/100\n",
      "188/188 [==============================] - 1s 5ms/step - loss: 0.4158 - accuracy: 0.8217 - val_loss: 0.3597 - val_accuracy: 0.8516\n",
      "Epoch 13/100\n",
      "188/188 [==============================] - 1s 4ms/step - loss: 0.4011 - accuracy: 0.8290 - val_loss: 0.3457 - val_accuracy: 0.8626\n",
      "Epoch 14/100\n",
      "188/188 [==============================] - 1s 5ms/step - loss: 0.3957 - accuracy: 0.8312 - val_loss: 0.3376 - val_accuracy: 0.8596\n",
      "Epoch 15/100\n",
      "188/188 [==============================] - 1s 5ms/step - loss: 0.3729 - accuracy: 0.8434 - val_loss: 0.3136 - val_accuracy: 0.8669\n",
      "Epoch 16/100\n",
      "188/188 [==============================] - 1s 5ms/step - loss: 0.3809 - accuracy: 0.8389 - val_loss: 0.3193 - val_accuracy: 0.8712\n",
      "Epoch 17/100\n",
      "188/188 [==============================] - 1s 5ms/step - loss: 0.3525 - accuracy: 0.8537 - val_loss: 0.2964 - val_accuracy: 0.8826\n",
      "Epoch 18/100\n",
      "188/188 [==============================] - 1s 5ms/step - loss: 0.3383 - accuracy: 0.8622 - val_loss: 0.2890 - val_accuracy: 0.8856\n",
      "Epoch 19/100\n",
      "188/188 [==============================] - 1s 4ms/step - loss: 0.3360 - accuracy: 0.8646 - val_loss: 0.2833 - val_accuracy: 0.8863\n",
      "Epoch 20/100\n",
      "188/188 [==============================] - 1s 5ms/step - loss: 0.3318 - accuracy: 0.8714 - val_loss: 0.2889 - val_accuracy: 0.8906\n",
      "Epoch 21/100\n",
      "188/188 [==============================] - 1s 4ms/step - loss: 0.3194 - accuracy: 0.8757 - val_loss: 0.2810 - val_accuracy: 0.8936\n",
      "Epoch 22/100\n",
      "188/188 [==============================] - 1s 5ms/step - loss: 0.3023 - accuracy: 0.8819 - val_loss: 0.2572 - val_accuracy: 0.9003\n",
      "Epoch 23/100\n",
      "188/188 [==============================] - 1s 4ms/step - loss: 0.2961 - accuracy: 0.8891 - val_loss: 0.2457 - val_accuracy: 0.9073\n",
      "Epoch 24/100\n",
      "188/188 [==============================] - 1s 4ms/step - loss: 0.2872 - accuracy: 0.8906 - val_loss: 0.2361 - val_accuracy: 0.9153\n",
      "Epoch 25/100\n",
      "188/188 [==============================] - 1s 4ms/step - loss: 0.2796 - accuracy: 0.8937 - val_loss: 0.2299 - val_accuracy: 0.9139\n",
      "Epoch 26/100\n",
      "188/188 [==============================] - 1s 4ms/step - loss: 0.2730 - accuracy: 0.9006 - val_loss: 0.2314 - val_accuracy: 0.9096\n",
      "Epoch 27/100\n",
      "188/188 [==============================] - 1s 5ms/step - loss: 0.2609 - accuracy: 0.9054 - val_loss: 0.2182 - val_accuracy: 0.9236\n",
      "Epoch 28/100\n",
      "188/188 [==============================] - 1s 5ms/step - loss: 0.2475 - accuracy: 0.9074 - val_loss: 0.1979 - val_accuracy: 0.9256\n",
      "Epoch 29/100\n",
      "188/188 [==============================] - 1s 4ms/step - loss: 0.2350 - accuracy: 0.9153 - val_loss: 0.1891 - val_accuracy: 0.9316\n",
      "Epoch 30/100\n",
      "188/188 [==============================] - 1s 5ms/step - loss: 0.2331 - accuracy: 0.9168 - val_loss: 0.1926 - val_accuracy: 0.9283\n",
      "Epoch 31/100\n",
      "188/188 [==============================] - 1s 5ms/step - loss: 0.2239 - accuracy: 0.9168 - val_loss: 0.1912 - val_accuracy: 0.9340\n",
      "Epoch 32/100\n",
      "188/188 [==============================] - 1s 4ms/step - loss: 0.2287 - accuracy: 0.9196 - val_loss: 0.1802 - val_accuracy: 0.9336\n",
      "Epoch 33/100\n",
      "188/188 [==============================] - 1s 6ms/step - loss: 0.2148 - accuracy: 0.9233 - val_loss: 0.1794 - val_accuracy: 0.9350\n",
      "Epoch 34/100\n",
      "188/188 [==============================] - 1s 4ms/step - loss: 0.2093 - accuracy: 0.9246 - val_loss: 0.1864 - val_accuracy: 0.9426\n",
      "Epoch 35/100\n",
      "188/188 [==============================] - 1s 4ms/step - loss: 0.2062 - accuracy: 0.9258 - val_loss: 0.1748 - val_accuracy: 0.9413\n",
      "Epoch 36/100\n",
      "188/188 [==============================] - 1s 4ms/step - loss: 0.2037 - accuracy: 0.9299 - val_loss: 0.1785 - val_accuracy: 0.9406\n",
      "Epoch 37/100\n",
      "188/188 [==============================] - 1s 4ms/step - loss: 0.1942 - accuracy: 0.9333 - val_loss: 0.1674 - val_accuracy: 0.9380\n",
      "Epoch 38/100\n",
      "188/188 [==============================] - 1s 5ms/step - loss: 0.1977 - accuracy: 0.9293 - val_loss: 0.1609 - val_accuracy: 0.9403\n",
      "Epoch 39/100\n",
      "188/188 [==============================] - 1s 4ms/step - loss: 0.1973 - accuracy: 0.9323 - val_loss: 0.1709 - val_accuracy: 0.9436\n",
      "Epoch 40/100\n",
      "188/188 [==============================] - 1s 6ms/step - loss: 0.1871 - accuracy: 0.9333 - val_loss: 0.1690 - val_accuracy: 0.9403\n",
      "Epoch 41/100\n",
      "188/188 [==============================] - 1s 6ms/step - loss: 0.1929 - accuracy: 0.9349 - val_loss: 0.1704 - val_accuracy: 0.9440\n",
      "Epoch 42/100\n",
      "188/188 [==============================] - 1s 4ms/step - loss: 0.1788 - accuracy: 0.9391 - val_loss: 0.1596 - val_accuracy: 0.9466\n",
      "Epoch 43/100\n",
      "188/188 [==============================] - 1s 4ms/step - loss: 0.1898 - accuracy: 0.9326 - val_loss: 0.1865 - val_accuracy: 0.9280\n",
      "Epoch 44/100\n",
      "188/188 [==============================] - 1s 4ms/step - loss: 0.1808 - accuracy: 0.9336 - val_loss: 0.1595 - val_accuracy: 0.9470\n",
      "Epoch 45/100\n",
      "188/188 [==============================] - 1s 4ms/step - loss: 0.1827 - accuracy: 0.9333 - val_loss: 0.1619 - val_accuracy: 0.9416\n",
      "Epoch 46/100\n",
      "188/188 [==============================] - 1s 4ms/step - loss: 0.1741 - accuracy: 0.9393 - val_loss: 0.1645 - val_accuracy: 0.9483\n",
      "Epoch 47/100\n",
      "188/188 [==============================] - 1s 4ms/step - loss: 0.1824 - accuracy: 0.9346 - val_loss: 0.1550 - val_accuracy: 0.9470\n",
      "Epoch 48/100\n",
      "188/188 [==============================] - 1s 4ms/step - loss: 0.1725 - accuracy: 0.9373 - val_loss: 0.1564 - val_accuracy: 0.9473\n",
      "Epoch 49/100\n",
      "188/188 [==============================] - 1s 4ms/step - loss: 0.1730 - accuracy: 0.9371 - val_loss: 0.1443 - val_accuracy: 0.9500\n",
      "Epoch 50/100\n",
      "188/188 [==============================] - 1s 4ms/step - loss: 0.1670 - accuracy: 0.9405 - val_loss: 0.1495 - val_accuracy: 0.9463\n",
      "Epoch 51/100\n",
      "188/188 [==============================] - 1s 3ms/step - loss: 0.1658 - accuracy: 0.9401 - val_loss: 0.1501 - val_accuracy: 0.9450\n",
      "Epoch 52/100\n",
      "188/188 [==============================] - 1s 4ms/step - loss: 0.1713 - accuracy: 0.9386 - val_loss: 0.1442 - val_accuracy: 0.9520\n",
      "Epoch 53/100\n",
      "188/188 [==============================] - 1s 4ms/step - loss: 0.1749 - accuracy: 0.9378 - val_loss: 0.1497 - val_accuracy: 0.9493\n",
      "Epoch 54/100\n",
      "188/188 [==============================] - 1s 3ms/step - loss: 0.1727 - accuracy: 0.9396 - val_loss: 0.1503 - val_accuracy: 0.9483\n",
      "Epoch 55/100\n",
      "188/188 [==============================] - 1s 3ms/step - loss: 0.1703 - accuracy: 0.9374 - val_loss: 0.1549 - val_accuracy: 0.9510\n",
      "Epoch 56/100\n",
      "188/188 [==============================] - 1s 3ms/step - loss: 0.1643 - accuracy: 0.9438 - val_loss: 0.1630 - val_accuracy: 0.9486\n",
      "Epoch 57/100\n",
      "188/188 [==============================] - 1s 4ms/step - loss: 0.1679 - accuracy: 0.9386 - val_loss: 0.1618 - val_accuracy: 0.9420\n"
     ]
    }
   ],
   "source": [
    "opt = Adam(learning_rate=1e-3)\n",
    "\n",
    "model_ce = Sequential()\n",
    "model_ce.add(Dense(n_variables*8, activation='relu', input_shape=(n_variables,)))\n",
    "model_ce.add(Dropout(0.2))\n",
    "model_ce.add(Dense(n_variables*8, activation='relu'))\n",
    "model_ce.add(Dropout(0.2))\n",
    "model_ce.add(Dense(n_variables*8, activation='relu'))\n",
    "model_ce.add(Dropout(0.2))\n",
    "model_ce.add(Dense(1, activation='sigmoid'))\n",
    "model_ce.compile(loss='binary_crossentropy',\n",
    "                 metrics='accuracy',\n",
    "                 optimizer=opt)\n",
    "\n",
    "early_stop = EarlyStopping(monitor='val_loss', patience=5)\n",
    "history_ce = model_ce.fit(x_ce_train, y_ce_train,\n",
    "                          epochs=100,\n",
    "                          verbose=1,\n",
    "                          validation_data=(x_ce_valid, y_ce_valid),\n",
    "                          callbacks=[early_stop])"
   ]
  },
  {
   "cell_type": "markdown",
   "id": "e78fb06e-22e5-4ecb-b2c5-48b591268733",
   "metadata": {},
   "source": [
    "## Create and train a Boosted Decision Tree\n",
    "Here, instead of using a MLP, we use a [_Gradient Boosted Decision Tree_](https://xgboost.readthedocs.io/en/stable/) (BDT) to distinguish between signal (true CE hits) and background (fake CE hits). We use the defualt hyperparameters."
   ]
  },
  {
   "cell_type": "code",
   "execution_count": 8,
   "id": "698e5894-b4e3-405c-a99b-c76b2f12403b",
   "metadata": {},
   "outputs": [
    {
     "data": {
      "text/html": [
       "<style>#sk-container-id-1 {color: black;background-color: white;}#sk-container-id-1 pre{padding: 0;}#sk-container-id-1 div.sk-toggleable {background-color: white;}#sk-container-id-1 label.sk-toggleable__label {cursor: pointer;display: block;width: 100%;margin-bottom: 0;padding: 0.3em;box-sizing: border-box;text-align: center;}#sk-container-id-1 label.sk-toggleable__label-arrow:before {content: \"▸\";float: left;margin-right: 0.25em;color: #696969;}#sk-container-id-1 label.sk-toggleable__label-arrow:hover:before {color: black;}#sk-container-id-1 div.sk-estimator:hover label.sk-toggleable__label-arrow:before {color: black;}#sk-container-id-1 div.sk-toggleable__content {max-height: 0;max-width: 0;overflow: hidden;text-align: left;background-color: #f0f8ff;}#sk-container-id-1 div.sk-toggleable__content pre {margin: 0.2em;color: black;border-radius: 0.25em;background-color: #f0f8ff;}#sk-container-id-1 input.sk-toggleable__control:checked~div.sk-toggleable__content {max-height: 200px;max-width: 100%;overflow: auto;}#sk-container-id-1 input.sk-toggleable__control:checked~label.sk-toggleable__label-arrow:before {content: \"▾\";}#sk-container-id-1 div.sk-estimator input.sk-toggleable__control:checked~label.sk-toggleable__label {background-color: #d4ebff;}#sk-container-id-1 div.sk-label input.sk-toggleable__control:checked~label.sk-toggleable__label {background-color: #d4ebff;}#sk-container-id-1 input.sk-hidden--visually {border: 0;clip: rect(1px 1px 1px 1px);clip: rect(1px, 1px, 1px, 1px);height: 1px;margin: -1px;overflow: hidden;padding: 0;position: absolute;width: 1px;}#sk-container-id-1 div.sk-estimator {font-family: monospace;background-color: #f0f8ff;border: 1px dotted black;border-radius: 0.25em;box-sizing: border-box;margin-bottom: 0.5em;}#sk-container-id-1 div.sk-estimator:hover {background-color: #d4ebff;}#sk-container-id-1 div.sk-parallel-item::after {content: \"\";width: 100%;border-bottom: 1px solid gray;flex-grow: 1;}#sk-container-id-1 div.sk-label:hover label.sk-toggleable__label {background-color: #d4ebff;}#sk-container-id-1 div.sk-serial::before {content: \"\";position: absolute;border-left: 1px solid gray;box-sizing: border-box;top: 0;bottom: 0;left: 50%;z-index: 0;}#sk-container-id-1 div.sk-serial {display: flex;flex-direction: column;align-items: center;background-color: white;padding-right: 0.2em;padding-left: 0.2em;position: relative;}#sk-container-id-1 div.sk-item {position: relative;z-index: 1;}#sk-container-id-1 div.sk-parallel {display: flex;align-items: stretch;justify-content: center;background-color: white;position: relative;}#sk-container-id-1 div.sk-item::before, #sk-container-id-1 div.sk-parallel-item::before {content: \"\";position: absolute;border-left: 1px solid gray;box-sizing: border-box;top: 0;bottom: 0;left: 50%;z-index: -1;}#sk-container-id-1 div.sk-parallel-item {display: flex;flex-direction: column;z-index: 1;position: relative;background-color: white;}#sk-container-id-1 div.sk-parallel-item:first-child::after {align-self: flex-end;width: 50%;}#sk-container-id-1 div.sk-parallel-item:last-child::after {align-self: flex-start;width: 50%;}#sk-container-id-1 div.sk-parallel-item:only-child::after {width: 0;}#sk-container-id-1 div.sk-dashed-wrapped {border: 1px dashed gray;margin: 0 0.4em 0.5em 0.4em;box-sizing: border-box;padding-bottom: 0.4em;background-color: white;}#sk-container-id-1 div.sk-label label {font-family: monospace;font-weight: bold;display: inline-block;line-height: 1.2em;}#sk-container-id-1 div.sk-label-container {text-align: center;}#sk-container-id-1 div.sk-container {/* jupyter's `normalize.less` sets `[hidden] { display: none; }` but bootstrap.min.css set `[hidden] { display: none !important; }` so we also need the `!important` here to be able to override the default hidden behavior on the sphinx rendered scikit-learn.org. See: https://github.com/scikit-learn/scikit-learn/issues/21755 */display: inline-block !important;position: relative;}#sk-container-id-1 div.sk-text-repr-fallback {display: none;}</style><div id=\"sk-container-id-1\" class=\"sk-top-container\"><div class=\"sk-text-repr-fallback\"><pre>XGBClassifier(base_score=0.5, booster=&#x27;gbtree&#x27;, callbacks=None,\n",
       "              colsample_bylevel=1, colsample_bynode=1, colsample_bytree=1,\n",
       "              early_stopping_rounds=None, enable_categorical=False,\n",
       "              eval_metric=None, gamma=0, gpu_id=-1, grow_policy=&#x27;depthwise&#x27;,\n",
       "              importance_type=None, interaction_constraints=&#x27;&#x27;,\n",
       "              learning_rate=0.300000012, max_bin=256, max_cat_to_onehot=4,\n",
       "              max_delta_step=0, max_depth=6, max_leaves=0, min_child_weight=1,\n",
       "              missing=nan, monotone_constraints=&#x27;()&#x27;, n_estimators=100,\n",
       "              n_jobs=0, num_parallel_tree=1, predictor=&#x27;auto&#x27;, random_state=0,\n",
       "              reg_alpha=0, reg_lambda=1, ...)</pre><b>In a Jupyter environment, please rerun this cell to show the HTML representation or trust the notebook. <br />On GitHub, the HTML representation is unable to render, please try loading this page with nbviewer.org.</b></div><div class=\"sk-container\" hidden><div class=\"sk-item\"><div class=\"sk-estimator sk-toggleable\"><input class=\"sk-toggleable__control sk-hidden--visually\" id=\"sk-estimator-id-1\" type=\"checkbox\" checked><label for=\"sk-estimator-id-1\" class=\"sk-toggleable__label sk-toggleable__label-arrow\">XGBClassifier</label><div class=\"sk-toggleable__content\"><pre>XGBClassifier(base_score=0.5, booster=&#x27;gbtree&#x27;, callbacks=None,\n",
       "              colsample_bylevel=1, colsample_bynode=1, colsample_bytree=1,\n",
       "              early_stopping_rounds=None, enable_categorical=False,\n",
       "              eval_metric=None, gamma=0, gpu_id=-1, grow_policy=&#x27;depthwise&#x27;,\n",
       "              importance_type=None, interaction_constraints=&#x27;&#x27;,\n",
       "              learning_rate=0.300000012, max_bin=256, max_cat_to_onehot=4,\n",
       "              max_delta_step=0, max_depth=6, max_leaves=0, min_child_weight=1,\n",
       "              missing=nan, monotone_constraints=&#x27;()&#x27;, n_estimators=100,\n",
       "              n_jobs=0, num_parallel_tree=1, predictor=&#x27;auto&#x27;, random_state=0,\n",
       "              reg_alpha=0, reg_lambda=1, ...)</pre></div></div></div></div></div>"
      ],
      "text/plain": [
       "XGBClassifier(base_score=0.5, booster='gbtree', callbacks=None,\n",
       "              colsample_bylevel=1, colsample_bynode=1, colsample_bytree=1,\n",
       "              early_stopping_rounds=None, enable_categorical=False,\n",
       "              eval_metric=None, gamma=0, gpu_id=-1, grow_policy='depthwise',\n",
       "              importance_type=None, interaction_constraints='',\n",
       "              learning_rate=0.300000012, max_bin=256, max_cat_to_onehot=4,\n",
       "              max_delta_step=0, max_depth=6, max_leaves=0, min_child_weight=1,\n",
       "              missing=nan, monotone_constraints='()', n_estimators=100,\n",
       "              n_jobs=0, num_parallel_tree=1, predictor='auto', random_state=0,\n",
       "              reg_alpha=0, reg_lambda=1, ...)"
      ]
     },
     "execution_count": 8,
     "metadata": {},
     "output_type": "execute_result"
    }
   ],
   "source": [
    "model_xgboost = XGBClassifier()\n",
    "model_xgboost.fit(x_ce_train, y_ce_train)"
   ]
  },
  {
   "cell_type": "markdown",
   "id": "d7aa6212-21f7-46c8-b7af-dab07ced4269",
   "metadata": {},
   "source": [
    "Here we can finally apply our two models (the MLP and the BDT) to our test datasets and create the corresponding ROC curves."
   ]
  },
  {
   "cell_type": "code",
   "execution_count": 9,
   "id": "3dcbef70-e875-40dd-8a8f-5a66fc32fb1d",
   "metadata": {},
   "outputs": [
    {
     "name": "stdout",
     "output_type": "stream",
     "text": [
      "94/94 [==============================] - 0s 965us/step\n"
     ]
    }
   ],
   "source": [
    "prediction_ce = model_ce.predict(x_ce_test).ravel()\n",
    "fpr_ce, tpr_ce, th_ce = roc_curve(y_ce_test,  prediction_ce)\n",
    "auc_ce = roc_auc_score(y_ce_test, prediction_ce)"
   ]
  },
  {
   "cell_type": "code",
   "execution_count": 10,
   "id": "cce6a838-1a4c-41e3-a2bb-46a270ad6d86",
   "metadata": {},
   "outputs": [],
   "source": [
    "prediction_xgboost = model_xgboost.predict_proba(x_ce_test)[:,1]\n",
    "fpr_xgboost, tpr_xgboost, th_xgboost = roc_curve(y_ce_test,  prediction_xgboost)\n",
    "auc_xgboost = roc_auc_score(y_ce_test, prediction_xgboost)"
   ]
  },
  {
   "cell_type": "markdown",
   "id": "a7f392a2-223f-4a47-81de-45dc56b8e42d",
   "metadata": {},
   "source": [
    "The plot of the ROC curves clearly shows that the BDT outperforms the MLP. In principle, however, it should be possible to improve the MLP performances by optimizing the hyperparameters (learning rate, hidden layers, activation functions, etc.)."
   ]
  },
  {
   "cell_type": "code",
   "execution_count": 11,
   "id": "def9b80f-d130-4ac0-bc19-ea03de7032f7",
   "metadata": {},
   "outputs": [
    {
     "data": {
      "image/png": "[encoded data removed]",
      "text/plain": [
       "<Figure size 640x480 with 1 Axes>"
      ]
     },
     "metadata": {},
     "output_type": "display_data"
    }
   ],
   "source": [
    "fig, ax = plt.subplots(1,1)\n",
    "ax.plot(tpr_ce,1-fpr_ce,label=f'MLP AUC: {auc_ce:.2f}')\n",
    "ax.plot(tpr_xgboost,1-fpr_xgboost,label=f'BDT AUC: {auc_xgboost:.2f}')\n",
    "\n",
    "ax.legend()\n",
    "ax.set_aspect(\"equal\")\n",
    "ax.set_xlabel(\"Signal efficiency\")\n",
    "ax.set_ylabel(\"Background rejection\")\n",
    "ax.set_xlim(0,1.05)\n",
    "ax.set_ylim(0,1.05)\n",
    "fig.savefig(\"truece.pdf\")"
   ]
  },
  {
   "cell_type": "code",
   "execution_count": null,
   "id": "65ebbd1c-7365-43ce-acb3-873ad2f17d30",
   "metadata": {},
   "outputs": [],
   "source": []
  }
 ],
 "metadata": {
  "kernelspec": {
   "display_name": "NERSC Python",
   "language": "python",
   "name": "python3"
  },
  "language_info": {
   "codemirror_mode": {
    "name": "ipython",
    "version": 3
   },
   "file_extension": ".py",
   "mimetype": "text/x-python",
   "name": "python",
   "nbconvert_exporter": "python",
   "pygments_lexer": "ipython3",
   "version": "3.9.7"
  }
 },
 "nbformat": 4,
 "nbformat_minor": 5
}
